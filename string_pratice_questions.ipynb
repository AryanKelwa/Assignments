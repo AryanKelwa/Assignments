{
 "cells": [
  {
   "cell_type": "code",
   "execution_count": 6,
   "id": "a0ff8ed9-ac9d-446e-94f0-95f5d1458f26",
   "metadata": {},
   "outputs": [
    {
     "name": "stdin",
     "output_type": "stream",
     "text": [
      "Enter a string abcdef\n"
     ]
    },
    {
     "name": "stdout",
     "output_type": "stream",
     "text": [
      "reversed string is fedcba\n"
     ]
    }
   ],
   "source": [
    "s1=str(input(\"Enter a string\"))\n",
    "rev_s1=s1[-1:-100:-1]\n",
    "print(\"reversed string is\",rev_s1)"
   ]
  },
  {
   "cell_type": "code",
   "execution_count": 7,
   "id": "d0bc22ef-5c0d-4fa1-bad2-ed9b61137bde",
   "metadata": {},
   "outputs": [
    {
     "name": "stdin",
     "output_type": "stream",
     "text": [
      "Enter a string to check palindrome madam\n"
     ]
    },
    {
     "name": "stdout",
     "output_type": "stream",
     "text": [
      "String is pallindrome\n"
     ]
    }
   ],
   "source": [
    "s2=str(input(\"Enter a string to check palindrome\"))\n",
    "modified_s2=s2.replace(\" \",\"\")\n",
    "rev_s2=modified_s2[-1::-1]\n",
    "if modified_s2 == rev_s2:\n",
    "    print(\"String is pallindrome\")\n",
    "else:\n",
    "    print(\"string is not pallindrome\")"
   ]
  },
  {
   "cell_type": "code",
   "execution_count": 9,
   "id": "d0eefe1f-d8f1-4e3c-931c-385ab9be2a1b",
   "metadata": {},
   "outputs": [
    {
     "name": "stdin",
     "output_type": "stream",
     "text": [
      "Enter a string SDFSNFKJASN\n"
     ]
    },
    {
     "name": "stdout",
     "output_type": "stream",
     "text": [
      "lower case string is :  sdfsnfkjasn\n"
     ]
    }
   ],
   "source": [
    "s3=str(input(\"Enter a string\"))\n",
    "s3_lower=s3.lower()\n",
    "print(\"lower case string is : \",s3_lower)"
   ]
  },
  {
   "cell_type": "code",
   "execution_count": 12,
   "id": "acacead2-ba91-4097-8e38-f07fad930b30",
   "metadata": {},
   "outputs": [
    {
     "name": "stdin",
     "output_type": "stream",
     "text": [
      "Enter a string abcdefghijklmnopqrstuvwxyz\n"
     ]
    },
    {
     "name": "stdout",
     "output_type": "stream",
     "text": [
      "upper case string is :  ABCDEFGHIJKLMNOPQRSTUVWXYZ\n"
     ]
    }
   ],
   "source": [
    "s4=str(input(\"Enter a string\"))\n",
    "s4_upper=s4.upper()\n",
    "print(\"upper case string is : \",s4_upper)"
   ]
  },
  {
   "cell_type": "code",
   "execution_count": 14,
   "id": "8329006d-c87d-4ac1-b200-23ef1e223565",
   "metadata": {},
   "outputs": [
    {
     "name": "stdin",
     "output_type": "stream",
     "text": [
      "Enter a string expected outcome\n"
     ]
    },
    {
     "name": "stdout",
     "output_type": "stream",
     "text": [
      "no. of vowels are : 7\n"
     ]
    }
   ],
   "source": [
    "s5=str(input(\"Enter a string\"))\n",
    "\n",
    "s5_count=0\n",
    "\n",
    "for char in s5:\n",
    "    if char in \"aeiouAEIOU\":\n",
    "        s5_count=s5_count+1\n",
    "        \n",
    "print(\"no. of vowels are :\",s5_count)\n"
   ]
  },
  {
   "cell_type": "code",
   "execution_count": 16,
   "id": "cdec5d93-5629-44e0-b07b-fb69247d96d6",
   "metadata": {},
   "outputs": [
    {
     "name": "stdin",
     "output_type": "stream",
     "text": [
      "Enter a string sum of 2 , 2 is 4\n"
     ]
    },
    {
     "name": "stdout",
     "output_type": "stream",
     "text": [
      "no. of constants are : 3\n"
     ]
    }
   ],
   "source": [
    "s6=str(input(\"Enter a string\"))\n",
    "\n",
    "s6_count=0\n",
    "\n",
    "for char in s6:\n",
    "    if char in \"1234567890\":\n",
    "        s6_count=s6_count+1\n",
    "        \n",
    "print(\"no. of constants are :\",s6_count)"
   ]
  },
  {
   "cell_type": "code",
   "execution_count": 17,
   "id": "499ff216-ad85-4a5e-a412-b96937be9e4c",
   "metadata": {},
   "outputs": [
    {
     "name": "stdin",
     "output_type": "stream",
     "text": [
      "Enter a string  Rabbit runs faster than Turtoise\n"
     ]
    },
    {
     "name": "stdout",
     "output_type": "stream",
     "text": [
      "arter removing white spaces RabbitrunsfasterthanTurtoise\n"
     ]
    }
   ],
   "source": [
    "s7=str(input(\"Enter a string \"))\n",
    "modified_s7=s7.replace(\" \",\"\")\n",
    "print(\"arter removing white spaces\",modified_s7)"
   ]
  },
  {
   "cell_type": "code",
   "execution_count": 22,
   "id": "348a2a56-36bc-4b5f-b508-ca3e08aa8b04",
   "metadata": {},
   "outputs": [
    {
     "name": "stdin",
     "output_type": "stream",
     "text": [
      "Enter a string  the earth is very beautifull \n",
      "enter as word to search earth\n"
     ]
    },
    {
     "name": "stdout",
     "output_type": "stream",
     "text": [
      "word is found\n"
     ]
    }
   ],
   "source": [
    "s8=str(input(\"Enter a string \"))\n",
    "word=str(input(\"enter as word to search\"))\n",
    "modified_s8=s8.split()\n",
    "flag=0\n",
    "         \n",
    "for ptr in modified_s8:\n",
    "    if word in modified_s8:\n",
    "        flag=1\n",
    "if flag==1:\n",
    "    print(\"word is found\")\n",
    "else:\n",
    "    print(\"word is not found\")\n"
   ]
  },
  {
   "cell_type": "code",
   "execution_count": 2,
   "id": "4680f5cb-673f-4159-a59a-5247d5146583",
   "metadata": {},
   "outputs": [
    {
     "name": "stdin",
     "output_type": "stream",
     "text": [
      "Enter a string :  Banana is good for health\n",
      "enter a word want to replace : good\n",
      "enter a word to replace : very good\n"
     ]
    },
    {
     "name": "stdout",
     "output_type": "stream",
     "text": [
      "After replacing the word : Banana is very good for health\n"
     ]
    }
   ],
   "source": [
    "s9=str(input(\"Enter a string : \"))\n",
    "word1_s9=str(input(\"enter a word want to replace :\"))\n",
    "\n",
    "word_s9=str(input(\"enter a word to replace :\"))\n",
    "\n",
    "s9=s9.replace(word1_s9,word_s9)\n",
    "\n",
    "print(\"After replacing the word :\",s9)\n",
    "\n",
    "\n"
   ]
  },
  {
   "cell_type": "code",
   "execution_count": 7,
   "id": "226dce53-9848-4fe8-88ea-d7119d3acddb",
   "metadata": {},
   "outputs": [
    {
     "name": "stdin",
     "output_type": "stream",
     "text": [
      "enter a string : ram ram ram\n",
      "enter a word to count : ram\n"
     ]
    },
    {
     "name": "stdout",
     "output_type": "stream",
     "text": [
      "total occurences of  ram is : 3\n"
     ]
    }
   ],
   "source": [
    "'''Count the occurrences of a word in a string'''\n",
    "\n",
    "s10=str(input(\"enter a string :\"))\n",
    "s10_words=s10.split()\n",
    "count=0\n",
    "\n",
    "word =str(input(\"enter a word to count :\"))\n",
    "\n",
    "for w in s10_words:\n",
    "    if w == word:\n",
    "        count+=1\n",
    "\n",
    "print(\"total occurences of \",word,\"is :\",count) \n",
    "        \n"
   ]
  },
  {
   "cell_type": "code",
   "execution_count": 13,
   "id": "5deb0b6c-426a-434b-83b4-87551b1170e5",
   "metadata": {},
   "outputs": [
    {
     "name": "stdin",
     "output_type": "stream",
     "text": [
      "enter a string : Arijit sing is good singer\n",
      "Enter a word to search :  sing\n"
     ]
    },
    {
     "name": "stdout",
     "output_type": "stream",
     "text": [
      "first occurence of word is :  7\n"
     ]
    }
   ],
   "source": [
    "s11=str(input(\"enter a string :\"))\n",
    "s11_word=input(\"Enter a word to search : \")\n",
    "s11_indx=s11.find(s11_word)\n",
    "print(\"first occurence of word is : \",s11_indx)"
   ]
  },
  {
   "cell_type": "code",
   "execution_count": 2,
   "id": "1851d6c4-11c6-4e3f-b56e-d0d3553b9528",
   "metadata": {},
   "outputs": [
    {
     "name": "stdin",
     "output_type": "stream",
     "text": [
      "Enter a sentence:  hii hii hii hii\n",
      "Enter the word to find:  hii\n"
     ]
    },
    {
     "name": "stdout",
     "output_type": "stream",
     "text": [
      "The last occurrence of 'hii' is at index 3.\n"
     ]
    }
   ],
   "source": [
    "\"\"\"Find the last occurrence of a word in a string\"\"\"\n",
    "def find_last_occurrence(sentence, word11):\n",
    "    words11 = sentence.split()\n",
    "    last_index = -1\n",
    "    for i in range(len(words11)):\n",
    "        if words11[i] == word11:\n",
    "            last_index = i\n",
    "    return last_index\n",
    "\n",
    "input_sentence = input(\"Enter a sentence: \")\n",
    "target_word = input(\"Enter the word to find: \")\n",
    "\n",
    "last_index = find_last_occurrence(input_sentence, target_word)\n",
    "\n",
    "if last_index != -1:\n",
    "    print(f\"The last occurrence of '{target_word}' is at index {last_index}.\")\n",
    "else:\n",
    "    print(f\"The word '{target_word}' was not found in the sentence.\")\n"
   ]
  },
  {
   "cell_type": "code",
   "execution_count": 11,
   "id": "97e1c371-261a-4fc3-ad9e-0b3f37972853",
   "metadata": {},
   "outputs": [
    {
     "name": "stdin",
     "output_type": "stream",
     "text": [
      "enter a string social media is not good for youths\n"
     ]
    },
    {
     "name": "stdout",
     "output_type": "stream",
     "text": [
      "['social', 'media', 'is', 'not', 'good', 'for', 'youths']\n"
     ]
    }
   ],
   "source": [
    "\"\"\"14. Split a string into a list of words\"\"\"\n",
    "\n",
    "s12=str(input(\"enter a string : \"))\n",
    "splitted_s12=s12.split()\n",
    "print(splitted_s12)"
   ]
  },
  {
   "cell_type": "code",
   "execution_count": 17,
   "id": "118a4392-9453-4b18-95ff-a40af3f1da3f",
   "metadata": {},
   "outputs": [
    {
     "name": "stdout",
     "output_type": "stream",
     "text": [
      "The joinde string is : IIT is good college of India\n"
     ]
    }
   ],
   "source": [
    "s13=[\"IIT\",\"is\",\"good\",\"college\",\"of\",\"India\"]\n",
    "space13=\" \"\n",
    "joined_string=space13.join(s13)\n",
    "print(\"The joinde string is :\",joined_string)"
   ]
  },
  {
   "cell_type": "code",
   "execution_count": 19,
   "id": "909deb95-9315-4d3f-aa98-ad7cadedfac8",
   "metadata": {},
   "outputs": [
    {
     "name": "stdout",
     "output_type": "stream",
     "text": [
      "string with underscore is :  IIT_is_good_college_of_India\n"
     ]
    }
   ],
   "source": [
    "'''Convert a string where words are separated by spaces to one where words\n",
    "are separated by underscores.'''\n",
    "\n",
    "s14=\"IIT is good college of India\"\n",
    "modified_s14=s14.replace(\" \",'_')\n",
    "print(\"string with underscore is : \",modified_s14)"
   ]
  },
  {
   "cell_type": "code",
   "execution_count": 24,
   "id": "7fa2ea12-7734-4240-9618-cfe9b63807ba",
   "metadata": {},
   "outputs": [
    {
     "name": "stdin",
     "output_type": "stream",
     "text": [
      "Enter a target you want to check : India is a\n"
     ]
    },
    {
     "name": "stdout",
     "output_type": "stream",
     "text": [
      "yes string started with it\n"
     ]
    }
   ],
   "source": [
    "''' Check if a string starts with a specific word or phrase.'''\n",
    "\n",
    "s14=\"India is a agriculture based country \"\n",
    "\n",
    "target_s14=str(input(\"Enter a target you want to check :\")) \n",
    "\n",
    "index_s14=s14.find(target_s14)\n",
    "\n",
    "if index_s14 == 0:\n",
    "    print(\"yes string started with it\")\n",
    "else:\n",
    "    print(\"string not started with it\")"
   ]
  },
  {
   "cell_type": "code",
   "execution_count": 28,
   "id": "9f98cb7d-53e1-4bbb-9392-3d1f5727e87f",
   "metadata": {},
   "outputs": [
    {
     "name": "stdin",
     "output_type": "stream",
     "text": [
      "enter a string :  India a country of warriors\n",
      "enter ending phrase to check :  warriors\n"
     ]
    },
    {
     "name": "stdout",
     "output_type": "stream",
     "text": [
      "Yes,The given string ends with :  warriors\n"
     ]
    }
   ],
   "source": [
    "'''Check if a string ends with a specific word or phrase.'''\n",
    "s15=str(input(\"enter a string : \"))\n",
    "ending_phrase=input(\"enter ending phrase to check : \")\n",
    "if s15.endswith(ending_phrase):\n",
    "            print(\"Yes,The given string ends with : \",ending_phrase)\n",
    "else:\n",
    "            print(\"The given not string ends with : \",ending_phrase)"
   ]
  },
  {
   "cell_type": "code",
   "execution_count": 30,
   "id": "320f26c4-8c38-4c45-b036-86386a81bd18",
   "metadata": {},
   "outputs": [
    {
     "name": "stdin",
     "output_type": "stream",
     "text": [
      "enter a string :  string to title case\n"
     ]
    },
    {
     "name": "stdout",
     "output_type": "stream",
     "text": [
      "String To Title Case\n"
     ]
    }
   ],
   "source": [
    "'''19. Convert a string to title case (e.g., \"hello world\" to \"Hello World\").'''\n",
    "\n",
    "s16=str(input(\"enter a string : \"))\n",
    "titled_s16=s16.title()\n",
    "print(titled_s16)\n",
    "\n",
    "\n"
   ]
  },
  {
   "cell_type": "code",
   "execution_count": 1,
   "id": "bbc61f07-a43c-4f25-81ab-7108235b2bbe",
   "metadata": {},
   "outputs": [
    {
     "name": "stdin",
     "output_type": "stream",
     "text": [
      "Enter a string :  I am sigma\n"
     ]
    },
    {
     "name": "stdout",
     "output_type": "stream",
     "text": [
      "longest sord is :  sigma\n"
     ]
    }
   ],
   "source": [
    "'''Find the longest word in a string.'''\n",
    "s17=input(\"Enter a string : \")\n",
    "words_s17=s17.split()\n",
    "longest_word=\"\"\n",
    "\n",
    "for word in words_s17:\n",
    "    if len(word)>len(longest_word):\n",
    "        longest_word=word\n",
    "print(\"longest sord is : \",longest_word)"
   ]
  },
  {
   "cell_type": "code",
   "execution_count": 3,
   "id": "1a805d4f-2ed2-4ba1-b664-95a08ca287cf",
   "metadata": {},
   "outputs": [
    {
     "name": "stdin",
     "output_type": "stream",
     "text": [
      "Enter a string :  India has great defence system\n"
     ]
    },
    {
     "name": "stdout",
     "output_type": "stream",
     "text": [
      "shortest word is :  has\n"
     ]
    }
   ],
   "source": [
    "'''Find the shortest word in a string.'''\n",
    "\n",
    "s18=str(input(\"Enter a string : \"))\n",
    "words_18=s18.split()\n",
    "\n",
    "shortest_word=words_18[0]\n",
    "\n",
    "for w18 in words_18:\n",
    "    if len(shortest_word)>len(w18):\n",
    "        shortest_word=w18\n",
    "        \n",
    "print(\"shortest word is : \" ,shortest_word)\n",
    "\n",
    "\n"
   ]
  },
  {
   "cell_type": "code",
   "execution_count": 4,
   "id": "c429fdb6-e987-449b-a8ed-afdbd02abb8f",
   "metadata": {},
   "outputs": [
    {
     "name": "stdin",
     "output_type": "stream",
     "text": [
      "Enter a string :  This is a string\n"
     ]
    },
    {
     "name": "stdout",
     "output_type": "stream",
     "text": [
      "reversed string :  string a is This\n"
     ]
    }
   ],
   "source": [
    "'''22. Reverse the order of words in a string'''\n",
    "\n",
    "s19=str(input(\"Enter a string : \"))\n",
    "modified_s19 = s19.split()\n",
    "reversed_s19 = \" \".join(modified_s19[::-1])\n",
    "\n",
    "print( \"reversed string : \",reversed_s19)"
   ]
  },
  {
   "cell_type": "code",
   "execution_count": 11,
   "id": "29fc9d97-22e4-42d8-aecd-684f63859531",
   "metadata": {},
   "outputs": [
    {
     "name": "stdin",
     "output_type": "stream",
     "text": [
      "Enter a string :  _homes\n"
     ]
    },
    {
     "name": "stdout",
     "output_type": "stream",
     "text": [
      "False\n"
     ]
    }
   ],
   "source": [
    "'''23. Check if a string is alphanumeric.'''\n",
    "\n",
    "s20=str(input(\"Enter a string : \"))\n",
    "check_s20= s20.isalnum()\n",
    "print(check_s20)"
   ]
  },
  {
   "cell_type": "code",
   "execution_count": 23,
   "id": "37b07426-22d6-4e7b-979a-f9ce662de7c8",
   "metadata": {},
   "outputs": [
    {
     "name": "stdin",
     "output_type": "stream",
     "text": [
      "Enter a string :  g4g4g5g5g5\n"
     ]
    },
    {
     "name": "stdout",
     "output_type": "stream",
     "text": [
      "Digits in string are :  {'4', '5'}\n"
     ]
    }
   ],
   "source": [
    "'''24. Extract all digits from a string.'''\n",
    "s21=str(input(\"Enter a string : \"))\n",
    "modified_s21=s21.replace(\" \",\"\")\n",
    "answer_s21=set({})\n",
    "\n",
    "for char_s21 in modified_s21:\n",
    "    if char_s21 in '1234567890':\n",
    "         answer_s21.add(char_s21)\n",
    "        \n",
    "print(\"Digits in string are : \",answer_s21)\n",
    "    \n"
   ]
  },
  {
   "cell_type": "code",
   "execution_count": 27,
   "id": "30bced5e-9e8a-4ff7-b430-443288da7bb7",
   "metadata": {
    "tags": []
   },
   "outputs": [
    {
     "name": "stdin",
     "output_type": "stream",
     "text": [
      "Enter a string :  Hii I am string\n"
     ]
    },
    {
     "name": "stdout",
     "output_type": "stream",
     "text": [
      "The characters are : ['H', 'i', 'i', 'I', 'a', 'm', 's', 't', 'r', 'i', 'n', 'g']\n"
     ]
    }
   ],
   "source": [
    "'''Extract all alphabets from a string.'''\n",
    "\n",
    "s22=str(input(\"Enter a string : \"))\n",
    "answer=list()\n",
    "\n",
    "for char_s22 in s22:\n",
    "    if char_s22.isalpha():\n",
    "        answer.append(char_s22)\n",
    "        \n",
    "print(\"The characters are :\",answer)\n"
   ]
  },
  {
   "cell_type": "code",
   "execution_count": 31,
   "id": "1120d71a-f224-4d5c-adab-0f049a9571ff",
   "metadata": {},
   "outputs": [
    {
     "name": "stdin",
     "output_type": "stream",
     "text": [
      "Enter a string :  UPPer STR\n"
     ]
    },
    {
     "name": "stdout",
     "output_type": "stream",
     "text": [
      "Total no. of upper case alphabets are :  6\n"
     ]
    }
   ],
   "source": [
    "'''26. Count the number of uppercase letters in a string.'''\n",
    "\n",
    "s23=str(input(\"Enter a string : \"))\n",
    "upper_cnt_s23=0\n",
    "\n",
    "for char_s23 in s23:\n",
    "    if char_s23.isupper():\n",
    "        upper_cnt_s23+=1\n",
    "    \n",
    "print(\"Total no. of upper casealphabets are : \",upper_cnt_s23)\n"
   ]
  },
  {
   "cell_type": "code",
   "execution_count": 32,
   "id": "9d0f5103-146c-429e-beba-3e6d17b2e8d3",
   "metadata": {},
   "outputs": [
    {
     "name": "stdin",
     "output_type": "stream",
     "text": [
      "Enter a string :  hii loWER str\n"
     ]
    },
    {
     "name": "stdout",
     "output_type": "stream",
     "text": [
      "Total no. of lower case alphabets are :  8\n"
     ]
    }
   ],
   "source": [
    "''' 27. Count the number of lowercase letters in a string.'''\n",
    "\n",
    "s24=str(input(\"Enter a string : \"))\n",
    "lowercase=0\n",
    "\n",
    "for char_s24 in s24:\n",
    "    if char_s24.islower():\n",
    "        lowercase+=1\n",
    "    \n",
    "print(\"Total no. of lower case alphabets are : \",lowercase)"
   ]
  },
  {
   "cell_type": "code",
   "execution_count": 38,
   "id": "d9578528-bb25-45f1-9618-a5c54b23a044",
   "metadata": {},
   "outputs": [
    {
     "name": "stdin",
     "output_type": "stream",
     "text": [
      "Enter a string :  LOWEER to upper\n"
     ]
    },
    {
     "name": "stdout",
     "output_type": "stream",
     "text": [
      "Transformed string is :  loweer TO UPPER\n"
     ]
    }
   ],
   "source": [
    "'''28. Swap the case of each character in a string.'''\n",
    "\n",
    "s25=str(input(\"Enter a string : \"))\n",
    "answer_s25=str()\n",
    "\n",
    "for char_s25 in s25:\n",
    "    if char_s25.isupper():\n",
    "        answer_s25+=char_s25.lower()\n",
    "    else:\n",
    "        answer_s25+=char_s25.upper()\n",
    "\n",
    "print(\"Transformed string is : \", answer_s25)"
   ]
  },
  {
   "cell_type": "code",
   "execution_count": 5,
   "id": "636eea1f-68ba-403f-93b2-b7cacbedaf1b",
   "metadata": {},
   "outputs": [
    {
     "name": "stdin",
     "output_type": "stream",
     "text": [
      "Enter a string :  This is a question of string\n",
      "Enter a word to remove  question\n"
     ]
    },
    {
     "name": "stdout",
     "output_type": "stream",
     "text": [
      "After removing a word :  This is a  of string\n"
     ]
    }
   ],
   "source": [
    "'''29. Remove a specific word from a string.'''\n",
    "\n",
    "s26=str(input(\"Enter a string : \"))\n",
    "rem_wrd=input(\"Enter a word to remove \")\n",
    " \n",
    "modified_s26 = s26.replace(rem_wrd,\"\")\n",
    "\n",
    "print(\"After removing a word : \",modified_s26)"
   ]
  },
  {
   "cell_type": "code",
   "execution_count": 29,
   "id": "fa255036-3eee-4be2-84f4-50cb053097cd",
   "metadata": {},
   "outputs": [
    {
     "name": "stdin",
     "output_type": "stream",
     "text": [
      "Enter a email .aryan@gmail.com\n"
     ]
    },
    {
     "name": "stdout",
     "output_type": "stream",
     "text": [
      "Email is valid\n"
     ]
    }
   ],
   "source": [
    "'''30. Check if a string is a valid email address'''\n",
    "eml=str(input(\"Enter a email\"))\n",
    "eml_subpart=eml.split(\"@\")\n",
    "part1=str(eml_subpart[0])\n",
    "part1=part1.replace(\"_\",\"\") \n",
    "part1=part1.replace(\".\",\"\") \n",
    "part1=part1.lower()\n",
    "\n",
    "\n",
    "if len(eml_subpart) == 1:\n",
    "    print(\"email is not valid\")\n",
    "\n",
    "elif eml_subpart[0].islower()  and part1.isalnum() and eml_subpart[1]==\"gmail.com\":\n",
    "    print(\"Email is valid\")\n",
    "else:\n",
    "    print(\"email is not valid\")\n",
    "    "
   ]
  },
  {
   "cell_type": "code",
   "execution_count": 3,
   "id": "7c08f4da-42dc-4812-bbbe-4d34109ef103",
   "metadata": {},
   "outputs": [
    {
     "name": "stdin",
     "output_type": "stream",
     "text": [
      "Enter a string :  aryankelwa@gmail.com\n"
     ]
    },
    {
     "name": "stdout",
     "output_type": "stream",
     "text": [
      "Username :aryankelwa\n"
     ]
    }
   ],
   "source": [
    "'''31. Extract the username from an email address string.'''\n",
    "\n",
    "s27=str(input(\"Enter a string : \"))\n",
    "\n",
    "username,domain=s27.split('@')\n",
    "\n",
    "if len(domain)>0:\n",
    "    print(\"Username :\" +username)\n",
    "else:\n",
    "    print(\"No username fouond !\")\n",
    "    "
   ]
  },
  {
   "cell_type": "code",
   "execution_count": 5,
   "id": "c1bbf813-b01f-4521-a187-08738bc19bc3",
   "metadata": {},
   "outputs": [
    {
     "name": "stdin",
     "output_type": "stream",
     "text": [
      "Enter a string :  aryankelwa@gmail.com\n"
     ]
    },
    {
     "name": "stdout",
     "output_type": "stream",
     "text": [
      "domain :gmail.com\n"
     ]
    }
   ],
   "source": [
    "'''32. Extract the domain name from an email address string.'''\n",
    "s28=str(input(\"Enter a string : \"))\n",
    "\n",
    "username_28,domain_28=s28.split('@')\n",
    "\n",
    "if len(username_28)>0 and len(domain_28) > 0:\n",
    "    print(\"domain :\" + domain)\n",
    "else:\n",
    "    print(\"No domain fouond !\")\n"
   ]
  },
  {
   "cell_type": "code",
   "execution_count": 7,
   "id": "029579f9-4254-4c39-b242-230210d89ba4",
   "metadata": {},
   "outputs": [
    {
     "name": "stdin",
     "output_type": "stream",
     "text": [
      "Enter a string :   Hello!     how are    you  ?\n"
     ]
    },
    {
     "name": "stdout",
     "output_type": "stream",
     "text": [
      "After removing a spaces :  Hello! how are you ?\n"
     ]
    }
   ],
   "source": [
    "'''33. Replace multiple spaces in a string with a single space.'''\n",
    "s29=str(input(\"Enter a string : \"))\n",
    "\n",
    "words_s29=s29.split()\n",
    "cleaned_s29=' '.join(words_s29)\n",
    "print(\"After removing a spaces : \",cleaned_s29)  "
   ]
  },
  {
   "cell_type": "code",
   "execution_count": 5,
   "id": "e61d1f3a-1257-40e6-befd-ed36920e2e61",
   "metadata": {},
   "outputs": [
    {
     "name": "stdout",
     "output_type": "stream",
     "text": [
      "Valid URL\n"
     ]
    }
   ],
   "source": [
    "'''34. Check if a string is a valid URL.'''\n",
    "def is_valid_url(url):\n",
    "    # Check if the URL starts with \"http://\" or \"https://\"\n",
    "    if url.startswith(\"http://\") or url.startswith(\"https://\"):\n",
    "        # Split the URL into parts using \":\" as a delimiter\n",
    "        parts = url.split(\"://\")\n",
    "        \n",
    "        # Check if there are exactly two parts after splitting\n",
    "        if len(parts) == 2:\n",
    "            # Further split the second part (the domain part) by \"/\"\n",
    "            domain_parts = parts[1].split(\"/\")            \n",
    "            # Check if there is at least one part in the domain\n",
    "            if len(domain_parts) > 0:\n",
    "                return True\n",
    "    return False\n",
    "\n",
    "# Example usage\n",
    "url = \"https://red-fireman-lg.pwskills.app/\"\n",
    "if is_valid_url(url):\n",
    "    print(\"Valid URL\")\n",
    "else:\n",
    "    print(\"Invalid URL\")\n"
   ]
  },
  {
   "cell_type": "code",
   "execution_count": 4,
   "id": "840cc3dd-a79d-4c46-a16f-e6d793eefdda",
   "metadata": {},
   "outputs": [
    {
     "name": "stdin",
     "output_type": "stream",
     "text": [
      "Enter the url :  https://red-fireman-lg.pwskills.app/tree/work/string_pratice.ipynb\n"
     ]
    },
    {
     "name": "stdout",
     "output_type": "stream",
     "text": [
      "protocol is : https\n"
     ]
    }
   ],
   "source": [
    "'''35. Extract the protocol (http or https) from a URL string.'''\n",
    "\n",
    "s30=str(input(\"Enter the url : \"))\n",
    "s30_protocol,domain_s30=s30.split(\"://\")\n",
    "\n",
    "if len(s30_protocol)>0:\n",
    "    print(\"protocol is : \"+s30_protocol)\n"
   ]
  },
  {
   "cell_type": "code",
   "execution_count": 1,
   "id": "7eb39a02-155f-4c81-a09b-9e5b2ddf16ae",
   "metadata": {},
   "outputs": [
    {
     "name": "stdin",
     "output_type": "stream",
     "text": [
      "Enter a string :  aryankelwa\n"
     ]
    },
    {
     "name": "stdout",
     "output_type": "stream",
     "text": [
      "{'a': 3, 'r': 1, 'y': 1, 'n': 1, 'k': 1, 'e': 1, 'l': 1, 'w': 1}\n"
     ]
    }
   ],
   "source": [
    "'''36. Find the frequency of each character in a string.'''\n",
    "\n",
    "def calculateFrequency(s31):\n",
    "    char_fre={}\n",
    "     \n",
    "    for s31_char in s31:\n",
    "        if s31_char in char_fre:\n",
    "            char_fre[s31_char]+=1\n",
    "        else:\n",
    "            char_fre[s31_char]=1\n",
    "            \n",
    "    return char_fre\n",
    "\n",
    "s31=str(input(\"Enter a string : \"))\n",
    "frequency=calculateFrequency(s31)\n",
    "print(frequency)\n"
   ]
  },
  {
   "cell_type": "code",
   "execution_count": 13,
   "id": "9793ee46-4044-4821-b263-39cf3d70efc8",
   "metadata": {},
   "outputs": [
    {
     "name": "stdin",
     "output_type": "stream",
     "text": [
      "Enter a string :   https://red-fireman-lg.pwskills.app/tree/work/string_pratice.ipynb\n"
     ]
    },
    {
     "name": "stdout",
     "output_type": "stream",
     "text": [
      "String without punctuations : httpsredfiremanlgpwskillsapptreeworkstringpraticeipynb\n"
     ]
    }
   ],
   "source": [
    "'''Remove all punctuation from a string.'''\n",
    "\n",
    "s32=str(input(\"Enter a string : \"))\n",
    "\n",
    "for s32_char in s32:\n",
    "    if  not( s32_char.isalnum() ):\n",
    "        s32=s32.replace(s32_char,\"\")\n",
    "        \n",
    "print(\"String without punctuations : \"+s32)\n",
    "        \n"
   ]
  },
  {
   "cell_type": "code",
   "execution_count": 18,
   "id": "90ec6cdf-d931-42c2-992b-fa8ddea35e89",
   "metadata": {},
   "outputs": [
    {
     "name": "stdin",
     "output_type": "stream",
     "text": [
      "Enter a string :  1992231000\n"
     ]
    },
    {
     "name": "stdout",
     "output_type": "stream",
     "text": [
      "given string numerical ? :- True\n"
     ]
    }
   ],
   "source": [
    "'''38. Check if a string contains only digits.\n",
    "'''\n",
    "s33=str(input(\"Enter a string : \"))\n",
    "check_s33=s33.isnumeric()\n",
    "\n",
    "print(\"given string numerical ? :-\",check_s33)\n",
    "\n"
   ]
  },
  {
   "cell_type": "code",
   "execution_count": 7,
   "id": "e723329f-9136-4e7c-9bdb-919d292b798c",
   "metadata": {},
   "outputs": [
    {
     "name": "stdin",
     "output_type": "stream",
     "text": [
      "Enter a string :  I am aryan kelwa from Maharashtra and gujarat\n"
     ]
    },
    {
     "name": "stdout",
     "output_type": "stream",
     "text": [
      "YES, string contains only alphabets\n"
     ]
    }
   ],
   "source": [
    "'''39. Check if a string contains only alphabets.'''\n",
    "\n",
    "s34=str(input(\"Enter a string : \"))\n",
    "\n",
    "modified_s34=''.join(s34.split())\n",
    "\n",
    "if modified_s34.isalpha():\n",
    "    print(\"YES, string contains only alphabets\")\n",
    "else:\n",
    "    print(\"string NOT contains only alphabets\")\n",
    "    \n"
   ]
  },
  {
   "cell_type": "code",
   "execution_count": 19,
   "id": "92fa963e-efa2-4663-8e32-b81076f89d4c",
   "metadata": {},
   "outputs": [
    {
     "name": "stdin",
     "output_type": "stream",
     "text": [
      "Enter a string :  OCEAN\n"
     ]
    },
    {
     "name": "stdout",
     "output_type": "stream",
     "text": [
      "['O', 'C', 'E', 'A', 'N']\n"
     ]
    }
   ],
   "source": [
    "'''40. Convert a string to a list of characters.'''\n",
    "\n",
    "s35=str(input(\"Enter a string : \"))\n",
    "list_s35=[]\n",
    "for char_s35 in s35:\n",
    "    list_s35.append(char_s35)\n",
    "    \n",
    "print(list_s35)\n",
    "    "
   ]
  },
  {
   "cell_type": "code",
   "execution_count": 9,
   "id": "26b942c2-fca9-496a-a6ee-35735d41fded",
   "metadata": {},
   "outputs": [
    {
     "name": "stdin",
     "output_type": "stream",
     "text": [
      "Enter a string :  listen\n",
      "Enter a string :  silent\n"
     ]
    },
    {
     "name": "stdout",
     "output_type": "stream",
     "text": [
      "yes the strings are anagram \n"
     ]
    }
   ],
   "source": [
    "'''41. Check if two strings are anagrams'''\n",
    "s36=str(input(\"Enter a string : \"))\n",
    "s36=str(input(\"Enter a string : \"))\n",
    "set_s1=set(list(s36))\n",
    "set_s2=set(list(s36))\n",
    "\n",
    "if set_s1 == set_s2:\n",
    "    print(\"yes the strings are anagram \")\n",
    "else:\n",
    "    print(\"The strings are not anagram \")\n",
    "\n",
    "\n",
    "\n",
    "\n",
    "\n"
   ]
  },
  {
   "cell_type": "code",
   "execution_count": 20,
   "id": "aa32d9d6-16bb-43ff-81d8-05bf75f9a6da",
   "metadata": {},
   "outputs": [
    {
     "name": "stdin",
     "output_type": "stream",
     "text": [
      "Enter a string for encryption :  hello\n",
      "Enter a shift value : 3\n"
     ]
    },
    {
     "name": "stdout",
     "output_type": "stream",
     "text": [
      "After encryption :  khoor\n"
     ]
    }
   ],
   "source": [
    "'''Encode a string using a Caesar cipher'''\n",
    "s37=str(input(\"Enter a string for encryption : \"))\n",
    "shift=int(input(\"Enter a shift value :\"))\n",
    "encry_s37=\"\"\n",
    "\n",
    "for char_s37 in s37:\n",
    "    if char_s37.isalpha():\n",
    "        \n",
    "        char_code = ord(char_s37) + shift\n",
    "        \n",
    "        if char_s37.isupper():\n",
    "            if char_code>ord('Z'):\n",
    "                char_code-=26\n",
    "        else:\n",
    "            if char_code>ord('z'):\n",
    "                char_code-=26\n",
    "        encry_s37+=chr(char_code)\n",
    "    else:\n",
    "        encry_s37+=char_s37\n",
    "        \n",
    "print(\"After encryption : \",encry_s37)\n",
    "    \n",
    "    \n",
    "        \n"
   ]
  },
  {
   "cell_type": "code",
   "execution_count": 26,
   "id": "321ae01d-18aa-4885-918f-12da5cf933ed",
   "metadata": {},
   "outputs": [
    {
     "name": "stdin",
     "output_type": "stream",
     "text": [
      "Enter aencrypted string :  khoor\n",
      "Enter a shift value : 3\n"
     ]
    },
    {
     "name": "stdout",
     "output_type": "stream",
     "text": [
      "After de-encryption :  hello\n"
     ]
    }
   ],
   "source": [
    "'''Decode a Caesar cipher encoded string.'''\n",
    "\n",
    "'''Encode a string using a Caesar cipher'''\n",
    "s38=str(input(\"Enter aencrypted string : \"))\n",
    "shift=int(input(\"Enter a shift value :\"))\n",
    "nor_s38=\"\"\n",
    "\n",
    "for char_s38 in s38:\n",
    "    if char_s38.isalpha():\n",
    "        \n",
    "        char_code_s38 = ord(char_s38) - shift\n",
    "        \n",
    "        if char_s37.isupper():\n",
    "            if char_code_s38<ord('A'):\n",
    "                char_code_s38+=26\n",
    "        else:\n",
    "            if char_code_s38<ord('a'):\n",
    "                char_code_s38+=26\n",
    "        nor_s38+=chr(char_code_s38)\n",
    "    else:\n",
    "        nor_s38+=char_s38\n",
    "        \n",
    "print(\"After de-encryption : \",nor_s38)\n",
    "    \n",
    "    \n",
    "        \n"
   ]
  },
  {
   "cell_type": "code",
   "execution_count": 31,
   "id": "1feee2cb-cb60-43f5-81d0-7db0f918e8d5",
   "metadata": {},
   "outputs": [
    {
     "name": "stdin",
     "output_type": "stream",
     "text": [
      "Enter a string :  hii I am just good and good\n"
     ]
    },
    {
     "name": "stdout",
     "output_type": "stream",
     "text": [
      "The most frequent word is : good  and occurs 2 times\n"
     ]
    }
   ],
   "source": [
    "'''44. Find the most frequent word in a string.'''\n",
    "\n",
    "s39=str(input(\"Enter a string : \"))\n",
    "words_s39=s39.split()\n",
    "unique_words_s39=set(words_s39)\n",
    "max_frequent=\"\"\n",
    "max_count=0\n",
    "\n",
    "for word in unique_words_s39:\n",
    "    count=words_s39.count(word)\n",
    "    \n",
    "    if count > max_count:\n",
    "        max_count=count\n",
    "        max_frequent=word\n",
    "        \n",
    "print(\"The most frequent word is : \"+max_frequent,\" and occurs\",max_count,\"times\")"
   ]
  },
  {
   "cell_type": "code",
   "execution_count": 34,
   "id": "48e3a636-c0b9-4ca0-b354-7134cfdd99ed",
   "metadata": {},
   "outputs": [
    {
     "name": "stdin",
     "output_type": "stream",
     "text": [
      "Enter a string :  is is a a good is a good\n"
     ]
    },
    {
     "name": "stdout",
     "output_type": "stream",
     "text": [
      "The unique words are :  {'a', 'good', 'is'}\n"
     ]
    }
   ],
   "source": [
    "''' Find all unique words in a string'''\n",
    "\n",
    "s40=str(input(\"Enter a string : \"))\n",
    "unique_words_s40=set(s40.split())\n",
    "print(\"The unique words are : \",unique_words_s40)"
   ]
  },
  {
   "cell_type": "code",
   "execution_count": 2,
   "id": "e23dc353-1592-4ec1-b0c3-c6088abddd55",
   "metadata": {},
   "outputs": [
    {
     "name": "stdout",
     "output_type": "stream",
     "text": [
      "The word 'education' has 4 syllables.\n"
     ]
    }
   ],
   "source": [
    "'''Count the number of syllables in a string.'''\n",
    "def count_syllables(word):\n",
    "    word = word.lower()\n",
    "    count = 0\n",
    "\n",
    "    # Words with one vowel are typically counted as one syllable\n",
    "    vowels = \"aeiouy\"\n",
    "    if word[0] in vowels:\n",
    "        count += 1\n",
    "\n",
    "    for i in range(1, len(word)):\n",
    "        if word[i] in vowels and word[i - 1] not in vowels:\n",
    "            count += 1\n",
    "\n",
    "    # Remove 1 from the count for words ending in \"e\" (silent 'e')\n",
    "    if word.endswith(\"e\") and count > 1:\n",
    "        count -= 1\n",
    "\n",
    "    # Adjustments for words ending in \"le\" or \"ed\"\n",
    "    if word.endswith(\"le\"):\n",
    "        count += 1\n",
    "    elif word.endswith(\"ed\"):\n",
    "        count -= 1\n",
    "\n",
    "    # Ensure a minimum count of 1\n",
    "    count = max(count, 1)\n",
    "\n",
    "    return count\n",
    "\n",
    "# Example usage:\n",
    "word = \"education\"\n",
    "syllable_count = count_syllables(word)\n",
    "print(f\"The word '{word}' has {syllable_count} syllables.\")\n"
   ]
  },
  {
   "cell_type": "code",
   "execution_count": 8,
   "id": "f101409b-c9bd-4cfc-9e6a-3f71a7792b71",
   "metadata": {},
   "outputs": [
    {
     "name": "stdin",
     "output_type": "stream",
     "text": [
      "Enter a string :  this @# is @#\n"
     ]
    },
    {
     "name": "stdout",
     "output_type": "stream",
     "text": [
      "List contain  4 special chars\n"
     ]
    }
   ],
   "source": [
    "'''47. Check if a string contains any special characters.'''\n",
    "\n",
    "s41=str(input(\"Enter a string : \"))\n",
    "s41=s41.replace(\" \",\"\")\n",
    "mod_s41=list(s41)\n",
    "special_char=list()\n",
    "for char in s41:\n",
    "    if not(char.isalnum()):\n",
    "        special_char.append(char)\n",
    "print(\"List contain \",len(special_char),\"special chars\")      "
   ]
  },
  {
   "cell_type": "code",
   "execution_count": 10,
   "id": "211dd6a0-a944-4649-bf8f-585885bf5e1b",
   "metadata": {},
   "outputs": [
    {
     "name": "stdin",
     "output_type": "stream",
     "text": [
      "Enter a string :  This is example string\n",
      "Enter a value of n :  1\n"
     ]
    },
    {
     "name": "stdout",
     "output_type": "stream",
     "text": [
      "After removing a word :  This example string\n"
     ]
    }
   ],
   "source": [
    "'''48. Remove the nth word from a string.'''\n",
    "\n",
    "s42=str(input(\"Enter a string : \"))\n",
    "n=int(input(\"Enter a value of n : \"))\n",
    "words_s42=s42.split()\n",
    "\n",
    "if n>=0 and n<len(words_s42):\n",
    "        del words_s42[n]\n",
    "        mod_s42=' '.join(words_s42)\n",
    "        print(\"After removing a word : \",mod_s42)\n",
    "else:\n",
    "    print(\"WOrd is out of index\")"
   ]
  },
  {
   "cell_type": "code",
   "execution_count": 16,
   "id": "41b509e9-d5ce-438f-b0cf-c8f41172a43d",
   "metadata": {},
   "outputs": [
    {
     "name": "stdin",
     "output_type": "stream",
     "text": [
      "enter a string :  this is a\n",
      "Enter a position to insert : 3\n",
      "Enter a word in string good\n"
     ]
    },
    {
     "name": "stdout",
     "output_type": "stream",
     "text": [
      "After entering a word in a string :  this is a good\n"
     ]
    }
   ],
   "source": [
    "'''49. Insert a word at the nth position in a string.'''\n",
    "s43=str(input(\"enter a string : \"))\n",
    "s43_n=int(input(\"Enter a position to insert :\"))\n",
    "s43_word=input(\"Enter a word in string\")\n",
    "list_s43=s43.split()\n",
    "list_s43.insert(s43_n,s43_word)\n",
    "\n",
    "ans_s43=' '.join(list_s43)\n",
    "print(\"After entering a word in a string : \",ans_s43)"
   ]
  },
  {
   "cell_type": "code",
   "execution_count": 22,
   "id": "7fde976d-bed5-4e03-9316-22226f36297a",
   "metadata": {},
   "outputs": [
    {
     "name": "stdin",
     "output_type": "stream",
     "text": [
      "Enter a string :  John,Doe,30\\nJane,Smith,25\\nAlice,Johnson,35\n"
     ]
    },
    {
     "name": "stdout",
     "output_type": "stream",
     "text": [
      "['John', 'Doe', '30\\\\nJane', 'Smith', '25\\\\nAlice', 'Johnson', '35']\n"
     ]
    }
   ],
   "source": [
    "'''50. Convert a CSV string to a list of lists'''\n",
    "\n",
    "s44=str(input(\"Enter a string : \"))\n",
    "s44_words=s44.split(',')\n",
    "print(s44_words)"
   ]
  },
  {
   "cell_type": "code",
   "execution_count": 20,
   "id": "44ccf757-d9bc-47b5-b0f8-feb51d351a68",
   "metadata": {},
   "outputs": [
    {
     "name": "stdout",
     "output_type": "stream",
     "text": [
      "['John', 'Doe', '30\\nJane', 'Smith', '25\\nAlice', 'Johnson', '35']\n"
     ]
    }
   ],
   "source": [
    "def csv_string_to_list(csv_string):\n",
    "    # Initialize variables\n",
    "    result = []\n",
    "    current_row = []\n",
    "    current_value = \"\"\n",
    "    inside_quotes = False\n",
    "\n",
    "    # Iterate through each character in the CSV string\n",
    "    for char in csv_string:\n",
    "        if char == ',' and not inside_quotes:\n",
    "            # Comma outside of quotes indicates the end of a value\n",
    "            current_row.append(current_value)\n",
    "            current_value = \"\"\n",
    "        elif char == '\"':\n",
    "            # Toggle the inside_quotes flag when encountering a quote\n",
    "            inside_quotes = not inside_quotes\n",
    "        else:\n",
    "            # Add the character to the current value\n",
    "            current_value += char\n",
    "\n",
    "    # Add the last value and row to the result\n",
    "    current_row.append(current_value)\n",
    "    result.append(current_row)\n",
    "\n",
    "    return result\n",
    "\n",
    "# Example usage:\n",
    "csv_string = 'John,Doe,30\\nJane,Smith,25\\nAlice,Johnson,35'\n",
    "csv_list = csv_string_to_list(csv_string)\n",
    "for row in csv_list:\n",
    "    print(row)\n"
   ]
  }
 ],
 "metadata": {
  "kernelspec": {
   "display_name": "Python 3 (ipykernel)",
   "language": "python",
   "name": "python3"
  },
  "language_info": {
   "codemirror_mode": {
    "name": "ipython",
    "version": 3
   },
   "file_extension": ".py",
   "mimetype": "text/x-python",
   "name": "python",
   "nbconvert_exporter": "python",
   "pygments_lexer": "ipython3",
   "version": "3.10.8"
  }
 },
 "nbformat": 4,
 "nbformat_minor": 5
}
