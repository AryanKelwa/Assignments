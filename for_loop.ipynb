{
 "cells": [
  {
   "cell_type": "code",
   "execution_count": 1,
   "id": "e3117792-3dc2-4207-bdb4-ec22d3385e59",
   "metadata": {},
   "outputs": [
    {
     "name": "stdout",
     "output_type": "stream",
     "text": [
      "1 2 3 4 5 6 7 8 9 10 "
     ]
    }
   ],
   "source": [
    "'''1. Write a Python program to print the numbers from 1 to 10 using a `for` loop.'''\n",
    "\n",
    "for i in range(1,11):\n",
    "    print(i,end=' ')"
   ]
  },
  {
   "cell_type": "code",
   "execution_count": 2,
   "id": "6bfd1531-a920-40df-9e2f-f442e307755b",
   "metadata": {},
   "outputs": [
    {
     "name": "stdout",
     "output_type": "stream",
     "text": [
      "10\n"
     ]
    }
   ],
   "source": [
    "'''2. Create a program that calculates the sum of all numbers in a list using a `for` loop.'''\n",
    "\n",
    "lst=[1,2,3,4]\n",
    "sum=0\n",
    "\n",
    "for i in lst:\n",
    "    sum+=i\n",
    "print(sum)"
   ]
  },
  {
   "cell_type": "code",
   "execution_count": 4,
   "id": "80997fad-050b-4864-99dc-dd1d006fb6cb",
   "metadata": {},
   "outputs": [
    {
     "name": "stdout",
     "output_type": "stream",
     "text": [
      "n a y r a "
     ]
    }
   ],
   "source": [
    "'''3. Write a program to print the characters of a string in reverse order using a `for` loop.'''\n",
    "\n",
    "s=\"aryan\"\n",
    "for char in s[::-1]:\n",
    "    print(char,end=' ')\n",
    "    "
   ]
  },
  {
   "cell_type": "code",
   "execution_count": 5,
   "id": "7adf75ad-d475-429c-863d-015b968e97b3",
   "metadata": {},
   "outputs": [
    {
     "name": "stdin",
     "output_type": "stream",
     "text": [
      "Enter a number  5\n"
     ]
    },
    {
     "name": "stdout",
     "output_type": "stream",
     "text": [
      "120\n"
     ]
    }
   ],
   "source": [
    "'''4. Develop a program that finds the factorial of a given number using a `for` loop.'''\n",
    "n=int(input(\"Enter a number \"))\n",
    "product=1\n",
    "for i in range(1,n+1):\n",
    "    product*=i\n",
    "print(product)"
   ]
  },
  {
   "cell_type": "code",
   "execution_count": 6,
   "id": "6fd88786-7d77-4639-abd0-f8eec0a6ae9b",
   "metadata": {},
   "outputs": [
    {
     "name": "stdin",
     "output_type": "stream",
     "text": [
      "Enter a number  5\n"
     ]
    },
    {
     "name": "stdout",
     "output_type": "stream",
     "text": [
      "5 * 1 = 5\n",
      "5 * 2 = 10\n",
      "5 * 3 = 15\n",
      "5 * 4 = 20\n",
      "5 * 5 = 25\n",
      "5 * 6 = 30\n",
      "5 * 7 = 35\n",
      "5 * 8 = 40\n",
      "5 * 9 = 45\n",
      "5 * 10 = 50\n"
     ]
    }
   ],
   "source": [
    "'''5. Create a program to print the multiplication table of a given number using a `for` loop.'''\n",
    "\n",
    "n=int(input(\"Enter a number \"))\n",
    "\n",
    "for i in range(1,11):\n",
    "    print(f'{n} * {i} = {n*i}')\n"
   ]
  },
  {
   "cell_type": "code",
   "execution_count": 8,
   "id": "9d6574a6-9359-443f-ad93-a8b6cb18c5b5",
   "metadata": {},
   "outputs": [
    {
     "name": "stdout",
     "output_type": "stream",
     "text": [
      "odd count is : 5\n",
      "even count is : 4\n"
     ]
    }
   ],
   "source": [
    "'''6. Write a program that counts the number of even and odd numbers in a list using a `for` loop.'''\n",
    "\n",
    "lst=[1,2,3,4,5,6,7,8,9]\n",
    "even=0\n",
    "odd=0\n",
    "\n",
    "for e in lst:\n",
    "    if e%2==0:\n",
    "        even+=1\n",
    "    else:\n",
    "        odd+=1\n",
    "        \n",
    "print(\"odd count is :\",odd)\n",
    "print(\"even count is :\",even)"
   ]
  },
  {
   "cell_type": "code",
   "execution_count": 9,
   "id": "72b736f2-adaa-4a3d-a799-4710015ef6a3",
   "metadata": {},
   "outputs": [
    {
     "name": "stdout",
     "output_type": "stream",
     "text": [
      "1\n",
      "4\n",
      "9\n",
      "16\n",
      "25\n"
     ]
    }
   ],
   "source": [
    "'''7. Develop a program that prints the squares of numbers from 1 to 5 using a `for` loop.'''\n",
    "\n",
    "for i in range(1,6):\n",
    "    print(i**2)"
   ]
  },
  {
   "cell_type": "code",
   "execution_count": 10,
   "id": "ddebb3c6-fd82-4441-a628-4eb749bb454f",
   "metadata": {},
   "outputs": [
    {
     "name": "stdout",
     "output_type": "stream",
     "text": [
      "11\n"
     ]
    }
   ],
   "source": [
    "'''8. Create a program to find the length of a string without using the `len()` function.'''\n",
    "\n",
    "s=\"arunchouhan\"\n",
    "count=0\n",
    "for i in s:\n",
    "    count+=1\n",
    "print(count)"
   ]
  },
  {
   "cell_type": "code",
   "execution_count": 13,
   "id": "5653f523-d739-43d7-b865-70f558c23a88",
   "metadata": {},
   "outputs": [
    {
     "name": "stdout",
     "output_type": "stream",
     "text": [
      "average of  [1, 2, 3, 4]  is  2.5\n"
     ]
    }
   ],
   "source": [
    "'''9. Write a program that calculates the average of a list of numbers using a `for` loop.'''\n",
    "\n",
    "lst=[1,2,3,4]\n",
    "summ=0\n",
    "cnt=0\n",
    "for e in lst:\n",
    "    summ+=e\n",
    "    cnt+=1\n",
    "\n",
    "print(\"average of \",lst,\" is \",summ/cnt)\n",
    "    \n",
    "\n",
    "\n",
    "\n"
   ]
  },
  {
   "cell_type": "code",
   "execution_count": 15,
   "id": "0a8c7d81-dbc1-42e6-9fff-fde1cbd44756",
   "metadata": {},
   "outputs": [
    {
     "name": "stdin",
     "output_type": "stream",
     "text": [
      "Enter a number  10\n"
     ]
    },
    {
     "name": "stdout",
     "output_type": "stream",
     "text": [
      "0 1 1 2 3 5 8 13 21 34 "
     ]
    }
   ],
   "source": [
    "'''10. Develop a program that prints the first `n` Fibonacci numbers using a `for` loop.'''\n",
    "\n",
    "n=int(input(\"Enter a number \"))\n",
    "a,b=0,1\n",
    "\n",
    "for i in range(n):\n",
    "    print(a,end=\" \")\n",
    "    a,b=b,a+b\n"
   ]
  },
  {
   "cell_type": "code",
   "execution_count": 20,
   "id": "111a1742-94c6-41b6-9315-384c9d2a92f9",
   "metadata": {},
   "outputs": [
    {
     "name": "stdout",
     "output_type": "stream",
     "text": [
      "dulplicates are  {1, 2, 3}\n"
     ]
    }
   ],
   "source": [
    "'''11. Write a program to check if a given list contains any duplicates using a `for` loop.'''\n",
    "\n",
    "l=[1,2,3,1,2,3]\n",
    "dup=set()\n",
    "for e in l:\n",
    "    if l.count(e) >1:\n",
    "        dup.add(e)\n",
    "print(\"dulplicates are \",dup)"
   ]
  },
  {
   "cell_type": "code",
   "execution_count": 6,
   "id": "2cdc8ca7-7d7d-416f-8e0e-c69f555bef04",
   "metadata": {},
   "outputs": [
    {
     "name": "stdin",
     "output_type": "stream",
     "text": [
      "Enter a lower range  1\n",
      "Enter a upper range  300\n"
     ]
    },
    {
     "name": "stdout",
     "output_type": "stream",
     "text": [
      "[1, 2, 3, 5, 7, 11, 13, 17, 19, 23, 29, 31, 37, 41, 43, 47, 53, 59, 61, 67, 71, 73, 79, 83, 89, 97, 101, 103, 107, 109, 113, 127, 131, 137, 139, 149, 151, 157, 163, 167, 173, 179, 181, 191, 193, 197, 199, 211, 223, 227, 229, 233, 239, 241, 251, 257, 263, 269, 271, 277, 281, 283, 293]\n"
     ]
    }
   ],
   "source": [
    "'''12. Create a program that prints the prime numbers in a given range using a `for` loop.'''\n",
    "\n",
    "lower_range=int(input(\"Enter a lower range \"))\n",
    "upper_range=int(input(\"Enter a upper range \"))\n",
    "prime=[]\n",
    "for e in range(lower_range,upper_range+1):\n",
    "    flag=True\n",
    "    for div in range(2,int(e+1/2)):\n",
    "        if e%div==0:\n",
    "            flag=False\n",
    "    if flag:\n",
    "        prime.append(e)\n",
    "print(prime)"
   ]
  },
  {
   "cell_type": "code",
   "execution_count": 2,
   "id": "3915fda1-ab70-4cac-9c02-475d9675a8d1",
   "metadata": {},
   "outputs": [
    {
     "name": "stdin",
     "output_type": "stream",
     "text": [
      "Enter a string :  aaaa\n"
     ]
    },
    {
     "name": "stdout",
     "output_type": "stream",
     "text": [
      "4\n"
     ]
    }
   ],
   "source": [
    "'''13. Develop a program that counts the number of vowels in a string using a `for` loop.'''\n",
    "\n",
    "s=input(\"Enter a string : \")\n",
    "a=str()\n",
    "for e in s:\n",
    "    if e in \"AEIOUaeiou\":\n",
    "        a+=e\n",
    "print(len(a))"
   ]
  },
  {
   "cell_type": "code",
   "execution_count": 3,
   "id": "802f4764-b1db-435f-8abe-123c7ccd2e02",
   "metadata": {},
   "outputs": [
    {
     "name": "stdout",
     "output_type": "stream",
     "text": [
      "15\n"
     ]
    }
   ],
   "source": [
    "'''14. Write a program to find the maximum element in a 2D list using a nested `for` loop.'''\n",
    "\n",
    "lst=[[1,2,3,4,5],[6,7,8,9,10],[11,12,13,14,15]]\n",
    "largest=0\n",
    "for row in lst:\n",
    "    for e in row:\n",
    "        if e>largest:\n",
    "            largest=e\n",
    "print(largest)\n"
   ]
  },
  {
   "cell_type": "code",
   "execution_count": 5,
   "id": "1e37848b-54d8-47e3-baa8-b6da48cbe8b9",
   "metadata": {},
   "outputs": [
    {
     "name": "stdout",
     "output_type": "stream",
     "text": [
      "[2, 3, 2]\n"
     ]
    }
   ],
   "source": [
    "'''15. Create a program that removes all occurrences of a specific element from a list using a `for` loop.'''\n",
    "lst=[1,2,3,1,2,1]\n",
    "ele_to_remove=1\n",
    "for e in lst:\n",
    "    if e==ele_to_remove:\n",
    "        lst.remove(e)\n",
    "print(lst)"
   ]
  },
  {
   "cell_type": "code",
   "execution_count": 8,
   "id": "c0a58e65-5ad4-4492-9ba9-6846897fad23",
   "metadata": {},
   "outputs": [
    {
     "name": "stdout",
     "output_type": "stream",
     "text": [
      "1 * 1 = 1\n",
      "1 * 2 = 2\n",
      "1 * 3 = 3\n",
      "1 * 4 = 4\n",
      "1 * 5 = 5\n",
      "1 * 6 = 6\n",
      "1 * 7 = 7\n",
      "1 * 8 = 8\n",
      "1 * 9 = 9\n",
      "1 * 10 = 10\n",
      "------------\n",
      "2 * 1 = 2\n",
      "2 * 2 = 4\n",
      "2 * 3 = 6\n",
      "2 * 4 = 8\n",
      "2 * 5 = 10\n",
      "2 * 6 = 12\n",
      "2 * 7 = 14\n",
      "2 * 8 = 16\n",
      "2 * 9 = 18\n",
      "2 * 10 = 20\n",
      "------------\n",
      "3 * 1 = 3\n",
      "3 * 2 = 6\n",
      "3 * 3 = 9\n",
      "3 * 4 = 12\n",
      "3 * 5 = 15\n",
      "3 * 6 = 18\n",
      "3 * 7 = 21\n",
      "3 * 8 = 24\n",
      "3 * 9 = 27\n",
      "3 * 10 = 30\n",
      "------------\n",
      "4 * 1 = 4\n",
      "4 * 2 = 8\n",
      "4 * 3 = 12\n",
      "4 * 4 = 16\n",
      "4 * 5 = 20\n",
      "4 * 6 = 24\n",
      "4 * 7 = 28\n",
      "4 * 8 = 32\n",
      "4 * 9 = 36\n",
      "4 * 10 = 40\n",
      "------------\n",
      "5 * 1 = 5\n",
      "5 * 2 = 10\n",
      "5 * 3 = 15\n",
      "5 * 4 = 20\n",
      "5 * 5 = 25\n",
      "5 * 6 = 30\n",
      "5 * 7 = 35\n",
      "5 * 8 = 40\n",
      "5 * 9 = 45\n",
      "5 * 10 = 50\n",
      "------------\n"
     ]
    }
   ],
   "source": [
    "'''16. Develop a program that generates a multiplication table for numbers from 1 to 5 using a nested `for` loop.'''\n",
    "for n in range(1,6):\n",
    "    for i in range(1,11):\n",
    "        print(f'{n} * {i} = {n*i}')\n",
    "    print(\"------------\")"
   ]
  },
  {
   "cell_type": "code",
   "execution_count": 71,
   "id": "fc38f31e-d831-40ea-b725-d13cbf5917ac",
   "metadata": {},
   "outputs": [
    {
     "name": "stdout",
     "output_type": "stream",
     "text": [
      "    *\n",
      "   ***\n",
      "  *****\n",
      " *******\n",
      "*********\n",
      " *******\n",
      "  *****\n",
      "   ***\n",
      "    *\n",
      "     \n"
     ]
    }
   ],
   "source": [
    "n=6\n",
    "for i in range(1,n):\n",
    "    for j in range(n-1,i,-1):\n",
    "        print(\" \",end=\"\")\n",
    "    for k in range(1,i+1):\n",
    "        print(\"*\",end='')\n",
    "    for l in range(1,i):\n",
    "        print(\"*\",end='')\n",
    "    print()\n",
    "n=6\n",
    "for m in range(1,n):\n",
    "    for a in range(1,m+1):\n",
    "        print(\" \",end='')\n",
    "    for o in range(5,m,-1):\n",
    "        print(\"*\",end='')\n",
    "    for p in range(5,m+1,-1):\n",
    "        print(\"*\",end='')\n",
    "    print()"
   ]
  },
  {
   "cell_type": "code",
   "execution_count": null,
   "id": "fbd8a337-3367-413b-9169-f4da2e4af5ea",
   "metadata": {},
   "outputs": [],
   "source": [
    "temp=\n"
   ]
  },
  {
   "cell_type": "code",
   "execution_count": null,
   "id": "38786ab1-6ad6-4fe0-a80e-104539474920",
   "metadata": {},
   "outputs": [],
   "source": []
  },
  {
   "cell_type": "code",
   "execution_count": 86,
   "id": "b10f0f96-e30e-44a5-9462-317ee9b83f28",
   "metadata": {},
   "outputs": [
    {
     "name": "stdout",
     "output_type": "stream",
     "text": [
      "Celsius Temperatures: ['37.78', '48.89', '32.22', '235.56', '400.56', '148.89', '217.22', '173.33']\n"
     ]
    }
   ],
   "source": [
    "'''17. Write a program that converts a list of Fahrenheit temperatures to Celsius using a `for` loop.'''\n",
    "\n",
    "# Create a list of Fahrenheit temperatures\n",
    "temperatures = [100,120,90,456,753,300,423,344]\n",
    "\n",
    "celcius=float()\n",
    "\n",
    "# Convert Fahrenheit to Celsius using a for loop\n",
    "for i in range(len(temperatures)):\n",
    "    celcius = (temperatures[i] - 32) * 5/9\n",
    "    temperatures[i]=\"{:.2f}\".format(celcius)\n",
    "\n",
    "# Display the converted temperatures\n",
    "print(f'Celsius Temperatures: {temperatures}')\n"
   ]
  },
  {
   "cell_type": "code",
   "execution_count": 1,
   "id": "46d17946-a5d0-4f74-9aa2-3a239099c3a0",
   "metadata": {},
   "outputs": [
    {
     "name": "stdout",
     "output_type": "stream",
     "text": [
      "2 3 4 "
     ]
    }
   ],
   "source": [
    "'''18. Create a program to print the common elements from two lists using a `for` loop.'''\n",
    "\n",
    "l1=[1,2,3,4,5]\n",
    "l2=[2,3,4,6,7,8]\n",
    "\n",
    "for e in l1:\n",
    "    if e in l2:\n",
    "        print(e,end=\" \")\n",
    "    else:\n",
    "        pass"
   ]
  },
  {
   "cell_type": "code",
   "execution_count": 14,
   "id": "64ebb16f-9b65-460a-b18d-87173cf249bb",
   "metadata": {},
   "outputs": [
    {
     "name": "stdout",
     "output_type": "stream",
     "text": [
      "*\n",
      "**\n",
      "***\n",
      "****\n",
      "*****\n"
     ]
    }
   ],
   "source": [
    "'''19. Develop a program that prints the pattern of right-angled triangles using a `for` loop. Use ‘*’ to draw the \n",
    "pattern'''\n",
    "for i in range(1,6):\n",
    "    for j in range(1,i+1):\n",
    "        print(\"*\",end=\"\")\n",
    "    print()"
   ]
  },
  {
   "cell_type": "code",
   "execution_count": 17,
   "id": "697124ea-90cb-47ea-867b-7da46bd5c0fc",
   "metadata": {},
   "outputs": [
    {
     "name": "stdin",
     "output_type": "stream",
     "text": [
      "Enter a number 1 : 100\n",
      "Enter a number 2 : 101\n"
     ]
    },
    {
     "name": "stdout",
     "output_type": "stream",
     "text": [
      "GCD of 100 and 101 is 1\n"
     ]
    }
   ],
   "source": [
    "'''20. Write a program to find the greatest common divisor (GCD) of two numbers using a `for` loop'''\n",
    "\n",
    "n1=int(input(\"Enter a number 1 :\"))\n",
    "n2=int(input(\"Enter a number 2 :\"))\n",
    "d=min(n1,n2)\n",
    "gcd =-1\n",
    "for divisor in range(1,n1+1):\n",
    "    if n1%divisor==0 and n2%divisor==0:\n",
    "        gcd=divisor\n",
    "        \n",
    "print(f'GCD of {n1} and {n2} is {gcd}')\n"
   ]
  },
  {
   "cell_type": "code",
   "execution_count": 26,
   "id": "526cb176-41bc-46f5-8700-2ffb8060d65c",
   "metadata": {},
   "outputs": [
    {
     "name": "stdout",
     "output_type": "stream",
     "text": [
      "[6, 15, 24, 3, 7]\n"
     ]
    }
   ],
   "source": [
    "'''21. Create a program that calculates the sum of the digits of numbers in a list using a list comprehension.'''\n",
    "\n",
    "numbs=[123, 456, 789, 12, 34]\n",
    "\n",
    "def sum_of_digits(num):\n",
    "    return sum((int(digit) for digit in str(num)))\n",
    "\n",
    "sum_of_digits=[sum_of_digits(e) for e in numbs]\n",
    "print(sum_of_digits)"
   ]
  },
  {
   "cell_type": "code",
   "execution_count": 33,
   "id": "3c27aa31-740a-4cfe-b803-0bca7c99e7e2",
   "metadata": {},
   "outputs": [
    {
     "data": {
      "text/plain": [
       "[2, 3]"
      ]
     },
     "execution_count": 33,
     "metadata": {},
     "output_type": "execute_result"
    }
   ],
   "source": [
    "'''22. Write a program to find the prime factors of a given number using a `for` loop and list comprehension.'''\n",
    "\n",
    "n=24\n",
    "\n",
    "divisor=int()\n",
    "prime_factors=[]\n",
    "flag=True\n",
    "for divisor in range(2,int(n+1/1)):\n",
    "    if n%divisor==0:\n",
    "        factor=divisor\n",
    "        flag=True\n",
    "        \n",
    "        for div in range(2,int(factor+1/2)):\n",
    "            if factor%div==0:\n",
    "                flag=False\n",
    "        if flag:\n",
    "            prime_factors.append(factor)\n",
    "                \n",
    "prime_factors                        \n",
    "                         "
   ]
  },
  {
   "cell_type": "code",
   "execution_count": 34,
   "id": "78c0a778-69c5-4e65-b4e3-32df8d6c02a6",
   "metadata": {},
   "outputs": [
    {
     "data": {
      "text/plain": [
       "[1, 2, 3, 4]"
      ]
     },
     "execution_count": 34,
     "metadata": {},
     "output_type": "execute_result"
    }
   ],
   "source": [
    "'''23. Develop a program that extracts unique elements from a list and stores them in a new list using a list\n",
    "comprehension.'''\n",
    "\n",
    "l=[1,2,1,2,3,1,3,4,2]\n",
    "unique=[]\n",
    "unique=list({e for e in l})\n",
    "unique"
   ]
  },
  {
   "cell_type": "code",
   "execution_count": 37,
   "id": "d89d17da-821f-4f98-91e2-10dc3af835c2",
   "metadata": {},
   "outputs": [
    {
     "name": "stdout",
     "output_type": "stream",
     "text": [
      "Original List: [1, 2, 2, 3, 4, 4, 5, 6, 6, 7]\n",
      "Unique List: [1, 3, 5, 7]\n"
     ]
    }
   ],
   "source": [
    "\n",
    "'''24. Create a program that generates a list of all palindromic numbers up to a specified limit using a list\n",
    "comprehension.'''\n",
    "\n",
    "original_list = [1, 2, 2, 3, 4, 4, 5, 6, 6, 7]\n",
    "\n",
    "unique_list = [x for x in original_list if original_list.count(x) == 1]\n",
    "print(\"Original List:\", original_list)\n",
    "print(\"Unique List:\", unique_list)\n"
   ]
  },
  {
   "cell_type": "code",
   "execution_count": 53,
   "id": "16939423-710d-4d12-b885-37c80b884806",
   "metadata": {},
   "outputs": [
    {
     "name": "stdout",
     "output_type": "stream",
     "text": [
      "[1, 5, 6, 2, 3, 4, 7, 8, 9]\n"
     ]
    }
   ],
   "source": [
    "'''25. Write a program to flatten a nested list using list comprehension.'''\n",
    "lst=[1,[2,3,4],5,6,[7,8,9]]\n",
    "\n",
    "for e in lst:\n",
    "    if type(e)!=int:\n",
    "        lst.remove(e)\n",
    "        lst.extend(e)\n",
    "print(lst)"
   ]
  },
  {
   "cell_type": "code",
   "execution_count": 7,
   "id": "87783e72-9e98-439d-8775-45bd5ec8a1a9",
   "metadata": {},
   "outputs": [
    {
     "name": "stdout",
     "output_type": "stream",
     "text": [
      "original list :  [1, 2, 3, 4, 5, 6]\n",
      "odd sum :  9\n",
      "even sum :  12\n"
     ]
    }
   ],
   "source": [
    "'''26. Develop a program that computes the sum of even and odd numbers in a list separately using list\n",
    "comprehension.'''\n",
    "\n",
    "\n",
    "lst=[1,2,3,4,5,6]\n",
    "\n",
    "sum_odd=0\n",
    "sum_even=0\n",
    "\n",
    "sum_odd,sum_even=sum([x for x in lst if x%2!=0]),sum([x for x in lst if x%2==0])\n",
    "\n",
    "print(\"original list : \",lst)\n",
    "print(\"odd sum : \",sum_odd)\n",
    "print(\"even sum : \",sum_even)"
   ]
  },
  {
   "cell_type": "code",
   "execution_count": 8,
   "id": "4a2aaa7e-d672-4d7c-a87f-40cc81566ff4",
   "metadata": {},
   "outputs": [
    {
     "name": "stdout",
     "output_type": "stream",
     "text": [
      "[1, 4, 9, 16, 25, 36, 49, 64, 81, 100]\n"
     ]
    }
   ],
   "source": [
    "'''27. Create a program that generates a list of squares of odd numbers between 1 and 10 using list\n",
    "comprehension.'''\n",
    "\n",
    "lst=[x**2 for x in range(1,11)]\n",
    "print(lst)"
   ]
  },
  {
   "cell_type": "code",
   "execution_count": 11,
   "id": "36c6fb23-090c-4c60-bf62-ce4ced9c7707",
   "metadata": {},
   "outputs": [
    {
     "name": "stdout",
     "output_type": "stream",
     "text": [
      "Combined Dictionary: {'a': 1, 'b': 2, 'c': 3}\n"
     ]
    }
   ],
   "source": [
    "'''28. Write a program that combines two lists into a dictionary using list comprehension.'''\n",
    "\n",
    "keys = ['a', 'b', 'c']\n",
    "values = [1, 2, 3]\n",
    "\n",
    "combined_dict = {key: value for key, value in zip(keys, values)}\n",
    "\n",
    "print(\"Combined Dictionary:\", combined_dict)\n",
    "\n"
   ]
  },
  {
   "cell_type": "code",
   "execution_count": 17,
   "id": "c0b8e70e-712a-47f6-9086-2e4f3dfe2d2d",
   "metadata": {},
   "outputs": [
    {
     "name": "stdout",
     "output_type": "stream",
     "text": [
      "iaai\n"
     ]
    }
   ],
   "source": [
    "'''29. Develop a program that extracts the vowels from a string and stores them in a list using list comprehension.'''\n",
    "\n",
    "strr=\"mirjamasti\"\n",
    "\n",
    "ans=\"\".join([s for s in strr if s in \"AEIOUaeiou\"])\n",
    "\n",
    "print(ans)"
   ]
  },
  {
   "cell_type": "code",
   "execution_count": 9,
   "id": "b34d4d96-df4e-4f2f-847a-e3ecebb5da68",
   "metadata": {},
   "outputs": [
    {
     "name": "stdout",
     "output_type": "stream",
     "text": [
      "['123', '456', '678']\n"
     ]
    }
   ],
   "source": [
    "'''30. Create a program that removes all non-numeric characters from a list of strings using list comprehension.'''\n",
    "\n",
    "st=[\"abc123\",\"pqr456\",\"jkl678\"]\n",
    "ans=[]\n",
    "nums=[]\n",
    "\n",
    "\n",
    "for s in st:\n",
    "    nums_str=''.join(list(filter(lambda a:a.isdigit(),s)))\n",
    "    ans.append(nums_str)\n",
    "print(ans)\n",
    "    "
   ]
  },
  {
   "cell_type": "code",
   "execution_count": 5,
   "id": "f3b7c639-3b78-43b2-a006-208018c71b6d",
   "metadata": {},
   "outputs": [
    {
     "name": "stdin",
     "output_type": "stream",
     "text": [
      "Enter a limit to generate prime numbers up to:  10\n"
     ]
    },
    {
     "name": "stdout",
     "output_type": "stream",
     "text": [
      "Prime Numbers up to 10 are: [2, 3, 5, 7]\n"
     ]
    }
   ],
   "source": [
    "'''31. Write a program to generate a list of prime numbers using the Sieve of Eratosthenes algorithm and list comprehension.'''\n",
    "\n",
    "def sieve_eratosthenes(limit):\n",
    "    sieve = [True] * (limit + 1)\n",
    "    sieve[0]= False\n",
    "\n",
    "    for current in range(2, int(limit ** 0.5) + 1):\n",
    "        if sieve[current]:\n",
    "            for multiple in range(current * current, limit + 1, current):\n",
    "                sieve[multiple] = False\n",
    "\n",
    "    prime_numbers = [x for x in range(2, limit + 1) if sieve[x]]\n",
    "    return prime_numbers\n",
    "\n",
    "# Input the limit for generating prime numbers\n",
    "limit = int(input(\"Enter a limit to generate prime numbers up to: \"))\n",
    "\n",
    "# Generate and display the list of prime numbers\n",
    "primes = sieve_eratosthenes(limit)\n",
    "print(\"Prime Numbers up to\", limit, \"are:\", primes)\n",
    "    \n",
    "      \n",
    "      "
   ]
  },
  {
   "cell_type": "code",
   "execution_count": 5,
   "id": "59809076-4bbf-4479-bb4e-70608b52705b",
   "metadata": {},
   "outputs": [
    {
     "name": "stdin",
     "output_type": "stream",
     "text": [
      "Enter a limit 20\n"
     ]
    },
    {
     "name": "stdout",
     "output_type": "stream",
     "text": [
      "[(3, 4, 5), (5, 12, 13), (6, 8, 10), (8, 15, 17), (9, 12, 15), (12, 16, 20)]\n"
     ]
    }
   ],
   "source": [
    "'''32. Create a program that generates a list of all Pythagorean triplets up to a specified limit using list\n",
    "comprehension.'''\n",
    "\n",
    "l=int(input(\"Enter a limit\"))\n",
    "triplets=list()\n",
    "for a in range (1,l+1):\n",
    "    for b in range(a,l+1):\n",
    "        c=(a**2+b**2)**0.5\n",
    "        if c.is_integer() and c<=l:\n",
    "            triplets.append((a,b,int(c)))\n",
    "print(triplets)"
   ]
  },
  {
   "cell_type": "code",
   "execution_count": 23,
   "id": "3d3d027e-c88b-42eb-b45b-889ec0b885bd",
   "metadata": {},
   "outputs": [
    {
     "name": "stdout",
     "output_type": "stream",
     "text": [
      "[[1, 4], [1, 5], [1, 6], [2, 4], [2, 5], [2, 6], [3, 4], [3, 5], [3, 6]]\n"
     ]
    }
   ],
   "source": [
    "'''33. Develop a program that generates a list of all possible combinations of two lists using list comprehension.'''\n",
    "\n",
    "lst1=[1,2,3]\n",
    "lst2=[4,5,6]\n",
    "\n",
    "ans=list()\n",
    "element=list()\n",
    "\n",
    "for e in lst1:\n",
    "    for f in lst2:\n",
    "        ans.append([e,f])\n",
    "print(ans)"
   ]
  },
  {
   "cell_type": "code",
   "execution_count": 1,
   "id": "ec58bede-79aa-4ab8-9871-c8af9c6270c9",
   "metadata": {},
   "outputs": [
    {
     "name": "stdout",
     "output_type": "stream",
     "text": [
      "Numbers: [1, 2, 3, 4, 4, 5, 6, 6, 6, 7]\n",
      "Mean: 4.4\n",
      "Median: 4.5\n",
      "Mode: 6\n"
     ]
    }
   ],
   "source": [
    "'''34. Write a program that calculates the mean, median, and mode of a list of numbers using list\n",
    "comprehension.'''\n",
    "\n",
    "from statistics import mean, median, mode\n",
    "\n",
    "# Define a list of numbers\n",
    "numbers = [1, 2, 3, 4, 4, 5, 6, 6, 6, 7]\n",
    "\n",
    "# Calculate the mean, median, and mode\n",
    "mean_value = mean(numbers)\n",
    "median_value = median(numbers)\n",
    "try:\n",
    "    mode_value = mode(numbers)\n",
    "except StatisticsError:\n",
    "    mode_value = \"No unique mode\"\n",
    "\n",
    "# Print the results\n",
    "print(\"Numbers:\", numbers)\n",
    "print(\"Mean:\", mean_value)\n",
    "print(\"Median:\", median_value)\n",
    "print(\"Mode:\", mode_value)\n"
   ]
  },
  {
   "cell_type": "code",
   "execution_count": 2,
   "id": "19a2b159-49d4-490b-b47c-1cd191dcd063",
   "metadata": {},
   "outputs": [
    {
     "name": "stdin",
     "output_type": "stream",
     "text": [
      "Enter the number of rows for Pascal's triangle:  7\n"
     ]
    },
    {
     "name": "stdout",
     "output_type": "stream",
     "text": [
      "       1        \n",
      "      1 1       \n",
      "     1 2 1      \n",
      "    1 3 3 1     \n",
      "   1 4 6 4 1    \n",
      " 1 5 10 10 5 1  \n",
      "1 6 15 20 15 6 1\n"
     ]
    }
   ],
   "source": [
    "'''35. Create a program that generates Pascal's triangle up to a specified number of rows .'''\n",
    "\n",
    "def generate_pascals_triangle(rows):\n",
    "    triangle = [[1]]\n",
    "    for _ in range(1, rows):\n",
    "        previous_row = triangle[-1]\n",
    "        new_row = [1] + [previous_row[i] + previous_row[i + 1] for i in range(len(previous_row) - 1)] + [1]\n",
    "        triangle.append(new_row)\n",
    "    return triangle\n",
    "\n",
    "def print_pascals_triangle(triangle):\n",
    "    max_width = len(' '.join(map(str, triangle[-1])))\n",
    "    for row in triangle:\n",
    "        row_str = ' '.join(map(str, row))\n",
    "        print(row_str.center(max_width))\n",
    "\n",
    "# Input the number of rows you want\n",
    "rows = int(input(\"Enter the number of rows for Pascal's triangle: \"))\n",
    "\n",
    "# Generate Pascal's triangle and print it\n",
    "pascals_triangle = generate_pascals_triangle(rows)\n",
    "print_pascals_triangle(pascals_triangle)\n"
   ]
  },
  {
   "cell_type": "code",
   "execution_count": 13,
   "id": "d4a429b6-e1bd-4278-8e30-df992e96ccce",
   "metadata": {},
   "outputs": [
    {
     "name": "stdout",
     "output_type": "stream",
     "text": [
      "[1, 2, 6, 24, 120]\n",
      "18\n"
     ]
    }
   ],
   "source": [
    "'''36. Develop a program that calculates the sum of the digits of a factorial of numbers from 1 to 5 .\n",
    "\n",
    "\n",
    "\n",
    "\n",
    "39. Develop a program that calculates the sum of the digits of numbers from 1 to 1000 .\n",
    "\n",
    "40. Write a program that generates a list of prime palindromic numbers.'''\n",
    "\n",
    "nums=[1,2,3,4,5]\n",
    "facts=[]\n",
    "for number in nums:\n",
    "    for mul in range(1,number):\n",
    "        number*=mul\n",
    "    facts.append(number)\n",
    "print(facts)   \n",
    "sum=0\n",
    "for e in facts:\n",
    "    \n",
    "    while e>0:\n",
    "        sum+=(e%10)\n",
    "        e=e//10\n",
    "print(sum)\n",
    "        \n",
    "\n"
   ]
  },
  {
   "cell_type": "code",
   "execution_count": 16,
   "id": "f166b176-8b75-4bf1-afd4-eda201c181ec",
   "metadata": {},
   "outputs": [
    {
     "name": "stdout",
     "output_type": "stream",
     "text": [
      "8 learning\n"
     ]
    }
   ],
   "source": [
    "'''37. Write a program that finds the longest word in a sentence.'''\n",
    "\n",
    "sentence=\"I am learning data science from Physics wallah\"\n",
    "\n",
    "words=sentence.split()\n",
    "lon_len=len(sentence[0])\n",
    "lon_wrd=\"\"\n",
    "for wrd in words:\n",
    "    if len(wrd)>lon_len:\n",
    "        lon_len=len(wrd)\n",
    "        lon_wrd=wrd\n",
    "print(lon_len,lon_wrd)\n",
    "    "
   ]
  },
  {
   "cell_type": "code",
   "execution_count": 20,
   "id": "fffade59-e36d-4a50-95ba-55ecfab2d470",
   "metadata": {},
   "outputs": [
    {
     "data": {
      "text/plain": [
       "[12, 456, 34, 234, 34, 23344]"
      ]
     },
     "execution_count": 20,
     "metadata": {},
     "output_type": "execute_result"
    }
   ],
   "source": [
    "\n",
    "# lst=[12,345,456,34,3423423,234,34,45,23344]\n",
    "\n",
    "# ans=list(filter(lambda a:a%2==0,lst))\n",
    "# ans\n",
    "\n"
   ]
  },
  {
   "cell_type": "code",
   "execution_count": 9,
   "id": "9cb1f3d4-b068-48ed-afb1-f8d88ff13c04",
   "metadata": {},
   "outputs": [
    {
     "name": "stdout",
     "output_type": "stream",
     "text": [
      "iiiii learaaaning dataaa\n"
     ]
    }
   ],
   "source": [
    "'''38. Create a program that filters a list of strings to include only those with more than three vowels .'''\n",
    "\n",
    "sentence=\"iiiii am learaaaning dataaa science from Physics wallah\"\n",
    "words=sentence.split()\n",
    "ans=[]\n",
    "for wrd in words:\n",
    "    vowels=\"AEIOUaeiou\"\n",
    "    vwl_cnt=0\n",
    "    for char in wrd:\n",
    "        if char in vowels:\n",
    "            vwl_cnt+=1\n",
    "        if vwl_cnt>3:\n",
    "            ans.append(wrd)\n",
    "            break\n",
    "print(' '.join(ans)) \n",
    "    \n"
   ]
  },
  {
   "cell_type": "code",
   "execution_count": 19,
   "id": "08e4c937-51d5-4cc0-b9df-649fbbc13e36",
   "metadata": {},
   "outputs": [
    {
     "name": "stdout",
     "output_type": "stream",
     "text": [
      "5050\n"
     ]
    }
   ],
   "source": [
    "'''39. Develop a program that calculates the sum of the digits of numbers from 1 to 1000 using list\n",
    "comprehension'''\n",
    "\n",
    "ans2=sum([x for x in range(1,101)])\n",
    "print(ans2)"
   ]
  },
  {
   "cell_type": "code",
   "execution_count": 14,
   "id": "c376d2c0-7a13-4968-9f64-493dda496b92",
   "metadata": {},
   "outputs": [
    {
     "name": "stdin",
     "output_type": "stream",
     "text": [
      "Enter a limit 100\n"
     ]
    },
    {
     "name": "stdout",
     "output_type": "stream",
     "text": [
      "[53, 59, 61, 67, 71, 73, 79, 83, 89, 97]\n"
     ]
    }
   ],
   "source": [
    "\n",
    "\n",
    "\n"
   ]
  },
  {
   "cell_type": "code",
   "execution_count": null,
   "id": "d8c6893c-05f6-4a11-879f-22c42c52309e",
   "metadata": {},
   "outputs": [],
   "source": [
    "'''40. Write a program that generates a list of prime palindromic numbers.'''\n",
    "start = int(input(\"Enter the start of the range: \"))\n",
    "end = int(input(\"Enter the end of the range: \"))\n",
    "ans=list()\n",
    "print(\"Prime numbers in the range\", start, \"to\", end, \"are:\")\n",
    "\n",
    "for number in range(start, end + 1):\n",
    "    if number > 1:\n",
    "        is_prime = True\n",
    "        for i in range(2, int(number ** 0.5) + 1):\n",
    "            if number % i == 0:\n",
    "                is_prime = False\n",
    "                break\n",
    "        if is_prime:\n",
    "            ans.append(number)\n",
    "\n",
    "\n",
    "for e in ans:\n",
    "    if str(e)==str(e)[::-1]:\n",
    "        print(e)\n",
    "    "
   ]
  },
  {
   "cell_type": "code",
   "execution_count": null,
   "id": "164f01d2-e232-4d24-aca1-acac986aa879",
   "metadata": {},
   "outputs": [],
   "source": []
  }
 ],
 "metadata": {
  "kernelspec": {
   "display_name": "Python 3 (ipykernel)",
   "language": "python",
   "name": "python3"
  },
  "language_info": {
   "codemirror_mode": {
    "name": "ipython",
    "version": 3
   },
   "file_extension": ".py",
   "mimetype": "text/x-python",
   "name": "python",
   "nbconvert_exporter": "python",
   "pygments_lexer": "ipython3",
   "version": "3.10.8"
  }
 },
 "nbformat": 4,
 "nbformat_minor": 5
}
