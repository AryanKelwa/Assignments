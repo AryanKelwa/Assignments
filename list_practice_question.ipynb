{
 "cells": [
  {
   "cell_type": "code",
   "execution_count": 1,
   "id": "00ec079e-7a60-4733-995d-6afd53a60865",
   "metadata": {},
   "outputs": [
    {
     "name": "stdout",
     "output_type": "stream",
     "text": [
      "[1, 2, 3, 4, 5, 6, 7, 8, 9, 10]\n"
     ]
    }
   ],
   "source": [
    "'''1. Create a list with integers from 1 to 10.'''\n",
    "l1=list(range(1,11))\n",
    "print(l1)"
   ]
  },
  {
   "cell_type": "code",
   "execution_count": 3,
   "id": "9cf00bf0-260d-495b-afc5-099b4d7fdf12",
   "metadata": {},
   "outputs": [
    {
     "name": "stdout",
     "output_type": "stream",
     "text": [
      "length is :  5\n"
     ]
    }
   ],
   "source": [
    "'''2. Find the length of a list without using the `len()` function.\n",
    "'''\n",
    "l2=[1,2,3,4,5]\n",
    "count=0\n",
    "for _ in l2:\n",
    "    count+=1\n",
    "print(\"length is : \",count)"
   ]
  },
  {
   "cell_type": "code",
   "execution_count": 4,
   "id": "5d8bc87a-6b1a-48a3-9fae-91ed8418f3a8",
   "metadata": {},
   "outputs": [
    {
     "name": "stdout",
     "output_type": "stream",
     "text": [
      "[1, 2, 3, 4, 5]\n"
     ]
    }
   ],
   "source": [
    "'''3. Append an element to the end of a list.\n",
    "'''\n",
    "l3=[1,2,3,4]\n",
    "l3.append(5)\n",
    "print(l3)"
   ]
  },
  {
   "cell_type": "code",
   "execution_count": 5,
   "id": "9dd86f7c-d769-409c-84e5-819dc6e2da80",
   "metadata": {},
   "outputs": [
    {
     "name": "stdout",
     "output_type": "stream",
     "text": [
      "[23, 24, 25, 26, 27, 28]\n"
     ]
    }
   ],
   "source": [
    "'''4. Insert an element at a specific index in a list.'''\n",
    "l4=[23,24,26,27,28]\n",
    "l4.insert(2,25)\n",
    "print(l4)"
   ]
  },
  {
   "cell_type": "code",
   "execution_count": 7,
   "id": "5362d99f-e984-457d-94ec-cfde3d40eb75",
   "metadata": {},
   "outputs": [
    {
     "name": "stdout",
     "output_type": "stream",
     "text": [
      "[24, 26, 27, 28]\n"
     ]
    }
   ],
   "source": [
    "'''5. Remove an element from a list by its value.'''\n",
    "l5=[23,24,26,27,28]\n",
    "l5.remove(23)\n",
    "print(l5)"
   ]
  },
  {
   "cell_type": "code",
   "execution_count": 8,
   "id": "11ccbab3-720d-408b-9035-8ebbeb8f596b",
   "metadata": {},
   "outputs": [
    {
     "name": "stdout",
     "output_type": "stream",
     "text": [
      "[24, 25, 26, 27]\n"
     ]
    }
   ],
   "source": [
    "'''6. Remove an element from a list by its index.'''\n",
    "l6=[23,24,25,26,27]\n",
    "del l6[0]\n",
    "print(l6)"
   ]
  },
  {
   "cell_type": "code",
   "execution_count": null,
   "id": "f09bd564-c373-4502-9e82-138e26e6a710",
   "metadata": {},
   "outputs": [],
   "source": [
    "'''7. Check if an element exists in a list.'''\n",
    "l7=[33,34,35,36,37]\n",
    "if 33 in l7:\n",
    "    print(\"present\")\n",
    "else:\n",
    "    print(\"not present\")"
   ]
  },
  {
   "cell_type": "code",
   "execution_count": 12,
   "id": "e8d66453-5e0f-4265-9c82-9a77ad36c955",
   "metadata": {},
   "outputs": [
    {
     "name": "stdout",
     "output_type": "stream",
     "text": [
      "2\n"
     ]
    }
   ],
   "source": [
    "'''8. Find the index of the first occurrence of an element in a list.'''\n",
    "l8=[32,34,33,36,33]\n",
    "index=l8.index(33)\n",
    "print(index)"
   ]
  },
  {
   "cell_type": "code",
   "execution_count": null,
   "id": "25fb808c-a35f-4296-b31e-144dfbd8d3cf",
   "metadata": {},
   "outputs": [
    {
     "name": "stdout",
     "output_type": "stream",
     "text": [
      "3\n"
     ]
    }
   ],
   "source": [
    "'''9. Count the occurrences of an element in a list.\n",
    "'''\n",
    "l9=[10,20,30,20,40,20]\n",
    "count=l9.count(20)\n",
    "print(count)"
   ]
  },
  {
   "cell_type": "code",
   "execution_count": 14,
   "id": "fa822a08-0447-4a1e-8677-a0dab8e94891",
   "metadata": {},
   "outputs": [
    {
     "name": "stdout",
     "output_type": "stream",
     "text": [
      "reversed list :   [37, 36, 35, 34, 33]\n"
     ]
    }
   ],
   "source": [
    "'''10. Reverse the order of elements in a list'''\n",
    "l10=[33,34,35,36,37]\n",
    "rev_l10=l10[::-1]\n",
    "print(\"reversed list :  \",rev_l10)"
   ]
  },
  {
   "cell_type": "code",
   "execution_count": 16,
   "id": "6fc26e41-45b2-4434-a070-3a5a1aab08a2",
   "metadata": {},
   "outputs": [
    {
     "name": "stdout",
     "output_type": "stream",
     "text": [
      "[33, 34, 35, 36, 37]\n"
     ]
    }
   ],
   "source": [
    "'''11. Sort a list in ascending order.'''\n",
    "l11=[37, 36, 35, 34, 33]\n",
    "l11.sort()\n",
    "print(l11)"
   ]
  },
  {
   "cell_type": "code",
   "execution_count": 18,
   "id": "c20cdff6-3421-40c5-827a-2555e71e3c4c",
   "metadata": {},
   "outputs": [
    {
     "name": "stdout",
     "output_type": "stream",
     "text": [
      "[40, 30, 20, 20, 20, 10]\n"
     ]
    }
   ],
   "source": [
    "'''12. Sort a list in descending order.'''\n",
    "l12=[10,20,30,20,40,20]\n",
    "l12.sort(reverse=True)\n",
    "print(l12)"
   ]
  },
  {
   "cell_type": "code",
   "execution_count": 21,
   "id": "4dfc4750-2a0f-48e5-86ae-7d0ffbfdabbd",
   "metadata": {},
   "outputs": [
    {
     "name": "stdout",
     "output_type": "stream",
     "text": [
      "[2, 4, 6, 8, 10, 12, 14, 16, 18, 20]\n"
     ]
    }
   ],
   "source": [
    "'''13. Create a list of even numbers from 1 to 20.'''\n",
    "l13=list(range(2,21,2))\n",
    "print(l13)"
   ]
  },
  {
   "cell_type": "code",
   "execution_count": 22,
   "id": "bdb96f47-dfa6-48da-84a6-0058470608a3",
   "metadata": {},
   "outputs": [
    {
     "name": "stdout",
     "output_type": "stream",
     "text": [
      "[1, 3, 5, 7, 9, 11, 13, 15, 17, 19]\n"
     ]
    }
   ],
   "source": [
    "'''14. Create a list of odd numbers from 1 to 20.\n",
    "'''\n",
    "odd_numbers = list(range(1, 21, 2))\n",
    "print(odd_numbers)"
   ]
  },
  {
   "cell_type": "code",
   "execution_count": 1,
   "id": "61719721-dea4-43cc-85f3-37b31fc3560f",
   "metadata": {},
   "outputs": [
    {
     "name": "stdout",
     "output_type": "stream",
     "text": [
      "sum is :  25\n"
     ]
    }
   ],
   "source": [
    "'''15. Find the sum of all elements in a list.'''\n",
    "l15=[1, 3, 5, 7, 9]\n",
    "sum=0\n",
    "for item in l15:\n",
    "    sum+=item\n",
    "print(\"sum is : \",sum)"
   ]
  },
  {
   "cell_type": "code",
   "execution_count": 3,
   "id": "bc533774-4cc2-450f-9560-c5011d8742d7",
   "metadata": {},
   "outputs": [
    {
     "name": "stdout",
     "output_type": "stream",
     "text": [
      "max element is :  9\n"
     ]
    }
   ],
   "source": [
    "'''16. Find the maximum value in a list.\n",
    "'''\n",
    "\n",
    "l16=[1, 3, 5, 7, 9]\n",
    "max_ele=max(l16)\n",
    "print(\"max element is : \" ,max_ele)\n"
   ]
  },
  {
   "cell_type": "code",
   "execution_count": 4,
   "id": "2518cded-30c2-42c0-8c53-fe668d55aa64",
   "metadata": {},
   "outputs": [
    {
     "name": "stdout",
     "output_type": "stream",
     "text": [
      "minimum element is :  1\n"
     ]
    }
   ],
   "source": [
    "'''17. Find the minimum value in a list.'''\n",
    "\n",
    "l17=[1, 3, 5, 7, 9]\n",
    "min_ele=min(l16)\n",
    "print(\"minimum element is : \" ,min_ele)\n"
   ]
  },
  {
   "cell_type": "code",
   "execution_count": 6,
   "id": "9e825e6a-92c0-4101-8d92-c193f90789fb",
   "metadata": {},
   "outputs": [
    {
     "name": "stdout",
     "output_type": "stream",
     "text": [
      "[0, 1, 4, 9, 16, 25, 36, 49, 64, 81, 100]\n"
     ]
    }
   ],
   "source": [
    "'''18. Create a list of squares of numbers from 1 to 10.'''\n",
    "l18=[]\n",
    "for i in range(11):\n",
    "    l18.append(i**2)\n",
    "print(l18)"
   ]
  },
  {
   "cell_type": "code",
   "execution_count": 8,
   "id": "73f32e1c-fb56-46e3-8f42-df10768dad12",
   "metadata": {},
   "outputs": [
    {
     "name": "stdout",
     "output_type": "stream",
     "text": [
      "[59, 34, 87, 67, 73, 8, 61, 17, 61, 30]\n"
     ]
    }
   ],
   "source": [
    "'''19. Create a list of random numbers.'''\n",
    "import random\n",
    "random_list = [random.randint(1, 100) for _ in range(10)]\n",
    "\n",
    "print(random_list)\n"
   ]
  },
  {
   "cell_type": "code",
   "execution_count": 9,
   "id": "3b47c040-1549-4476-a035-6dd3efe3c572",
   "metadata": {},
   "outputs": [
    {
     "name": "stdout",
     "output_type": "stream",
     "text": [
      "[0, 1, 4]\n"
     ]
    }
   ],
   "source": [
    "'''20. Remove duplicates from a list.'''\n",
    "l20=[0, 1, 4, 1,1,4,1,0]\n",
    "unique_ele=list(set(l20))\n",
    "print(unique_ele)"
   ]
  },
  {
   "cell_type": "code",
   "execution_count": 12,
   "id": "43f77d40-e2e4-4a51-b6b4-d586d4445fa8",
   "metadata": {},
   "outputs": [
    {
     "name": "stdout",
     "output_type": "stream",
     "text": [
      "[3, 4]\n"
     ]
    }
   ],
   "source": [
    "'''21. Find the common elements between two lists.'''\n",
    "l21a=[1,2,3,4]\n",
    "l21b=[3,5,6,4]\n",
    "common_ele=list( set(l21a) & set(l21b) )\n",
    "print(common_ele)"
   ]
  },
  {
   "cell_type": "code",
   "execution_count": 14,
   "id": "6df1e926-233f-473c-a10e-ae5b45049e23",
   "metadata": {},
   "outputs": [
    {
     "name": "stdout",
     "output_type": "stream",
     "text": [
      "[1, 2]\n"
     ]
    }
   ],
   "source": [
    "'''22. Find the difference between two lists.'''\n",
    "diff=list(set(l21a)-set(l21b))\n",
    "print(diff)"
   ]
  },
  {
   "cell_type": "code",
   "execution_count": 15,
   "id": "e6c36ae0-332a-4a0d-853b-6c15325e26a1",
   "metadata": {},
   "outputs": [
    {
     "name": "stdout",
     "output_type": "stream",
     "text": [
      "[1, 2, 3, 4, 3, 5, 6, 4]\n"
     ]
    }
   ],
   "source": [
    "'''23. Merge two lists.'''\n",
    "merged_list=l21a+l21b\n",
    "print(merged_list)"
   ]
  },
  {
   "cell_type": "code",
   "execution_count": 16,
   "id": "aa658782-9409-4d98-b650-4e6f2c85ed91",
   "metadata": {},
   "outputs": [
    {
     "name": "stdout",
     "output_type": "stream",
     "text": [
      "[2, 4, 6, 8]\n"
     ]
    }
   ],
   "source": [
    "'''24. Multiply all elements in a list by 2.'''\n",
    "mul_list=[x*2 for x in l21a]\n",
    "print(mul_list)"
   ]
  },
  {
   "cell_type": "code",
   "execution_count": 18,
   "id": "af477d0f-45c4-4bad-8fd4-e93064d67790",
   "metadata": {},
   "outputs": [
    {
     "name": "stdout",
     "output_type": "stream",
     "text": [
      "[0, 2, 4, 6, 8, 10, 12, 14, 16, 18, 20]\n"
     ]
    }
   ],
   "source": [
    "'''25. Filter out all even numbers from a list.'''\n",
    "nums=list(range(21))\n",
    "even_nums=[]\n",
    "[even_nums.append(x) for x in nums if x%2==0]\n",
    "print(even_nums)"
   ]
  },
  {
   "cell_type": "code",
   "execution_count": 20,
   "id": "5355b7b9-5fed-4f81-9739-e77d4ee52d28",
   "metadata": {},
   "outputs": [
    {
     "name": "stdout",
     "output_type": "stream",
     "text": [
      "[12, 13, 14, 15]\n"
     ]
    }
   ],
   "source": [
    "'''26. Convert a list of strings to a list of integers.'''\n",
    "str_list=['12','13','14','15']\n",
    "nums=[int(x) for x in str_list]\n",
    "print(nums)"
   ]
  },
  {
   "cell_type": "code",
   "execution_count": 21,
   "id": "8b01b9fe-c175-4f25-a066-1c66156207aa",
   "metadata": {},
   "outputs": [
    {
     "name": "stdout",
     "output_type": "stream",
     "text": [
      "['12', '13', '14', '15']\n"
     ]
    }
   ],
   "source": [
    "'''27. Convert a list of integers to a list of strings.'''\n",
    "str_list2=[str(x) for x in nums]\n",
    "print(str_list2)"
   ]
  },
  {
   "cell_type": "code",
   "execution_count": 22,
   "id": "8cbf3f58-3af3-417b-be84-910b56c6a307",
   "metadata": {},
   "outputs": [
    {
     "name": "stdout",
     "output_type": "stream",
     "text": [
      "[1, 2, 3, 4, 5, 6]\n"
     ]
    }
   ],
   "source": [
    "'''28. Flatten a nested list.'''\n",
    "l28=[ [1,2],[3,4],[5,6] ]\n",
    "flatten_list=[item for sub_list in l28 for item in sub_list]\n",
    "print(flatten_list)\n"
   ]
  },
  {
   "cell_type": "code",
   "execution_count": 24,
   "id": "41f48de2-fd8d-4ed0-bf07-7a6d5523e235",
   "metadata": {},
   "outputs": [
    {
     "name": "stdout",
     "output_type": "stream",
     "text": [
      "[0, 1, 1, 2, 3, 5, 8, 13, 21, 34]\n"
     ]
    }
   ],
   "source": [
    "'''29. Create a list of the first 10 Fibonacci numbers.\n",
    "'''\n",
    "fibbo=[0,1]\n",
    "while len(fibbo)<10:\n",
    "    fibbo.append(fibbo[-1]+fibbo[-2])\n",
    "    \n",
    "print(fibbo)"
   ]
  },
  {
   "cell_type": "code",
   "execution_count": 29,
   "id": "e7ea6542-687b-4738-ad1b-4f100e79e70e",
   "metadata": {},
   "outputs": [
    {
     "name": "stdout",
     "output_type": "stream",
     "text": [
      "True\n"
     ]
    }
   ],
   "source": [
    "'''30. Check if a list is sorted.'''\n",
    "l30=[1, 2, 3, 4, 5, 6]\n",
    "is_sorted = all(l30[i]<=l30[i+1] for i in range(len(l30)-1) ) \n",
    "print(is_sorted)"
   ]
  },
  {
   "cell_type": "code",
   "execution_count": 30,
   "id": "6287c602-a1f6-428b-af21-9309bbf994b4",
   "metadata": {},
   "outputs": [
    {
     "name": "stdin",
     "output_type": "stream",
     "text": [
      "Enter the value of shifting :  3\n"
     ]
    },
    {
     "name": "stdout",
     "output_type": "stream",
     "text": [
      "[4, 5, 6, 7, 8, 9, 10, 11, 12, 13, 14, 1, 2, 3]\n"
     ]
    }
   ],
   "source": [
    "'''31. Rotate a list to the left by `n` positions.'''\n",
    "l31=[1, 2, 3, 4, 5, 6,7,8,9,10,11,12,13,14]\n",
    "n=int(input(\"Enter the value of shifting : \"))\n",
    "rotated_list=l31[n:]+l31[:n]\n",
    "print(rotated_list)\n"
   ]
  },
  {
   "cell_type": "code",
   "execution_count": 31,
   "id": "7e5671dc-72d1-48e2-804a-d47758d907d9",
   "metadata": {},
   "outputs": [
    {
     "name": "stdin",
     "output_type": "stream",
     "text": [
      "Enter the value of shifting :  3\n"
     ]
    },
    {
     "name": "stdout",
     "output_type": "stream",
     "text": [
      "[12, 13, 14, 1, 2, 3, 4, 5, 6, 7, 8, 9, 10, 11]\n"
     ]
    }
   ],
   "source": [
    "'''32. Rotate a list to the right by `n` positions.'''\n",
    "l32=[1, 2, 3, 4, 5, 6,7,8,9,10,11,12,13,14]\n",
    "n6=int(input(\"Enter the value of shifting : \"))\n",
    "rotated_list2=l32[-n:]+l32[:-n]\n",
    "print(rotated_list2)"
   ]
  },
  {
   "cell_type": "code",
   "execution_count": 33,
   "id": "ee0fb77b-1bbe-4faa-991c-8604b66ef5e9",
   "metadata": {},
   "outputs": [
    {
     "name": "stdout",
     "output_type": "stream",
     "text": [
      "[2, 3, 5, 7, 11, 13, 17, 19, 23, 29, 31, 37, 41, 43, 47]\n"
     ]
    }
   ],
   "source": [
    "'''33. Create a list of prime numbers up to 50.'''\n",
    "def is_prime(num):\n",
    "    if num < 2:\n",
    "        return False\n",
    "    for i in range(2, int(num**0.5) + 1):\n",
    "        if num % i == 0:\n",
    "            return False\n",
    "    return True\n",
    "\n",
    "prime_list = [num for num in range(2, 51) if is_prime(num)]\n",
    "\n",
    "print(prime_list)"
   ]
  },
  {
   "cell_type": "code",
   "execution_count": 34,
   "id": "50055e0e-aec7-4e41-9ab6-ac1ce5786ec0",
   "metadata": {},
   "outputs": [
    {
     "name": "stdout",
     "output_type": "stream",
     "text": [
      "[[1, 2, 3], [4, 5, 6], [7, 8, 9]]\n"
     ]
    }
   ],
   "source": [
    "'''34. Split a list into chunks of size `n`.'''\n",
    "my_list = [1, 2, 3, 4, 5, 6, 7, 8, 9]\n",
    "n = 3\n",
    "chunked_list = [my_list[i:i + n] for i in range(0, len(my_list), n)]\n",
    "\n",
    "print(chunked_list)"
   ]
  },
  {
   "cell_type": "code",
   "execution_count": 50,
   "id": "98547468-910c-4e29-aaed-96b20e9003ae",
   "metadata": {},
   "outputs": [
    {
     "name": "stdout",
     "output_type": "stream",
     "text": [
      "largest is :  87 \n",
      "second_largest is :  73\n"
     ]
    }
   ],
   "source": [
    "'''35. Find the second largest number in a list.'''\n",
    "l35=[59, 34, 87, 67, 73, 8, 61, 17, 61, 30]\n",
    "largest=l35[0]\n",
    "second_largest=l35[0]\n",
    "\n",
    "if len(l35)>0:\n",
    "    for item_35 in l35:\n",
    "        if item_35 >largest:\n",
    "            # print(largest,second_largest,item_35)\n",
    "            second_largest=largest\n",
    "            largest=item_35           \n",
    "        elif item_35 < largest and item_35 >second_largest:\n",
    "            second_largest=item_35\n",
    "print(\"largest is : \",largest,\"\\nsecond_largest is : \",second_largest)"
   ]
  },
  {
   "cell_type": "code",
   "execution_count": 54,
   "id": "51544bba-64d4-4d77-bb4e-87f0af8de423",
   "metadata": {},
   "outputs": [
    {
     "name": "stdout",
     "output_type": "stream",
     "text": [
      "[1, 4, 9, 16, 25, 36, 49, 64, 81]\n"
     ]
    }
   ],
   "source": [
    "'''36. Replace every element in a list with its square.'''\n",
    "\n",
    "list36 = [1, 2, 3, 4, 5, 6, 7, 8, 9]\n",
    "\n",
    "for i in range(len(list36)):\n",
    "    list36[i] = list36[i]**2\n",
    "\n",
    "print(list36)\n",
    "    "
   ]
  },
  {
   "cell_type": "code",
   "execution_count": 56,
   "id": "e66a6476-1285-41e3-95e6-74d9171686a5",
   "metadata": {},
   "outputs": [
    {
     "name": "stdout",
     "output_type": "stream",
     "text": [
      "{'23': 0, '24': 1, '25': 2, '26': 3}\n"
     ]
    }
   ],
   "source": [
    "'''37. Convert a list to a dictionary where list elements become keys and their\n",
    "indices become values.'''\n",
    "dict37=dict()\n",
    "\n",
    "list37=[23,24,25,26]\n",
    "\n",
    "for i in range(len(list37)):\n",
    "    dict37[list37[i]]=i\n",
    "print(dict37)"
   ]
  },
  {
   "cell_type": "code",
   "execution_count": 60,
   "id": "45c6537a-446b-4277-8f5d-4550fd0f4451",
   "metadata": {},
   "outputs": [
    {
     "name": "stdout",
     "output_type": "stream",
     "text": [
      "[7, 8, 9, 6, 3, 2, 1, 5, 4]\n"
     ]
    }
   ],
   "source": [
    "'''38. Shuffle the elements of a list randomly.'''\n",
    "import random\n",
    "list38=[1, 2, 3, 4, 5, 6, 7, 8, 9]\n",
    "random .shuffle(list38)\n",
    "print(list38)"
   ]
  },
  {
   "cell_type": "code",
   "execution_count": 62,
   "id": "e0231ac8-6f6e-4633-ba38-84a45651a1da",
   "metadata": {},
   "outputs": [
    {
     "name": "stdout",
     "output_type": "stream",
     "text": [
      "[1, 2, 6, 24, 120, 720, 5040, 40320, 362880, 3628800]\n"
     ]
    }
   ],
   "source": [
    "'''39. Create a list of the first 10 factorial numbers.'''\n",
    "\n",
    "import math\n",
    "\n",
    "factorial_lis = [ math.factorial(x) for x in range(1,11)]\n",
    "print(factorial_lis)"
   ]
  },
  {
   "cell_type": "code",
   "execution_count": null,
   "id": "407073ce-77f3-431e-a744-00b3b9fa46e0",
   "metadata": {},
   "outputs": [],
   "source": [
    "'''40. Check if two lists have at least one element in common.\n",
    "'''\n",
    "\n",
    "l40a=[1,2,3,4]\n",
    "l40b=[1,6,7,8]\n",
    "\n",
    "com=set(l40a) & set(l40b)\n",
    "\n",
    "if len(com)>0:\n",
    "    print(\"yes lists have at least one common element \")\n",
    "else:\n",
    "    print(\"no common element \")"
   ]
  },
  {
   "cell_type": "code",
   "execution_count": 63,
   "id": "7bb690dd-3175-4f18-81ce-98eed862e7ed",
   "metadata": {},
   "outputs": [
    {
     "name": "stdout",
     "output_type": "stream",
     "text": [
      "[]\n"
     ]
    }
   ],
   "source": [
    "'''41. Remove all elements from a list.'''\n",
    "\n",
    "l41=[1,2,3,4]\n",
    "l41.clear()\n",
    "print(l41)"
   ]
  },
  {
   "cell_type": "code",
   "execution_count": 68,
   "id": "fc79a586-af33-477b-9855-d18ba10ca888",
   "metadata": {},
   "outputs": [
    {
     "name": "stdout",
     "output_type": "stream",
     "text": [
      "[7, 0, 9, 0, 3, 0, 1, 0, 4]\n"
     ]
    }
   ],
   "source": [
    "'''42. Replace negative numbers in a list with 0.'''\n",
    "\n",
    "l42=[7, -8, 9, -6, 3, -2, 1, -5, 4]\n",
    "\n",
    "# for i in range(len(l42)):\n",
    "#     if l42[i]<0:\n",
    "#         l42[i]=0\n",
    "#prin(l42)\n",
    "modified_list = [max(0, x) for x in l42]\n",
    "\n",
    "print(modified_list)"
   ]
  },
  {
   "cell_type": "code",
   "execution_count": 69,
   "id": "9bd82ff4-5d5c-4f6e-a737-ce374eaaee5a",
   "metadata": {},
   "outputs": [
    {
     "name": "stdout",
     "output_type": "stream",
     "text": [
      "['find', 'the', 'one', 'with', 'the', 'maximum', 'length']\n"
     ]
    }
   ],
   "source": [
    "'''43. Convert a string into a list of words.\n",
    "'''\n",
    "str23=\"find the one with the maximum length\"\n",
    "list43=str23.split()\n",
    "print(list43)"
   ]
  },
  {
   "cell_type": "code",
   "execution_count": 70,
   "id": "fd54bbeb-f8f7-4ce5-aff5-fa5b0f563c6c",
   "metadata": {},
   "outputs": [
    {
     "name": "stdout",
     "output_type": "stream",
     "text": [
      "find the one with the maximum length\n"
     ]
    }
   ],
   "source": [
    "'''44. Convert a list of words into a string.'''\n",
    "list44=['find', 'the', 'one', 'with', 'the', 'maximum', 'length']\n",
    "str24=' '.join(list44)\n",
    "print(str24)"
   ]
  },
  {
   "cell_type": "code",
   "execution_count": 72,
   "id": "ab047dd4-ca04-48d1-8bd8-4d08e850fbb9",
   "metadata": {},
   "outputs": [
    {
     "name": "stdin",
     "output_type": "stream",
     "text": [
      "Enter the value of n :  15\n"
     ]
    },
    {
     "name": "stdout",
     "output_type": "stream",
     "text": [
      "first n powers of 2 are :  1 2 4 8 16 32 64 128 256 512 1024 2048 4096 8192 16384 32768 "
     ]
    }
   ],
   "source": [
    "'''45. Create a list of the first `n` powers of 2.'''\n",
    "\n",
    "n=int(input(\"Enter the value of n : \" ))\n",
    "print(\"first n powers of 2 are : \",end=' ')\n",
    "for i in range(n+1):\n",
    "    print(2**i,end=' ')"
   ]
  },
  {
   "cell_type": "code",
   "execution_count": 76,
   "id": "778ac73a-82cf-479c-a42f-7b72eb646ba4",
   "metadata": {},
   "outputs": [
    {
     "name": "stdout",
     "output_type": "stream",
     "text": [
      "longest string is :  exclusive\n"
     ]
    }
   ],
   "source": [
    "'''46. Find the longest string in a list of strings.'''\n",
    "list46=['find', 'the', 'one', 'with', 'the', 'exclusive', 'manner']\n",
    "lon_str=max(list46,key=len)\n",
    "print(\"longest string is : \",lon_str)"
   ]
  },
  {
   "cell_type": "code",
   "execution_count": 77,
   "id": "057b1106-eae5-42d0-b77b-54b4af97e6d7",
   "metadata": {},
   "outputs": [
    {
     "name": "stdout",
     "output_type": "stream",
     "text": [
      "shortest string is :  the\n"
     ]
    }
   ],
   "source": [
    "'''47. Find the shortest string in a list of strings.'''\n",
    "list47=['find', 'the', 'one', 'with', 'the', 'exclusive', 'manner']\n",
    "sor_str=min(list47,key=len)\n",
    "print(\"shortest string is : \",sor_str)"
   ]
  },
  {
   "cell_type": "code",
   "execution_count": 79,
   "id": "0b5a6cfc-d4bf-461d-98e1-471d10d97768",
   "metadata": {},
   "outputs": [
    {
     "name": "stdout",
     "output_type": "stream",
     "text": [
      "[1, 3, 6, 10, 15]\n"
     ]
    }
   ],
   "source": [
    "'''48. Create a list of the first `n` triangular numbers.'''\n",
    "\n",
    "def triangular_number(n):\n",
    "    return n * (n + 1) // 2\n",
    "\n",
    "n = 5\n",
    "triangular_numbers = [triangular_number(i) for i in range(1, n + 1)]\n",
    "print(triangular_numbers)"
   ]
  },
  {
   "cell_type": "code",
   "execution_count": 80,
   "id": "1b0ae153-aab9-4271-91b0-0e3ec2c2accc",
   "metadata": {},
   "outputs": [
    {
     "name": "stdout",
     "output_type": "stream",
     "text": [
      "True\n"
     ]
    }
   ],
   "source": [
    "'''49. Check if a list contains another list as a subsequence.\n",
    "'''\n",
    "list49a = [1, 2, 3, 4, 5]\n",
    "list49b = [2, 3, 4]\n",
    "is_subsequence = all(item in list49 for item in list2)\n",
    "print(is_subsequence)"
   ]
  },
  {
   "cell_type": "code",
   "execution_count": null,
   "id": "88f8c8c1-ad76-4234-9f1c-5eec35e51a97",
   "metadata": {},
   "outputs": [],
   "source": [
    "'''50. Swap two elements in a list by their indices'''\n",
    "my_list = [1, 2, 3, 4, 5]\n",
    "index1, index2 = 1, 3\n",
    "my_list[index1], my_list[index2] = my_list[index2], my_list[index1]\n"
   ]
  }
 ],
 "metadata": {
  "kernelspec": {
   "display_name": "Python 3 (ipykernel)",
   "language": "python",
   "name": "python3"
  },
  "language_info": {
   "codemirror_mode": {
    "name": "ipython",
    "version": 3
   },
   "file_extension": ".py",
   "mimetype": "text/x-python",
   "name": "python",
   "nbconvert_exporter": "python",
   "pygments_lexer": "ipython3",
   "version": "3.10.8"
  }
 },
 "nbformat": 4,
 "nbformat_minor": 5
}
