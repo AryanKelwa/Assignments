{
 "cells": [
  {
   "cell_type": "code",
   "execution_count": null,
   "id": "acac8ac5-e536-49e3-af54-3f0dcf2223e8",
   "metadata": {},
   "outputs": [],
   "source": [
    "Q1. Opening a File in Python:\n",
    "\n",
    "In Python, the open() function is used to open a file. It takes two arguments primarily: the file path and the mode in which the file should be opened.\n",
    "Modes of Opening a File:\n",
    "\n",
    "'r' (Read Mode): This is the default mode. It opens the file for reading only. If the file doesn't exist, it raises a FileNotFoundError.\n",
    "'w' (Write Mode): It opens the file for writing. If the file exists, it truncates the file to zero length. If the file doesn't exist, it creates a new file.\n",
    "'a' (Append Mode): It opens the file for appending. The new data being written will be inserted at the end of the file.\n",
    "'r+' (Read and Write Mode): It opens the file for both reading and writing.\n",
    "'w+' (Write and Read Mode): It opens the file for reading and writing. It truncates the file to zero length if it exists, otherwise, it creates a new file.\n",
    "'a+' (Append and Read Mode): It opens the file for reading and appending. It creates a new file if it doesn't exist."
   ]
  },
  {
   "cell_type": "code",
   "execution_count": null,
   "id": "7aa120ee-2fa0-415e-b62c-c84a538f52fa",
   "metadata": {},
   "outputs": [],
   "source": [
    "Q2. Purpose of close() Function:\n",
    "\n",
    "The close() function is used to close the file after it has been opened and operated upon. It is important to close a file to release the \n",
    "resources associated with it, such as file descriptors. Failing to close a file properly can lead to resource leaks and potential issues with \n",
    "file locking."
   ]
  },
  {
   "cell_type": "code",
   "execution_count": null,
   "id": "38742897-570d-46af-82a9-09b174a7eefd",
   "metadata": {},
   "outputs": [],
   "source": [
    "# Q3. Python Program to Create a Text File, Write, and Read:\n",
    "# Open file in write mode, write content, and close the file\n",
    "\n",
    "with open(\"data_scientist.txt\", \"w\") as file:\n",
    "    file.write(\"I want to become a Data Scientist\")\n",
    "\n",
    "# Open file in read mode, read content, and print it\n",
    "with open(\"data_scientist.txt\", \"r\") as file:\n",
    "    content = file.read()\n",
    "    print(content)\n",
    "\n",
    "\n",
    "    \n",
    "    "
   ]
  },
  {
   "cell_type": "code",
   "execution_count": null,
   "id": "4078869b-33ce-406d-90ac-2ea90cc1cca4",
   "metadata": {},
   "outputs": [],
   "source": [
    "Q4. Explanation of read(), readline(), and readlines():\n",
    "\n",
    "read(): Reads the entire content of the file and returns it as a string.\n",
    "readline(): Reads a single line from the file and returns it as a string. It moves the file pointer to the next line.\n",
    "readlines(): Reads all lines from the file and returns them as a list of strings, where each string represents a line in the file.\n",
    "\n",
    "\n",
    "Q5. Usage of 'with' Statement with open():\n",
    "\n",
    "The 'with' statement in Python is used to ensure that the file is properly closed after its suite finishes execution, even if an exception\n",
    "is raised during the operation. When used with open(), it automatically closes the file once the block is exited, hence ensuring clean and \n",
    "safe handling of files.\n",
    "\n",
    "\n",
    "Q6. Explanation of write() and writelines():\n",
    "\n",
    "write(): Writes the specified string to the file. If the file doesn't exist, it creates a new file. If it exists, it overwrites the existing \n",
    "        content with the new content.\n",
    "writelines(): Writes a list of lines to the file. It does not add newline characters by itself, so you need to explicitly include them if \n",
    "    needed."
   ]
  },
  {
   "cell_type": "code",
   "execution_count": null,
   "id": "f7d28714-7ba6-4200-b29d-232d5d44f693",
   "metadata": {},
   "outputs": [],
   "source": [
    "# Writing to a file using write()\n",
    "with open(\"example.txt\", \"w\") as file:\n",
    "    file.write(\"This is line 1\\n\")\n",
    "    file.write(\"This is line 2\\n\")\n",
    "\n",
    "# Writing to a file using writelines()\n",
    "lines = [\"This is line 1\\n\", \"This is line 2\\n\"]\n",
    "with open(\"example.txt\", \"w\") as file:\n",
    "    file.writelines(lines)\n"
   ]
  },
  {
   "cell_type": "code",
   "execution_count": null,
   "id": "59c2ae59-0f2f-4042-93ee-e48f77d1362a",
   "metadata": {},
   "outputs": [],
   "source": []
  },
  {
   "cell_type": "code",
   "execution_count": null,
   "id": "e8f10289-93b6-43c9-bd5a-ea8477c57ba5",
   "metadata": {},
   "outputs": [],
   "source": []
  },
  {
   "cell_type": "code",
   "execution_count": null,
   "id": "ca039cd1-566e-4a30-bfd1-c91f12389d0e",
   "metadata": {},
   "outputs": [],
   "source": []
  }
 ],
 "metadata": {
  "kernelspec": {
   "display_name": "Python 3 (ipykernel)",
   "language": "python",
   "name": "python3"
  },
  "language_info": {
   "codemirror_mode": {
    "name": "ipython",
    "version": 3
   },
   "file_extension": ".py",
   "mimetype": "text/x-python",
   "name": "python",
   "nbconvert_exporter": "python",
   "pygments_lexer": "ipython3",
   "version": "3.10.8"
  }
 },
 "nbformat": 4,
 "nbformat_minor": 5
}
