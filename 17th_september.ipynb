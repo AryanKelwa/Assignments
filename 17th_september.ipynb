{
 "cells": [
  {
   "cell_type": "code",
   "execution_count": 1,
   "id": "e6ba1b6a-6fe8-419f-812a-cc3b9ff5d2d8",
   "metadata": {},
   "outputs": [
    {
     "name": "stdout",
     "output_type": "stream",
     "text": [
      "0\n",
      "1\n",
      "2\n",
      "3\n",
      "4\n",
      "5\n",
      "6\n",
      "7\n",
      "8\n",
      "9\n",
      "10\n"
     ]
    },
    {
     "data": {
      "text/plain": [
       "[None, None, None, None, None, None, None, None, None, None, None]"
      ]
     },
     "execution_count": 1,
     "metadata": {},
     "output_type": "execute_result"
    }
   ],
   "source": [
    "'''1. Write a Python program to print numbers from 1 to 10 using a for loop.'''\n",
    "[print(i) for i in range(11)]"
   ]
  },
  {
   "cell_type": "code",
   "execution_count": null,
   "id": "16ae6b8e-eb6e-453d-b8d3-43e8cc3b4782",
   "metadata": {},
   "outputs": [],
   "source": [
    "'''2. Explain the difference between a for loop and a while loop in Python.'''\n",
    "A for loop in Python is used to iterate over a sequence of items. \n",
    "The sequence can be a list, tuple, string, or any other iterable object.\n",
    "\n",
    "A while loop in Python is used to repeatedly execute a block of statements while a condition is true."
   ]
  },
  {
   "cell_type": "code",
   "execution_count": 1,
   "id": "bc2389f3-ed52-410b-a443-23646b882448",
   "metadata": {},
   "outputs": [
    {
     "data": {
      "text/plain": [
       "5050"
      ]
     },
     "execution_count": 1,
     "metadata": {},
     "output_type": "execute_result"
    }
   ],
   "source": [
    "'''3. Write a Python program to calculate the sum of all numbers from 1 to 100 using a for loop.'''\n",
    "\n",
    "sum([x for x in range(101)])"
   ]
  },
  {
   "cell_type": "code",
   "execution_count": 2,
   "id": "7d4fb7a3-b247-409c-87ca-61427efc9a1e",
   "metadata": {},
   "outputs": [
    {
     "name": "stdout",
     "output_type": "stream",
     "text": [
      "1\n",
      "2\n",
      "3\n",
      "4\n",
      "5\n",
      "6\n",
      "6\n",
      "9\n"
     ]
    }
   ],
   "source": [
    "'''4. How do you iterate through a list using a for loop in Python?'''\n",
    "\n",
    "lst=[1,2,3,4,5,6,6,9]\n",
    "\n",
    "for e in lst:\n",
    "    print(e)"
   ]
  },
  {
   "cell_type": "code",
   "execution_count": 3,
   "id": "8a658afd-4b73-4a91-a994-c6c232641148",
   "metadata": {},
   "outputs": [
    {
     "name": "stdout",
     "output_type": "stream",
     "text": [
      "38880\n"
     ]
    }
   ],
   "source": [
    "'''5. Write a Python program to find the product of all elements in a list using a for loop.'''\n",
    "\n",
    "lst=[1,2,3,4,5,6,6,9]\n",
    "product=1\n",
    "for e in lst:\n",
    "    product*=e\n",
    "print(product)"
   ]
  },
  {
   "cell_type": "code",
   "execution_count": 9,
   "id": "2fb3e71b-e5a4-4415-a5b7-c7f1c3c14837",
   "metadata": {},
   "outputs": [
    {
     "name": "stdout",
     "output_type": "stream",
     "text": [
      "[2, 4, 6, 8, 10, 12, 14, 16, 18, 20]\n"
     ]
    }
   ],
   "source": [
    "'''6. Create a Python program that prints all even numbers from 1 to 20 using a for loop.'''\n",
    "\n",
    "ans=[x for x in range(1,21) if x%2==0]\n",
    "print(ans)"
   ]
  },
  {
   "cell_type": "code",
   "execution_count": 10,
   "id": "1b526c31-3f22-4e30-8ef5-23e7c2d9592f",
   "metadata": {},
   "outputs": [
    {
     "name": "stdin",
     "output_type": "stream",
     "text": [
      "Enter a num 5\n"
     ]
    },
    {
     "name": "stdout",
     "output_type": "stream",
     "text": [
      "120\n"
     ]
    }
   ],
   "source": [
    "'''7. Write a Python program that calculates the factorial of a number using a for loop.'''\n",
    "\n",
    "n=int(input(\"Enter a num\"))\n",
    "fact=1\n",
    "for e in range(1,n+1):\n",
    "    fact*=e\n",
    "print(fact)"
   ]
  },
  {
   "cell_type": "code",
   "execution_count": 12,
   "id": "4b091539-6295-47d3-8909-c8ef1ee9c645",
   "metadata": {},
   "outputs": [
    {
     "name": "stdout",
     "output_type": "stream",
     "text": [
      "A r y a n   i s   l e a r n i n g   a   p y t h o n   p r o g r a m m i n g "
     ]
    }
   ],
   "source": [
    "'''8. How can you iterate through the characters of a string using a for loop in Python?'''\n",
    "\n",
    "sent=\"Aryan is learning a python programming\"\n",
    "for char in sent:\n",
    "    print(char,end=\" \")\n"
   ]
  },
  {
   "cell_type": "code",
   "execution_count": 13,
   "id": "fe67fae4-bc7f-4ea5-891f-183952bb3706",
   "metadata": {},
   "outputs": [
    {
     "name": "stdout",
     "output_type": "stream",
     "text": [
      "20\n"
     ]
    }
   ],
   "source": [
    "'''9. Write a Python program to find the largest number in a list using a for loop.'''\n",
    "lst=[2, 4, 6, 8, 10, 12, 14, 16, 18, 20]\n",
    "\n",
    "print(max(lst))\n"
   ]
  },
  {
   "cell_type": "code",
   "execution_count": 18,
   "id": "2b6fafb3-2015-4afd-8595-6e38ca3a92c2",
   "metadata": {},
   "outputs": [
    {
     "name": "stdout",
     "output_type": "stream",
     "text": [
      "0\n",
      "1\n",
      "1 2 3 5 8 13 21 34 55 89 144 233 377 610 987 1597 2584 4181 6765 10946 17711 28657 46368 75025 121393 196418 317811 514229 "
     ]
    }
   ],
   "source": [
    "'''10. Create a Python program that prints the Fibonacci sequence up to a specified limit using a for\n",
    "loop.'''\n",
    "\n",
    "a = 0\n",
    "b = 1\n",
    "print(a)\n",
    "print(b)\n",
    "limit=30\n",
    "for i in range(2, limit):\n",
    "    next_term = a + b\n",
    "    a = b\n",
    "    b = next_term\n",
    "    print(next_term,end=\" \")\n",
    "\n",
    "\n"
   ]
  },
  {
   "cell_type": "code",
   "execution_count": 21,
   "id": "3b8dd4db-b978-4bb6-84da-cc3c625f89ed",
   "metadata": {},
   "outputs": [
    {
     "name": "stdout",
     "output_type": "stream",
     "text": [
      "e i e e a e i e a o a i o u i o e o e o i e a a a "
     ]
    },
    {
     "data": {
      "text/plain": [
       "25"
      ]
     },
     "execution_count": 21,
     "metadata": {},
     "output_type": "execute_result"
    }
   ],
   "source": [
    "'''11. Write a Python program to count the number of vowels in a given string using a for loop.'''\n",
    "sen='The internet makes it easy to stay in touch with loved ones who live far away.'\n",
    "cnt=0\n",
    "for char in sen:\n",
    "    if char in \"AEIOUaeiou\":\n",
    "        cnt+=1\n",
    "cnt   "
   ]
  },
  {
   "cell_type": "code",
   "execution_count": 52,
   "id": "b80c2dee-81a7-4c74-adac-1cfe8410f619",
   "metadata": {},
   "outputs": [
    {
     "name": "stdout",
     "output_type": "stream",
     "text": [
      "7 * 1 = 7\n",
      "7 * 2 = 14\n",
      "7 * 3 = 21\n",
      "7 * 4 = 28\n",
      "7 * 5 = 35\n",
      "7 * 6 = 42\n",
      "7 * 7 = 49\n",
      "7 * 8 = 56\n",
      "7 * 9 = 63\n",
      "7 * 10 = 70\n"
     ]
    }
   ],
   "source": [
    "'''12. Create a Python program that generates a multiplication table for a given number using a for\n",
    "loop.'''\n",
    "number=7\n",
    "multiplication_table = []\n",
    "for i in range(1, 11):\n",
    "    multiplication_table.append(f\"{number} * {i} = {number * i}\")\n",
    "    \n",
    "multiplication_table=[print(x) for x in multiplication_table]"
   ]
  },
  {
   "cell_type": "code",
   "execution_count": 1,
   "id": "57a1a06b-2786-4cf9-af29-e4044bf0bd39",
   "metadata": {},
   "outputs": [
    {
     "name": "stdout",
     "output_type": "stream",
     "text": [
      "[6, 5, 4, 3, 2, 1]\n"
     ]
    }
   ],
   "source": [
    "'''13. Write a Python program to reverse a list using a for loop.'''\n",
    "\n",
    "lst=[1,2,3,4,5,6]\n",
    "\n",
    "print(lst[::-1])"
   ]
  },
  {
   "cell_type": "code",
   "execution_count": 2,
   "id": "d78e5751-c704-48a3-875b-8c680bb45bf9",
   "metadata": {},
   "outputs": [
    {
     "name": "stdout",
     "output_type": "stream",
     "text": [
      "3\n",
      "4\n",
      "5\n",
      "6\n"
     ]
    }
   ],
   "source": [
    "'''14. Write a Python program to find the common elements between two lists using a for loop.\n",
    "\n",
    "'''\n",
    "\n",
    "lst=[1,2,3,4,5,6]\n",
    "lst2=[3,4,5,6,7,8,9]\n",
    "\n",
    "for el in lst:\n",
    "    if el in lst2:\n",
    "        print(el)"
   ]
  },
  {
   "cell_type": "code",
   "execution_count": 1,
   "id": "10be3253-efd2-4692-845c-69db4a5047b5",
   "metadata": {},
   "outputs": [
    {
     "name": "stdout",
     "output_type": "stream",
     "text": [
      "India\n",
      "normal\n",
      "yes\n",
      "shri Narendra Modi\n"
     ]
    }
   ],
   "source": [
    "'''15. Explain how to use a for loop to iterate through the keys and values of a dictionary in Python.'''\n",
    "\n",
    "my_dict={\"country\":\"India\",\"weather\":\"normal\",\"asian\":\"yes\",\"pm\":\"shri Narendra Modi\"}\n",
    "\n",
    "for key in my_dict:\n",
    "    print(my_dict[key])\n",
    "         "
   ]
  },
  {
   "cell_type": "code",
   "execution_count": null,
   "id": "25f2069d-bb8c-4362-a702-9d9783648176",
   "metadata": {},
   "outputs": [],
   "source": [
    "'''16. Write a Python program to find the GCD (Greatest Common Divisor) of two numbers using a for\n",
    "loop.'''\n",
    "n=20\n",
    "gcd=0\n",
    "for div in range(n)"
   ]
  },
  {
   "cell_type": "code",
   "execution_count": 3,
   "id": "9dee93b4-2168-424b-bba3-82dc975d4016",
   "metadata": {},
   "outputs": [
    {
     "name": "stdout",
     "output_type": "stream",
     "text": [
      "pallindrome\n"
     ]
    }
   ],
   "source": [
    "'''17. Create a Python program that checks if a string is a palindrome using a for loop.'''\n",
    "\n",
    "sent=\"nitin\"\n",
    "\n",
    "st=0\n",
    "end=-1\n",
    "for i in range(len(sent) // 2):\n",
    "    if sent[i]!=sent[-(i+1)]:\n",
    "        print(\"not pallindrome\")\n",
    "print(\"pallindrome\")\n"
   ]
  },
  {
   "cell_type": "code",
   "execution_count": 4,
   "id": "f434388c-7d07-423a-b423-676eba35c2ec",
   "metadata": {},
   "outputs": [
    {
     "data": {
      "text/plain": [
       "[1, 2, 3, 4]"
      ]
     },
     "execution_count": 4,
     "metadata": {},
     "output_type": "execute_result"
    }
   ],
   "source": [
    "'''18. Write a Python program to remove duplicates from a list using a for loop.'''\n",
    "\n",
    "lst=[1,2,3,4,1,2,3,4]\n",
    "\n",
    "for el in lst:\n",
    "    if lst.count(el)>1:\n",
    "        lst.remove(el)\n",
    "lst"
   ]
  },
  {
   "cell_type": "code",
   "execution_count": 5,
   "id": "313c5197-e796-456a-adbb-f1efb225b9b5",
   "metadata": {},
   "outputs": [
    {
     "name": "stdout",
     "output_type": "stream",
     "text": [
      "8\n"
     ]
    }
   ],
   "source": [
    "'''19. Create a Python program that counts the number of words in a sentence using a for loop.'''\n",
    "sent=\"Today I am solving questions of python assignment\"\n",
    "cnt=0\n",
    "for el in sent.split():\n",
    "    cnt+=1\n",
    "print(cnt)"
   ]
  },
  {
   "cell_type": "code",
   "execution_count": 6,
   "id": "306b9b28-223d-4b7f-8396-551cb0eead1f",
   "metadata": {},
   "outputs": [
    {
     "name": "stdout",
     "output_type": "stream",
     "text": [
      "625\n"
     ]
    }
   ],
   "source": [
    "'''20. Write a Python program to find the sum of all odd numbers from 1 to 50 using a for loop.'''\n",
    "ans_sum=0\n",
    "for el in range(1,51,2):\n",
    "    ans_sum+=el\n",
    "print(ans_sum)\n",
    "    "
   ]
  },
  {
   "cell_type": "code",
   "execution_count": 22,
   "id": "f24effa9-9bfc-4426-9f7d-a480a21c5840",
   "metadata": {},
   "outputs": [
    {
     "name": "stdout",
     "output_type": "stream",
     "text": [
      "2024 is  a leap year\n",
      "hii\n"
     ]
    }
   ],
   "source": [
    "'''21. Write a Python program that checks if a given year is a leap year using a for loop.'''\n",
    "\n",
    "year=2024\n",
    "\n",
    "if year%4==0:\n",
    "    print(year,\"is  a leap year\")\n",
    "    pass\n",
    "    print(\"hii\")\n",
    "else:\n",
    "    print(year,\"is not a leap year\")\n",
    "    \n",
    "\n"
   ]
  },
  {
   "cell_type": "code",
   "execution_count": 23,
   "id": "a073040a-8618-40f5-8579-cb13ec5db049",
   "metadata": {},
   "outputs": [
    {
     "name": "stdin",
     "output_type": "stream",
     "text": [
      "Enter a number to calculate its square root:  13\n"
     ]
    },
    {
     "name": "stdout",
     "output_type": "stream",
     "text": [
      "The square root of 13.0 is approximately 3.605551\n"
     ]
    }
   ],
   "source": [
    "'''22. Create a Python program that calculates the square root of a number using a for loop.'''\n",
    "\n",
    "def calculate_square_root(number, precision=1e-7):\n",
    "    if number < 0:\n",
    "        return \"Cannot compute the square root of a negative number.\"\n",
    "\n",
    "    guess = number  # Initial guess\n",
    "    while True:\n",
    "        next_guess = 0.5 * (guess + number / guess)  # Babylonian method\n",
    "        if abs(next_guess - guess) < precision:\n",
    "            return next_guess  # Return the best approximation found\n",
    "        guess = next_guess\n",
    "\n",
    "# Input a number to calculate its square root\n",
    "number = float(input(\"Enter a number to calculate its square root: \"))\n",
    "\n",
    "result = calculate_square_root(number)\n",
    "print(f\"The square root of {number} is approximately {result:.6f}\")\n",
    "\n",
    "\n"
   ]
  },
  {
   "cell_type": "code",
   "execution_count": 11,
   "id": "c44725ac-0ca1-4a5c-ab33-3ee508e90697",
   "metadata": {},
   "outputs": [
    {
     "name": "stdin",
     "output_type": "stream",
     "text": [
      "Enter a first number 12\n",
      "Enter a second number 13\n"
     ]
    },
    {
     "name": "stdout",
     "output_type": "stream",
     "text": [
      "156\n"
     ]
    }
   ],
   "source": [
    "'''23. Write a Python program to find the LCM (Least Common Multiple) of two numbers using a for\n",
    "loop.'''\n",
    "\n",
    "n1=int(input(\"Enter a first number\"))\n",
    "n2=int(input(\"Enter a second number\"))\n",
    "gcd=-1\n",
    "for div in range(1,min(n1,n2)+1):\n",
    "    if n1%div==0 and n2%div==0:\n",
    "        gcd=div\n",
    "lcm=int((n1*n2)/gcd)\n",
    "\n",
    "print(lcm)"
   ]
  },
  {
   "cell_type": "code",
   "execution_count": 9,
   "id": "150ac6c4-ecf6-441e-976a-882a894068a6",
   "metadata": {},
   "outputs": [
    {
     "name": "stdin",
     "output_type": "stream",
     "text": [
      "Enter a number 2\n"
     ]
    },
    {
     "name": "stdout",
     "output_type": "stream",
     "text": [
      "pos\n"
     ]
    }
   ],
   "source": [
    "'''1. Write a Python program to check if a number is positive, negative, or zero using an if-else\n",
    "statement.\n",
    "\n",
    "\n",
    "\n",
    "'''\n",
    "\n",
    "n1=int(input(\"Enter a number\"))\n",
    "\n",
    "if n1>0:\n",
    "    print(\"pos\")\n",
    "elif n1<0:\n",
    "    print(\"neg\")\n",
    "else:\n",
    "    print(\"Zero\")"
   ]
  },
  {
   "cell_type": "code",
   "execution_count": 16,
   "id": "7c8cf922-3b25-4e5a-be52-62f7cb8a4f63",
   "metadata": {},
   "outputs": [
    {
     "name": "stdin",
     "output_type": "stream",
     "text": [
      "Enter a number 9\n"
     ]
    },
    {
     "name": "stdout",
     "output_type": "stream",
     "text": [
      "even\n"
     ]
    }
   ],
   "source": [
    "'''2. Create a Python program that checks if a given number is even or odd using an if-else statement.'''\n",
    "\n",
    "n1=int(input(\"Enter a number\"))\n",
    "#using bitwise operator\n",
    "\n",
    "if n1&1:\n",
    "    print(\"odd\")\n",
    "else:\n",
    "    print(\"even\")\n"
   ]
  },
  {
   "cell_type": "code",
   "execution_count": 19,
   "id": "ac4e20b2-d726-48b6-a13a-2a9427342e60",
   "metadata": {},
   "outputs": [
    {
     "name": "stdout",
     "output_type": "stream",
     "text": [
      "Nested if else\n"
     ]
    }
   ],
   "source": [
    "'''3. How can you use nested if-else statements in Python, and provide an example?'''\n",
    "\n",
    "if 1:\n",
    "    if False:\n",
    "        pass\n",
    "    elif True:\n",
    "        print(\"Nested if else\")\n",
    "else:\n",
    "    print(\"else of nested if else\")"
   ]
  },
  {
   "cell_type": "code",
   "execution_count": 22,
   "id": "29c3a54e-4d93-41e8-aa31-3722a1d6eb53",
   "metadata": {},
   "outputs": [
    {
     "data": {
      "text/plain": [
       "45"
      ]
     },
     "execution_count": 22,
     "metadata": {},
     "output_type": "execute_result"
    }
   ],
   "source": [
    "'''4. Write a Python program to determine the largest of three numbers using if-else.'''\n",
    "\n",
    "a=12\n",
    "b=13\n",
    "c=45\n",
    "\n",
    "greater= lambda x,y,z: x if x>y and x>z  else y if y>x and y>z else z\n",
    "\n",
    "greater(a,b,c)"
   ]
  },
  {
   "cell_type": "code",
   "execution_count": 9,
   "id": "9007f2c5-9f32-4983-9768-845d965dd3f7",
   "metadata": {},
   "outputs": [
    {
     "name": "stdout",
     "output_type": "stream",
     "text": [
      "0\n",
      "1\n",
      "2\n",
      "3\n",
      "4\n",
      "5\n",
      "6\n",
      "end\n"
     ]
    }
   ],
   "source": [
    "'''5. Write a Python program that calculates the absolute value of a number using if-else.'''\n",
    "i=8\n",
    "j=7\n",
    "for i in range(j):\n",
    "    print(i)\n",
    "    j=100\n",
    "else:\n",
    "    print(\"end\")"
   ]
  },
  {
   "cell_type": "code",
   "execution_count": 1,
   "id": "5f172acc-2dcc-45d7-92a1-977513f3e35c",
   "metadata": {},
   "outputs": [
    {
     "name": "stdin",
     "output_type": "stream",
     "text": [
      "Enter a character:  r\n"
     ]
    },
    {
     "name": "stdout",
     "output_type": "stream",
     "text": [
      "r is a consonant.\n"
     ]
    }
   ],
   "source": [
    "'''6. Create a Python program that checks if a given character is a vowel or consonant using if-else.\n",
    "\n",
    "\n",
    "\n",
    "'''\n",
    "\n",
    "# Input a character\n",
    "char = input(\"Enter a character: \")\n",
    "\n",
    "if char.lower() in ('a', 'e', 'i', 'o', 'u'):\n",
    "    print(f\"{char} is a vowel.\")\n",
    "else:\n",
    "    print(f\"{char} is a consonant.\")\n"
   ]
  },
  {
   "cell_type": "code",
   "execution_count": 2,
   "id": "88a21c07-f84a-4439-8685-6c9972d97050",
   "metadata": {},
   "outputs": [
    {
     "name": "stdin",
     "output_type": "stream",
     "text": [
      "Enter your age:  56\n"
     ]
    },
    {
     "name": "stdout",
     "output_type": "stream",
     "text": [
      "You are eligible to vote.\n"
     ]
    }
   ],
   "source": [
    "'''7. Write a Python program to determine if a user is eligible to vote based on their age using if-else.'''\n",
    "# Input age\n",
    "age = int(input(\"Enter your age: \"))\n",
    "\n",
    "if age >= 18:\n",
    "    print(\"You are eligible to vote.\")\n",
    "else:\n",
    "    print(\"You are not eligible to vote.\")\n"
   ]
  },
  {
   "cell_type": "code",
   "execution_count": null,
   "id": "3a361599-cd18-49f2-883f-627d0e6441c7",
   "metadata": {},
   "outputs": [],
   "source": [
    "'''8. Create a Python program that calculates the discount amount based on the purchase amount\n",
    "using if-else.'''\n",
    "# Input purchase amount\n",
    "purchase_amount = float(input(\"Enter the purchase amount: \"))\n",
    "\n",
    "if purchase_amount >= 1000:\n",
    "    discount = 0.1 * purchase_amount  # 10% discount for purchases over 1000\n",
    "else:\n",
    "    discount = 0  # No discount for purchases under 1000\n",
    "\n",
    "final_amount = purchase_amount - discount\n",
    "print(f\"Discount: ${discount:.2f}\")\n",
    "print(f\"Final amount after discount: ${final_amount:.2f}\")\n"
   ]
  },
  {
   "cell_type": "code",
   "execution_count": 3,
   "id": "74300af5-234b-41d0-89a4-78eb729367be",
   "metadata": {},
   "outputs": [
    {
     "name": "stdin",
     "output_type": "stream",
     "text": [
      "Enter a number:  34\n"
     ]
    },
    {
     "name": "stdout",
     "output_type": "stream",
     "text": [
      "34.0 is within the range [10, 50].\n"
     ]
    }
   ],
   "source": [
    "'''9. Write a Python program to check if a number is within a specified range using if-else.\n",
    "'''\n",
    "# Input a number\n",
    "number = float(input(\"Enter a number: \"))\n",
    "\n",
    "min_range = 10\n",
    "max_range = 50\n",
    "\n",
    "if min_range <= number <= max_range:\n",
    "    print(f\"{number} is within the range [{min_range}, {max_range}].\")\n",
    "else:\n",
    "    print(f\"{number} is not within the range [{min_range}, {max_range}].\")\n"
   ]
  },
  {
   "cell_type": "code",
   "execution_count": 4,
   "id": "62bbb869-ae6e-4fd1-8c2e-7fda2ef556ba",
   "metadata": {},
   "outputs": [
    {
     "name": "stdin",
     "output_type": "stream",
     "text": [
      "Enter the student's score:  87\n"
     ]
    },
    {
     "name": "stdout",
     "output_type": "stream",
     "text": [
      "The student's grade is B.\n"
     ]
    }
   ],
   "source": [
    "'''10. Create a Python program that determines the grade of a student based on their score using\n",
    "if-else.'''\n",
    "# Input a student's score\n",
    "score = float(input(\"Enter the student's score: \"))\n",
    "\n",
    "if 90 <= score <= 100:\n",
    "    grade = 'A'\n",
    "elif 80 <= score < 90:\n",
    "    grade = 'B'\n",
    "elif 70 <= score < 80:\n",
    "    grade = 'C'\n",
    "elif 60 <= score < 70:\n",
    "    grade = 'D'\n",
    "else:\n",
    "    grade = 'F'\n",
    "\n",
    "print(f\"The student's grade is {grade}.\")\n"
   ]
  },
  {
   "cell_type": "code",
   "execution_count": 5,
   "id": "c31f04a4-9095-4fa6-a662-5f8115f911f4",
   "metadata": {},
   "outputs": [
    {
     "name": "stdout",
     "output_type": "stream",
     "text": [
      "string is empty\n"
     ]
    }
   ],
   "source": [
    "'''11. Write a Python program to check if a string is empty or not using if-else.'''\n",
    "\n",
    "string=\"\"\n",
    "\n",
    "if len(string)>0:\n",
    "    print(\"string is not empty\")\n",
    "else:\n",
    "    print(\"string is empty\")"
   ]
  },
  {
   "cell_type": "code",
   "execution_count": null,
   "id": "a9384bda-ebe8-4e2e-a8cb-44c77b5413c2",
   "metadata": {},
   "outputs": [],
   "source": [
    "'''12. Create a Python program that identifies the type of a triangle (e.g., equilateral, isosceles, or\n",
    "scalene) based on input values using if-else.'''\n",
    "# Input sides of the triangle\n",
    "side1 = float(input(\"Enter the length of side 1: \"))\n",
    "side2 = float(input(\"Enter the length of side 2: \"))\n",
    "side3 = float(input(\"Enter the length of side 3: \"))\n",
    "\n",
    "if side1 == side2 == side3:\n",
    "    print(\"It's an equilateral triangle.\")\n",
    "elif side1 == side2 or side2 == side3 or side1 == side3:\n",
    "    print(\"It's an isosceles triangle.\")\n",
    "else:\n",
    "    print(\"It's a scalene triangle.\")\n"
   ]
  },
  {
   "cell_type": "code",
   "execution_count": null,
   "id": "e2550b67-accb-416c-a359-876e66ebafc9",
   "metadata": {},
   "outputs": [],
   "source": [
    "'''13. Write a Python program to determine the day of the week based on a user-provided number\n",
    "using if-else.'''\n",
    "# Input a number (1-7) representing the day of the week\n",
    "day_number = int(input(\"Enter a number (1-7) for the day of the week: \"))\n",
    "\n",
    "if day_number == 1:\n",
    "    print(\"It's Monday.\")\n",
    "elif day_number == 2:\n",
    "    print(\"It's Tuesday.\")\n",
    "elif day_number == 3:\n",
    "    print(\"It's Wednesday.\")\n",
    "elif day_number == 4:\n",
    "    print(\"It's Thursday.\")\n",
    "elif day_number == 5:\n",
    "    print(\"It's Friday.\")\n",
    "elif day_number == 6:\n",
    "    print(\"It's Saturday.\")\n",
    "elif day_number == 7:\n",
    "    print(\"It's Sunday.\")\n",
    "else:\n",
    "    print(\"Invalid input. Please enter a number between 1 and 7.\")\n"
   ]
  },
  {
   "cell_type": "code",
   "execution_count": null,
   "id": "fa0b19e7-3a4e-4ba6-8ca6-158de91e97d5",
   "metadata": {},
   "outputs": [],
   "source": [
    "'''14. Create a Python program that checks if a given year is a leap year using both if-else and a\n",
    "function.'''\n",
    "def is_leap_year(year):\n",
    "    if (year % 4 == 0 and year % 100 != 0) or (year % 400 == 0):\n",
    "        return True\n",
    "    else:\n",
    "        return False\n",
    "\n",
    "# Input year\n",
    "year = int(input(\"Enter a year: \"))\n",
    "\n",
    "if is_leap_year(year):\n",
    "    print(f\"{year} is a leap year.\")\n",
    "else:\n",
    "    print(f\"{year} is not a leap year.\")\n"
   ]
  },
  {
   "cell_type": "code",
   "execution_count": 12,
   "id": "78c840a6-91a2-48c2-bb3c-b2cbe6b8f305",
   "metadata": {},
   "outputs": [
    {
     "name": "stdin",
     "output_type": "stream",
     "text": [
      "Enter a number:  8\n"
     ]
    },
    {
     "name": "stdout",
     "output_type": "stream",
     "text": [
      "It's an even number.\n"
     ]
    }
   ],
   "source": [
    "'''15. How do you use the \"assert\" statement in Python to add debugging checks within if-else blocks?\n",
    "'''\n",
    "# Input a number\n",
    "number = int(input(\"Enter a number: \"))\n",
    "\n",
    "# Add a debugging check with \"assert\" to ensure the number is positive\n",
    "assert number >= 0, \"Number must be non-negative.\"\n",
    "\n",
    "if number % 2 == 0:\n",
    "    print(\"It's an even number.\")\n",
    "else:\n",
    "    print(\"It's an odd number.\")\n"
   ]
  },
  {
   "cell_type": "code",
   "execution_count": 13,
   "id": "d92c2d16-72c1-41bf-9e0e-3bf7afa60f3e",
   "metadata": {},
   "outputs": [
    {
     "name": "stdin",
     "output_type": "stream",
     "text": [
      "Enter your age:  76\n"
     ]
    },
    {
     "name": "stdout",
     "output_type": "stream",
     "text": [
      "You are eligible for a senior citizen discount.\n"
     ]
    }
   ],
   "source": [
    "'''16. Create a Python program that determines the eligibility of a person for a senior citizen discount\n",
    "based on age using if-else.'''\n",
    "# Input age\n",
    "age = int(input(\"Enter your age: \"))\n",
    "\n",
    "if age >= 60:\n",
    "    print(\"You are eligible for a senior citizen discount.\")\n",
    "else:\n",
    "    print(\"You are not eligible for a senior citizen discount.\")\n"
   ]
  },
  {
   "cell_type": "code",
   "execution_count": 14,
   "id": "6ecc5d9e-0de4-4535-857a-f2cbf97d1fed",
   "metadata": {},
   "outputs": [
    {
     "name": "stdin",
     "output_type": "stream",
     "text": [
      "Enter a character:  Q\n"
     ]
    },
    {
     "name": "stdout",
     "output_type": "stream",
     "text": [
      "Uppercase character.\n"
     ]
    }
   ],
   "source": [
    "'''17. Write a Python program to categorize a given character as uppercase, lowercase, or neither\n",
    "using if-else.'''\n",
    "# Input a character\n",
    "char = input(\"Enter a character: \")\n",
    "\n",
    "if char.isupper():\n",
    "    print(\"Uppercase character.\")\n",
    "elif char.islower():\n",
    "    print(\"Lowercase character.\")\n",
    "else:\n",
    "    print(\"Neither uppercase nor lowercase character.\")\n"
   ]
  },
  {
   "cell_type": "code",
   "execution_count": 16,
   "id": "cb292855-dc3e-4900-9ff9-d5c00ee9c7ae",
   "metadata": {},
   "outputs": [
    {
     "name": "stdin",
     "output_type": "stream",
     "text": [
      "Enter the coefficient a:  2\n",
      "Enter the coefficient b:  5\n",
      "Enter the coefficient c:  4\n"
     ]
    },
    {
     "name": "stdout",
     "output_type": "stream",
     "text": [
      "Roots are complex: -1.25 + 0.6614378277661477i and -1.25 - 0.6614378277661477i\n"
     ]
    }
   ],
   "source": [
    "'''18. Write a Python program to determine the roots of a quadratic equation using if-else.\n",
    "'''\n",
    "import math\n",
    "# Input coefficients of the quadratic equation\n",
    "a = float(input(\"Enter the coefficient a: \"))\n",
    "b = float(input(\"Enter the coefficient b: \"))\n",
    "c = float(input(\"Enter the coefficient c: \"))\n",
    "\n",
    "discriminant = b**2 - 4*a*c\n",
    "\n",
    "if discriminant > 0:\n",
    "    root1 = (-b + math.sqrt(discriminant)) / (2*a)\n",
    "    root2 = (-b - math.sqrt(discriminant)) / (2*a)\n",
    "    print(f\"Roots are real and different: {root1}, {root2}\")\n",
    "elif discriminant == 0:\n",
    "    root1 = -b / (2*a)\n",
    "    print(f\"Roots are real and equal: {root1}\")\n",
    "else:\n",
    "    real_part = -b / (2*a)\n",
    "    imaginary_part = math.sqrt(abs(discriminant)) / (2*a)\n",
    "    print(f\"Roots are complex: {real_part} + {imaginary_part}i and {real_part} - {imaginary_part}i\")\n"
   ]
  },
  {
   "cell_type": "code",
   "execution_count": 17,
   "id": "e3731d37-a66c-4562-99ee-8c289c730ca3",
   "metadata": {},
   "outputs": [
    {
     "name": "stdin",
     "output_type": "stream",
     "text": [
      "Enter a year:  2200\n"
     ]
    },
    {
     "name": "stdout",
     "output_type": "stream",
     "text": [
      "2200 is a century year.\n"
     ]
    }
   ],
   "source": [
    "'''19. Create a Python program that checks if a given year is a century year or not using if-else.\n",
    "'''\n",
    "# Input year\n",
    "year = int(input(\"Enter a year: \"))\n",
    "\n",
    "if year % 100 == 0:\n",
    "    print(f\"{year} is a century year.\")\n",
    "else:\n",
    "    print(f\"{year} is not a century year.\")\n"
   ]
  },
  {
   "cell_type": "code",
   "execution_count": 18,
   "id": "bae66dc5-3291-4142-b233-49309748c78f",
   "metadata": {},
   "outputs": [
    {
     "name": "stdin",
     "output_type": "stream",
     "text": [
      "Enter a number:  76\n"
     ]
    },
    {
     "name": "stdout",
     "output_type": "stream",
     "text": [
      "76 is not a perfect square.\n"
     ]
    }
   ],
   "source": [
    "'''20. Write a Python program to determine if a given number is a perfect square using if-else.\n",
    "import math'''\n",
    "\n",
    "number = int(input(\"Enter a number: \"))\n",
    "\n",
    "sqrt = int(number**0.5)\n",
    "\n",
    "if sqrt*sqrt == number:\n",
    "    print(f\"{number} is a perfect square.\")\n",
    "else:\n",
    "    print(f\"{number} is not a perfect square.\")\n",
    "\n"
   ]
  },
  {
   "cell_type": "code",
   "execution_count": 21,
   "id": "81ffd631-1ce9-409c-8286-363f6546579f",
   "metadata": {},
   "outputs": [
    {
     "name": "stdout",
     "output_type": "stream",
     "text": [
      "1 2 3 4 5 6 7 8 9 11 12 13 14 "
     ]
    }
   ],
   "source": [
    "'''21. Explain the purpose of the \"continue\" and \"break\" statements within if-else loops.'''\n",
    "for el in range(1,20):\n",
    "    if el==10:\n",
    "        continue\n",
    "    elif el==15:\n",
    "        break\n",
    "    print(el,end=\" \")\n",
    "        "
   ]
  },
  {
   "cell_type": "code",
   "execution_count": 22,
   "id": "bf52f874-0952-408a-842d-58db5c4230ae",
   "metadata": {},
   "outputs": [
    {
     "name": "stdin",
     "output_type": "stream",
     "text": [
      "Enter your weight (in kg):  60\n",
      "Enter your height (in meters):  1.58496\n"
     ]
    },
    {
     "name": "stdout",
     "output_type": "stream",
     "text": [
      "Your BMI is 23.88, and you are categorized as Normal Weight.\n"
     ]
    }
   ],
   "source": [
    "'''\n",
    "22. Create a Python program that calculates the BMI (Body Mass Index) of a person based on their\n",
    "weight and height using if-else.\n",
    "'''\n",
    "\n",
    "# Input weight (in kilograms) and height (in meters)\n",
    "weight = float(input(\"Enter your weight (in kg): \"))\n",
    "height = float(input(\"Enter your height (in meters): \"))\n",
    "\n",
    "# Calculate BMI\n",
    "bmi = weight / (height ** 2)\n",
    "\n",
    "# Interpret the BMI and provide a category\n",
    "if bmi < 18.5:\n",
    "    category = \"Underweight\"\n",
    "elif 18.5 <= bmi < 24.9:\n",
    "    category = \"Normal Weight\"\n",
    "elif 24.9 <= bmi < 29.9:\n",
    "    category = \"Overweight\"\n",
    "else:\n",
    "    category = \"Obese\"\n",
    "\n",
    "print(f\"Your BMI is {bmi:.2f}, and you are categorized as {category}.\")\n",
    "\n"
   ]
  },
  {
   "cell_type": "code",
   "execution_count": 23,
   "id": "3da40cc1-6b55-4b13-87e5-8682e6c7bca2",
   "metadata": {},
   "outputs": [
    {
     "name": "stdout",
     "output_type": "stream",
     "text": [
      "Even numbers in the list: [2, 4, 6, 8, 10]\n"
     ]
    }
   ],
   "source": [
    "'''23. How can you use the \"filter()\" function with if-else statements to filter elements from a list?\n",
    "'''\n",
    "\n",
    "# Function to check if a number is even\n",
    "def is_even(number):\n",
    "    return number % 2 == 0\n",
    "\n",
    "# Input a list of numbers\n",
    "numbers = [1, 2, 3, 4, 5, 6, 7, 8, 9, 10]\n",
    "\n",
    "# Use filter() to filter even numbers\n",
    "filtered_numbers = list(filter(is_even, numbers))\n",
    "\n",
    "print(\"Even numbers in the list:\", filtered_numbers)\n"
   ]
  },
  {
   "cell_type": "code",
   "execution_count": null,
   "id": "39105e8a-9b9b-4a96-87c2-e172dbf403a8",
   "metadata": {},
   "outputs": [],
   "source": [
    "'''24. Write a Python program to determine if a given number is prime or not using if-else.'''\n",
    "\n",
    "number = int(input(\"Enter a number: \"))\n",
    "\n",
    "if number > 1:\n",
    "    for i in range(2, int(number**0.5) + 1):\n",
    "        if (number % i) == 0:\n",
    "            print(f\"{number} is not a prime number.\")\n",
    "            break\n",
    "    else:\n",
    "        print(f\"{number} is a prime number.\")\n",
    "else:\n",
    "    print(f\"{number} is not a prime number.\")\n"
   ]
  },
  {
   "cell_type": "code",
   "execution_count": 35,
   "id": "80ac0892-7204-4572-b7eb-29add4510dad",
   "metadata": {},
   "outputs": [
    {
     "data": {
      "text/plain": [
       "[0, 0, 5, 6, 7, 8, 90, 0, 0]"
      ]
     },
     "execution_count": 35,
     "metadata": {},
     "output_type": "execute_result"
    }
   ],
   "source": [
    "'''1. Explain the purpose of the `map()` function in Python and provide an example of how it can be\n",
    "used to apply a function to each element of an iterable.'''\n",
    "\n",
    "lst=[2,3,5,6,7,8,90,1,2]\n",
    "ans=list(map(lambda a :a if a > 3 else 0 ,lst))\n",
    "ans"
   ]
  },
  {
   "cell_type": "code",
   "execution_count": 31,
   "id": "97479d91-cb8e-4b2b-9d13-56aa3467e9dd",
   "metadata": {},
   "outputs": [
    {
     "data": {
      "text/plain": [
       "[4, 9, 25, 36, 49, 64, 8100, 1, 4]"
      ]
     },
     "execution_count": 31,
     "metadata": {},
     "output_type": "execute_result"
    }
   ],
   "source": [
    "'''2. Write a Python program that uses the `map()` function to square each element of a list of\n",
    "numbers.'''\n",
    "\n",
    "lst=[2,3,5,6,7,8,90,1,2]\n",
    "\n",
    "ans=list(map(lambda a : a**2,lst))\n",
    "ans"
   ]
  },
  {
   "cell_type": "code",
   "execution_count": null,
   "id": "bae63c64-467b-445b-8992-41281512ca05",
   "metadata": {},
   "outputs": [],
   "source": [
    "'''3. How does the `map()` function differ from a list comprehension in Python, and when would you\n",
    "choose one over the other?\n",
    "'''\n",
    "The map() function and list comprehensions in Python are both used for performing operations on sequences, such as lists. However, they differ in terms of syntax, usage, and when you might choose one over the other.\n",
    "\n",
    "map() function:\n",
    "\n",
    "map() applies a given function to each item in an iterable (e.g., a list) and returns an iterator containing the results.\n",
    "\n",
    "It takes two arguments: the function to be applied and the iterable on which the function will be mapped.\n",
    "\n",
    "The result is a map object, which can be converted to a list or another iterable if needed."
   ]
  },
  {
   "cell_type": "code",
   "execution_count": 36,
   "id": "d7a8916a-2d4e-4cea-b3b5-0f334c0de9f6",
   "metadata": {},
   "outputs": [
    {
     "data": {
      "text/plain": [
       "['ARYAN', 'KELWA', 'FROM', 'INDIA']"
      ]
     },
     "execution_count": 36,
     "metadata": {},
     "output_type": "execute_result"
    }
   ],
   "source": [
    "'''4. Create a Python program that uses the `map()` function to convert a list of names to uppercase.\n",
    "\n",
    "\n",
    "'''\n",
    "\n",
    "names=[\"aryan\",\"kelwa\",\"from\",\"India\"]\n",
    "\n",
    "ans=list(map(lambda nm:nm.upper(),names))\n",
    "ans\n",
    "\n"
   ]
  },
  {
   "cell_type": "code",
   "execution_count": 37,
   "id": "7203291b-b387-4d42-ae8b-a9ffba3fa7d0",
   "metadata": {},
   "outputs": [
    {
     "data": {
      "text/plain": [
       "[5, 3, 2, 9, 2, 1, 4]"
      ]
     },
     "execution_count": 37,
     "metadata": {},
     "output_type": "execute_result"
    }
   ],
   "source": [
    "'''5. Write a Python program that uses the `map()` function to calculate the length of each word in a\n",
    "list of strings.'''\n",
    "sen=\"which can be converted to a list\"\n",
    "ans=list(map(lambda a :len(a),sen.split()))\n",
    "ans\n"
   ]
  },
  {
   "cell_type": "code",
   "execution_count": 40,
   "id": "3a9e1401-0de8-4fc3-a813-1ba41ae9e5dd",
   "metadata": {},
   "outputs": [
    {
     "name": "stdout",
     "output_type": "stream",
     "text": [
      "[10, 40, 90, 160, 250]\n"
     ]
    }
   ],
   "source": [
    "'''6. How can you use the `map()` function to apply a custom function to elements of multiple lists\n",
    "simultaneously in Python?'''\n",
    "\n",
    "def my_function(item1, item2):\n",
    "    # Define your custom function here\n",
    "    return item1 * item2  # Example operation\n",
    "\n",
    "list1 = [1, 2, 3, 4, 5]\n",
    "list2 = [10, 20, 30, 40, 50]\n",
    "\n",
    "# Use map() to apply my_function to elements from list1 and list2\n",
    "result = list(map(my_function, list1, list2))\n",
    "\n",
    "print(result)\n"
   ]
  },
  {
   "cell_type": "code",
   "execution_count": 43,
   "id": "bcb48051-18b5-493c-94cd-6c8c28e67d34",
   "metadata": {},
   "outputs": [
    {
     "name": "stdout",
     "output_type": "stream",
     "text": [
      "25.5°C is equal to 77.90°F\n",
      "30.0°C is equal to 86.00°F\n",
      "15.3°C is equal to 59.54°F\n",
      "0.0°C is equal to 32.00°F\n",
      "-10.0°C is equal to 14.00°F\n"
     ]
    }
   ],
   "source": [
    "'''7. Create a Python program that uses `map()` to convert a list of temperatures from Celsius to Fahrenheit.'''\n",
    "def celsius_to_fahrenheit(celsius):\n",
    "    return (celsius * 9/5) + 32\n",
    "\n",
    "temperatures_celsius = [25.5, 30.0, 15.3, 0.0, -10.0]\n",
    "\n",
    "temperatures_fahrenheit = list(map(celsius_to_fahrenheit, temperatures_celsius))\n",
    "\n",
    "for i, celsius in enumerate(temperatures_celsius):\n",
    "    print(f\"{celsius}°C is equal to {temperatures_fahrenheit[i]:.2f}°F\")\n"
   ]
  },
  {
   "cell_type": "code",
   "execution_count": 42,
   "id": "b354bdfa-a3d3-4946-8fe2-7a1c449ed1ea",
   "metadata": {},
   "outputs": [
    {
     "name": "stdout",
     "output_type": "stream",
     "text": [
      "Original numbers: [3.6, 7.1, 1.9, 9.5, 4.2]\n",
      "Rounded numbers: [4, 7, 2, 10, 4]\n"
     ]
    }
   ],
   "source": [
    "'''8. Write a Python program that uses the `map()` function to round each element of a list of\n",
    "floating-point numbers to the nearest integer'''\n",
    "# Input a list of floating-point numbers\n",
    "float_numbers = [3.6, 7.1, 1.9, 9.5, 4.2]\n",
    "\n",
    "# Use map() to round each element to the nearest integer\n",
    "rounded_numbers = list(map(round, float_numbers))\n",
    "\n",
    "# Print the rounded numbers\n",
    "print(\"Original numbers:\", float_numbers)\n",
    "print(\"Rounded numbers:\", rounded_numbers)\n"
   ]
  },
  {
   "cell_type": "code",
   "execution_count": 44,
   "id": "fa1159c6-ada1-4f08-a761-6f1c0714be0b",
   "metadata": {},
   "outputs": [
    {
     "name": "stdout",
     "output_type": "stream",
     "text": [
      "The sum of the numbers is: 15\n"
     ]
    }
   ],
   "source": [
    "'''1. What is the `reduce()` function in Python, and what module should you import to use it? Provide\n",
    "an example of its basic usage.'''\n",
    "\n",
    "from functools import reduce\n",
    "\n",
    "# Define a function to add two numbers\n",
    "def add(x, y):\n",
    "    return x + y\n",
    "\n",
    "# Input a list of numbers\n",
    "numbers = [1, 2, 3, 4, 5]\n",
    "\n",
    "# Use reduce() to add all the numbers in the list\n",
    "result = reduce(add, numbers)\n",
    "\n",
    "print(\"The sum of the numbers is:\", result)\n"
   ]
  },
  {
   "cell_type": "code",
   "execution_count": 45,
   "id": "06eb7985-8dd8-498b-9eb3-f528a2b19584",
   "metadata": {},
   "outputs": [
    {
     "data": {
      "text/plain": [
       "120"
      ]
     },
     "execution_count": 45,
     "metadata": {},
     "output_type": "execute_result"
    }
   ],
   "source": [
    "'''2. Write a Python program that uses the `reduce()` function to find the product of all elements in a\n",
    "list.'''\n",
    "\n",
    "from functools import reduce\n",
    "lst=[1,2,3,4,5]\n",
    "ans=reduce(lambda a,b:a*b,lst)\n",
    "ans    "
   ]
  },
  {
   "cell_type": "code",
   "execution_count": 46,
   "id": "f32d89fd-1e69-43e9-9ba8-f4d7861a9796",
   "metadata": {},
   "outputs": [
    {
     "data": {
      "text/plain": [
       "5"
      ]
     },
     "execution_count": 46,
     "metadata": {},
     "output_type": "execute_result"
    }
   ],
   "source": [
    "'''3. Create a Python program that uses `reduce()` to find the maximum element in a list of numbers.'''\n",
    "\n",
    "lst=[1,2,3,4,5]\n",
    "\n",
    "ans=reduce(lambda a,b:max(a,b),lst)\n",
    "ans"
   ]
  },
  {
   "cell_type": "code",
   "execution_count": 48,
   "id": "1092da5b-6546-42ed-9164-01a86dae7f1b",
   "metadata": {},
   "outputs": [
    {
     "name": "stdout",
     "output_type": "stream",
     "text": [
      "Concatenated string: Hello, world! This is a test.\n"
     ]
    }
   ],
   "source": [
    "'''4. How can you use the `reduce()` function to concatenate a list of strings into a single string?'''\n",
    "def concatenate_strings(x,y):\n",
    "    return x+y\n",
    "string_list = [\"Hello, \", \"world\", \"!\", \" This is a test.\"]\n",
    "\n",
    "result = reduce(concatenate_strings, string_list)\n",
    "\n",
    "print(\"Concatenated string:\", result)\n",
    "\n"
   ]
  },
  {
   "cell_type": "code",
   "execution_count": 50,
   "id": "45ccb4a4-00e3-4e9e-9311-e02b3a10e369",
   "metadata": {},
   "outputs": [
    {
     "data": {
      "text/plain": [
       "120"
      ]
     },
     "execution_count": 50,
     "metadata": {},
     "output_type": "execute_result"
    }
   ],
   "source": [
    "'''5. Write a Python program that calculates the factorial of a number using the `reduce()` function.'''\n",
    "ans=reduce(lambda a,b:a*b,[x for x in range(1,6)])\n",
    "ans"
   ]
  },
  {
   "cell_type": "code",
   "execution_count": 54,
   "id": "b53eb85e-8edd-4e53-9faa-526a4856b467",
   "metadata": {},
   "outputs": [
    {
     "name": "stdout",
     "output_type": "stream",
     "text": [
      "The GCD of the numbers is: 2\n"
     ]
    }
   ],
   "source": [
    "'''6. Create a Python program that uses `reduce()` to find the GCD (Greatest Common Divisor) of a list\n",
    "of numbers.'''\n",
    "\n",
    "from functools import reduce\n",
    "import math\n",
    "\n",
    "# Define a function to find the GCD of two numbers\n",
    "def find_gcd(x, y):\n",
    "    return math.gcd(x, y)\n",
    "\n",
    "# Input a list of numbers\n",
    "numbers = [24, 36, 48, 108, 72]\n",
    "\n",
    "# Use reduce() to find the GCD of the list of numbers\n",
    "result = reduce(find_gcd, numbers)\n",
    "\n",
    "print(\"The GCD of the numbers is:\", result)\n"
   ]
  },
  {
   "cell_type": "code",
   "execution_count": 56,
   "id": "2e66b6ec-d1b6-430f-b407-0cfc0212217b",
   "metadata": {},
   "outputs": [
    {
     "name": "stdin",
     "output_type": "stream",
     "text": [
      "Enter a number:  1234\n"
     ]
    },
    {
     "name": "stdout",
     "output_type": "stream",
     "text": [
      "The sum of the digits in 1234 is: 10\n"
     ]
    }
   ],
   "source": [
    "'''7. Write a Python program that uses the `reduce()` function to find the sum of the digits of a given\n",
    "number.'''\n",
    "\n",
    "from functools import reduce\n",
    "\n",
    "def add_digits(x, y):\n",
    "    return int(x) + int(y)\n",
    "\n",
    "number = input(\"Enter a number: \")\n",
    "\n",
    "digit_sum = reduce(add_digits, number)\n",
    "\n",
    "print(f\"The sum of the digits in {number} is: {digit_sum}\")"
   ]
  },
  {
   "cell_type": "code",
   "execution_count": 57,
   "id": "39138f19-19f8-4b28-8eba-8b6a0ac0daa2",
   "metadata": {},
   "outputs": [
    {
     "name": "stdout",
     "output_type": "stream",
     "text": [
      "Even numbers in the list: [2, 4, 6, 8, 10]\n"
     ]
    }
   ],
   "source": [
    "'''1. Explain the purpose of the `filter()` function in Python and provide an example of how it can be\n",
    "used to filter elements from an iterable.'''\n",
    "\n",
    "# Define a filtering function to check if a number is even\n",
    "def is_even(number):\n",
    "    return number % 2 == 0\n",
    "\n",
    "# Input a list of numbers\n",
    "numbers = [1, 2, 3, 4, 5, 6, 7, 8, 9, 10]\n",
    "\n",
    "# Use filter() to filter even numbers\n",
    "even_numbers = list(filter(is_even, numbers))\n",
    "\n",
    "print(\"Even numbers in the list:\", even_numbers)\n",
    "\n"
   ]
  },
  {
   "cell_type": "code",
   "execution_count": 58,
   "id": "e9679f13-f765-47dd-9949-2b47aa6149a2",
   "metadata": {},
   "outputs": [
    {
     "data": {
      "text/plain": [
       "[2, 4, 6, 8, 10]"
      ]
     },
     "execution_count": 58,
     "metadata": {},
     "output_type": "execute_result"
    }
   ],
   "source": [
    "'''2. Write a Python program that uses the `filter()` function to select even numbers from a list of\n",
    "integers.'''\n",
    "\n",
    "numbers = [1, 2, 3, 4, 5, 6, 7, 8, 9, 10]\n",
    "\n",
    "ans=list(filter(lambda a: a%2==0,numbers))\n",
    "ans"
   ]
  },
  {
   "cell_type": "code",
   "execution_count": 64,
   "id": "081a92ce-3420-44eb-aa39-44cf872ee0f6",
   "metadata": {},
   "outputs": [
    {
     "data": {
      "text/plain": [
       "['aryan', 'arohi']"
      ]
     },
     "execution_count": 64,
     "metadata": {},
     "output_type": "execute_result"
    }
   ],
   "source": [
    "'''3. Create a Python program that uses the `filter()` function to select names that start with a specific\n",
    "letter from a list of strings.'''\n",
    "\n",
    "names=[\"aryan\",\"rohit\",\"raju\",\"reshma\",\"arohi\"]\n",
    "ans=list(filter(lambda nm: nm.startswith('a'),names))\n",
    "ans"
   ]
  },
  {
   "cell_type": "code",
   "execution_count": 67,
   "id": "425f3de3-940d-4aed-8410-d3fb65610725",
   "metadata": {},
   "outputs": [
    {
     "data": {
      "text/plain": [
       "[1, 2, 3, 5, 7, 11, 13, 17, 19, 23, 29, 31, 37, 41, 43, 47]"
      ]
     },
     "execution_count": 67,
     "metadata": {},
     "output_type": "execute_result"
    }
   ],
   "source": [
    "'''4. Write a Python program that uses the `filter()` function to select prime numbers from a list of\n",
    "integers.'''\n",
    "\n",
    "def is_prime(n):\n",
    "    for div in range(2,(n//2)+1):\n",
    "        if n%div==0:\n",
    "            return False\n",
    "    return True\n",
    "\n",
    "lst=[x for x in range(1,50)]\n",
    "\n",
    "ans=list(filter(is_prime,lst))\n",
    "ans"
   ]
  },
  {
   "cell_type": "code",
   "execution_count": 1,
   "id": "562212c6-fb7f-4025-9c8c-3b7f262ad79c",
   "metadata": {},
   "outputs": [
    {
     "data": {
      "text/plain": [
       "[1, 2, 3, 'truse', 98]"
      ]
     },
     "execution_count": 1,
     "metadata": {},
     "output_type": "execute_result"
    }
   ],
   "source": [
    "'''5. How can you use the `filter()` function to remove None values from a list in Python?'''\n",
    "lst=[1,2,3,None,\"truse\",None,98]\n",
    "\n",
    "ans=list(filter(lambda x : x is not None,lst))\n",
    "ans"
   ]
  },
  {
   "cell_type": "code",
   "execution_count": 2,
   "id": "0dd837fc-f72c-4cd1-937c-951ef95d543a",
   "metadata": {},
   "outputs": [
    {
     "data": {
      "text/plain": [
       "['busy', 'studies', 'college']"
      ]
     },
     "execution_count": 2,
     "metadata": {},
     "output_type": "execute_result"
    }
   ],
   "source": [
    "'''6. Create a Python program that uses `filter()` to select words longer than a certain length from a\n",
    "list of strings.'''\n",
    "\n",
    "sent=\"Hii I am busy in the studies of my college\"\n",
    "\n",
    "ans=list(filter(lambda x :len(x)>3,sent.split()))\n",
    "ans"
   ]
  },
  {
   "cell_type": "code",
   "execution_count": 4,
   "id": "65a5c5d2-e753-45d8-a8ad-6a86efc4f7b7",
   "metadata": {},
   "outputs": [
    {
     "name": "stdout",
     "output_type": "stream",
     "text": [
      "[6, 7, 8, 9, 10]\n"
     ]
    }
   ],
   "source": [
    "'''7. Write a Python program that uses the `filter()` function to select elements greater than a\n",
    "specified threshold from a list of values.'''\n",
    "\n",
    "numbers = [1, 2, 3, 4, 5, 6, 7, 8, 9, 10]\n",
    "\n",
    "ans=list(filter(lambda x:x>5,numbers))\n",
    "print(ans)\n"
   ]
  },
  {
   "cell_type": "code",
   "execution_count": 6,
   "id": "3a559034-a712-4f52-a58e-5fdef84ba9ee",
   "metadata": {},
   "outputs": [
    {
     "name": "stdout",
     "output_type": "stream",
     "text": [
      "10\n",
      "9\n",
      "8\n",
      "7\n",
      "6\n",
      "5\n",
      "4\n",
      "3\n",
      "2\n",
      "1\n"
     ]
    }
   ],
   "source": [
    "'''1. Explain the concept of recursion in Python. How does it differ from iteration?'''\n",
    "\n",
    "\n",
    "def fun(x):\n",
    "    if x==0:\n",
    "        return\n",
    "    print(x)\n",
    "    fun(x-1)\n",
    "    \n",
    "fun(10)"
   ]
  },
  {
   "cell_type": "code",
   "execution_count": 8,
   "id": "ca8f4af6-334e-4cf6-8065-29978cab2d9b",
   "metadata": {},
   "outputs": [
    {
     "name": "stdout",
     "output_type": "stream",
     "text": [
      "factorial of 5 is 120\n"
     ]
    }
   ],
   "source": [
    "'''2. Write a Python program to calculate the factorial of a number using recursion.'''\n",
    "\n",
    "def fun(x):\n",
    "    if x==0 or x==1:\n",
    "        return 1\n",
    "    fact=x*fun(x-1)\n",
    "    return fact\n",
    "print(\"factorial of 5 is\",fun(5))"
   ]
  },
  {
   "cell_type": "code",
   "execution_count": 13,
   "id": "fe9f41a3-b492-490a-8110-89cbd3d5829c",
   "metadata": {},
   "outputs": [
    {
     "data": {
      "text/plain": [
       "13"
      ]
     },
     "execution_count": 13,
     "metadata": {},
     "output_type": "execute_result"
    }
   ],
   "source": [
    "'''3. Create a recursive Python function to find the nth Fibonacci number.'''\n",
    "\n",
    "def fibo(x):\n",
    "    if x==0:\n",
    "        return 0\n",
    "    if x==1:\n",
    "        return 1\n",
    "    return fibo(x-1)+fibo(x-2)\n",
    "fibo(7)"
   ]
  },
  {
   "cell_type": "code",
   "execution_count": 38,
   "id": "395dc153-fdd5-44ab-9b21-0492748e2a0e",
   "metadata": {},
   "outputs": [
    {
     "name": "stdout",
     "output_type": "stream",
     "text": [
      "14\n"
     ]
    }
   ],
   "source": [
    "'''4. Write a recursive Python function to calculate the sum of all elements in a list.'''\n",
    "\n",
    "def sum_fun(lstgr):\n",
    "    if len(lstgr)==0:\n",
    "        return 0\n",
    "    sum=lstgr[0]+sum_fun(lstgr[1::])\n",
    "    return sum\n",
    "lst3=[2,3,4,5]\n",
    "ans2=sum_fun(lst3)\n",
    "print(ans2)"
   ]
  },
  {
   "cell_type": "code",
   "execution_count": null,
   "id": "041cdbe8-3c92-4152-b3b8-498051ac27f2",
   "metadata": {},
   "outputs": [],
   "source": [
    "'''5. How can you prevent a recursive function from running indefinitely, causing a stack overflow\n",
    "error?'''\n",
    "\n",
    "Here's how to prevent a recursive function from running indefinitely:\n",
    "\n",
    "Define a Base Case: Identify a condition under which the recursive function should stop and return a result without making further recursive calls. This condition is called the base case.\n",
    "\n",
    "Check the Base Case: At the beginning of the recursive function, check if the current input matches the base case condition. If it does, return a result immediately.\n",
    "\n",
    "Recursive Call: If the base case is not met, perform the recursive call with modified arguments. These arguments should bring you closer to the base case.\n",
    "\n",
    "Ensure Progress: Ensure that with each recursive call, you make progress toward the base case. If the arguments do not get closer to the base case, the function can still run indefinitely.\n",
    "\n"
   ]
  },
  {
   "cell_type": "code",
   "execution_count": 29,
   "id": "44963da4-24e7-4740-bbb5-e608ee7aea6f",
   "metadata": {},
   "outputs": [
    {
     "name": "stdout",
     "output_type": "stream",
     "text": [
      "The GCD of 48 and 18 is 6\n"
     ]
    }
   ],
   "source": [
    "'''6. Create a recursive Python function to find the greatest common divisor (GCD) of two numbers\n",
    "using the Euclidean algorithm.'''\n",
    "def euclidean_gcd(a, b):\n",
    "    while b:\n",
    "        a, b = b, a % b\n",
    "    return a\n",
    "\n",
    "# Example usage:\n",
    "num1 = 48\n",
    "num2 = 18\n",
    "gcd = euclidean_gcd(num1, num2)\n",
    "print(f\"The GCD of {num1} and {num2} is {gcd}\")\n",
    "\n"
   ]
  },
  {
   "cell_type": "code",
   "execution_count": 40,
   "id": "f9e5bae4-ae6b-4325-a8dc-b51a008cef19",
   "metadata": {},
   "outputs": [
    {
     "data": {
      "text/plain": [
       "'iih'"
      ]
     },
     "execution_count": 40,
     "metadata": {},
     "output_type": "execute_result"
    }
   ],
   "source": [
    "'''7. Write a recursive Python function to reverse a string.'''\n",
    "def reverse(sen):\n",
    "    if len(sen)==0:\n",
    "        return \"\"\n",
    "    ans=sen[-1]+reverse(sen[:-1:])\n",
    "    return ans\n",
    "\n",
    "reverse(\"hii\")\n"
   ]
  },
  {
   "cell_type": "code",
   "execution_count": 41,
   "id": "e4508fd6-3a82-4223-b27b-1dce959fa825",
   "metadata": {},
   "outputs": [
    {
     "name": "stdout",
     "output_type": "stream",
     "text": [
      "2^5 is 32\n"
     ]
    }
   ],
   "source": [
    "'''8. Create a recursive Python function to calculate the power of a number (x^n).'''\n",
    "def power(x, n):\n",
    "    # Base case: x^0 is 1 for any positive x\n",
    "    if n == 0:\n",
    "        return 1\n",
    "    # Recursive case: x^n = x * x^(n-1)\n",
    "    else:\n",
    "        return x * power(x, n - 1)\n",
    "\n",
    "# Example usage:\n",
    "base = 2\n",
    "exponent = 5\n",
    "result = power(base, exponent)\n",
    "print(f\"{base}^{exponent} is {result}\")\n",
    "\n"
   ]
  },
  {
   "cell_type": "code",
   "execution_count": 42,
   "id": "02e3beb2-cb3b-42f4-a8ac-3ace75413d60",
   "metadata": {},
   "outputs": [
    {
     "name": "stdout",
     "output_type": "stream",
     "text": [
      "abc\n",
      "acb\n",
      "bac\n",
      "bca\n",
      "cab\n",
      "cba\n"
     ]
    }
   ],
   "source": [
    "'''9. Write a recursive Python function to find all permutations of a given string.'''\n",
    "\n",
    "def get_permutations(string):\n",
    "    if len(string) == 1:\n",
    "        return [string]\n",
    "\n",
    "    permutations = []\n",
    "    for i in range(len(string)):\n",
    "        char = string[i]\n",
    "        remaining_chars = string[:i] + string[i + 1:]\n",
    "        for perm in get_permutations(remaining_chars):\n",
    "            permutations.append(char + perm)\n",
    "\n",
    "    return permutations\n",
    "\n",
    "# Example usage:\n",
    "input_string = \"abc\"\n",
    "result = get_permutations(input_string)\n",
    "for perm in result:\n",
    "    print(perm)\n",
    "\n"
   ]
  },
  {
   "cell_type": "code",
   "execution_count": 46,
   "id": "503c25f1-bbf9-42c5-8f27-7b4a3aaab122",
   "metadata": {},
   "outputs": [
    {
     "data": {
      "text/plain": [
       "True"
      ]
     },
     "execution_count": 46,
     "metadata": {},
     "output_type": "execute_result"
    }
   ],
   "source": [
    "'''10. Write a recursive Python function to check if a string is a palindrome.'''\n",
    "\n",
    "def check_pallindrome(st):\n",
    "    if len(st)==1:\n",
    "        return True\n",
    "    if st[0]==st[-1]:\n",
    "         return check_pallindrome(st[1:-1])\n",
    "    else:\n",
    "        return False\n",
    "check_pallindrome(\"nitin\")"
   ]
  },
  {
   "cell_type": "code",
   "execution_count": 48,
   "id": "216b852f-bc9d-4d0c-bf0b-02449bf0149f",
   "metadata": {},
   "outputs": [
    {
     "name": "stdout",
     "output_type": "stream",
     "text": [
      "[1, 2]\n",
      "[1, 3]\n",
      "[1, 4]\n",
      "[2, 3]\n",
      "[2, 4]\n",
      "[3, 4]\n"
     ]
    }
   ],
   "source": [
    "'''11. Create a recursive Python function to generate all possible combinations of a list of elements.'''\n",
    "\n",
    "def generate_combinations(elements, k):\n",
    "    def backtrack(start, current_combination):\n",
    "        if len(current_combination) == k:\n",
    "            combinations.append(current_combination[:])\n",
    "            return\n",
    "        for i in range(start, len(elements)):\n",
    "            current_combination.append(elements[i])\n",
    "            backtrack(i + 1, current_combination)\n",
    "            current_combination.pop()\n",
    "\n",
    "    combinations = []\n",
    "    backtrack(0, [])\n",
    "    return combinations\n",
    "\n",
    "# Example usage:\n",
    "input_list = [1, 2, 3, 4]\n",
    "k = 2\n",
    "result = generate_combinations(input_list, k)\n",
    "for combo in result:\n",
    "    print(combo)\n",
    "\n",
    "    \n",
    "    "
   ]
  },
  {
   "cell_type": "code",
   "execution_count": null,
   "id": "0128d404-d28e-4c6f-94c7-adfdc9f04d3b",
   "metadata": {},
   "outputs": [],
   "source": [
    "'''1. What is a function in Python, and why is it used?'''\n",
    "\n",
    "In Python, a function is a reusable block of code that performs a specific task or set of tasks.\n",
    "Functions are used to modularize code, promote code reusability, and make programs more organized and readable. \n",
    "They allow you to encapsulate functionality, accept input, and produce output, making code more manageable and maintainable.\n"
   ]
  },
  {
   "cell_type": "code",
   "execution_count": 49,
   "id": "384b636a-4b88-4399-b473-9ebc82479bbf",
   "metadata": {},
   "outputs": [
    {
     "name": "stdout",
     "output_type": "stream",
     "text": [
      "function for example\n"
     ]
    }
   ],
   "source": [
    "'''2. How do you define a function in Python? Provide an example.'''\n",
    "\n",
    "def example_funtion():\n",
    "    print(\"function for example\")\n",
    "example_funtion()"
   ]
  },
  {
   "cell_type": "code",
   "execution_count": null,
   "id": "6fb93b95",
   "metadata": {},
   "outputs": [],
   "source": [
    "'''3. Explain the difference between a function definition and a function call.'''\n",
    "Function Definition: It defines what a function does, its name, its parameters, and the code inside the function. It's like creating a blueprint for the function, but it doesn't execute the code.\n",
    "\n",
    "Function Call: It is the actual execution of the function. When you call a function, you're telling the program to run the code defined in the function with specific values for its parameters. It produces a result or performs an action.\n",
    "\n",
    "In essence, the definition sets up the function, and the call invokes it to perform the desired task.\n"
   ]
  },
  {
   "cell_type": "code",
   "execution_count": 50,
   "id": "035279c3-e0ab-486b-935e-97bba6397a37",
   "metadata": {},
   "outputs": [
    {
     "data": {
      "text/plain": [
       "30"
      ]
     },
     "execution_count": 50,
     "metadata": {},
     "output_type": "execute_result"
    }
   ],
   "source": [
    "'''4. Write a Python program that defines a function to calculate the sum of two numbers and then\n",
    "calls the function.'''\n",
    "\n",
    "def fun(a,b):\n",
    "    return a+b\n",
    "\n",
    "fun(10,20)\n"
   ]
  },
  {
   "cell_type": "code",
   "execution_count": null,
   "id": "c97b006a-67dd-4a90-84c3-54a32a75369d",
   "metadata": {},
   "outputs": [],
   "source": [
    "'''5. What is a function signature, and what information does it typically include?'''\n",
    "In Python, a function signature is a critical part of a function's definition. It typically includes the following information:\n",
    "\n",
    "Function Name: The name that uniquely identifies the function.\n",
    "Parameters: The list of input values that the function accepts. Each parameter includes its name and possibly a type hint.\n",
    "Return Type: An optional type hint that specifies the data type of the value that the function returns.\n",
    "Docstring: An optional documentation string (docstring) that provides a brief description of what the function does and its parameters.\n",
    "Function Body: The actual code that defines the functionality of the function."
   ]
  },
  {
   "cell_type": "code",
   "execution_count": 51,
   "id": "c82c4dd7-b386-46da-913a-fc6faa9351f3",
   "metadata": {},
   "outputs": [
    {
     "data": {
      "text/plain": [
       "200"
      ]
     },
     "execution_count": 51,
     "metadata": {},
     "output_type": "execute_result"
    }
   ],
   "source": [
    "'''6. Create a Python function that takes two arguments and returns their product.'''\n",
    "def fun(a,b):\n",
    "    return a*b\n",
    "\n",
    "fun(10,20)"
   ]
  },
  {
   "cell_type": "code",
   "execution_count": null,
   "id": "f6add7e3-34ca-4641-9e6b-d6f3e4166b2e",
   "metadata": {},
   "outputs": [],
   "source": [
    "'''1. Explain the concepts of formal parameters and actual arguments in Python functions.'''\n",
    "\n",
    "Formal Parameters: These are placeholders in the function definition. They represent the values that a\n",
    "    function expects to receive when called. Formal parameters are like variables that store the values passed\n",
    "    to a function. For example, in def add(a, b), a and b are formal parameters.\n",
    "Actual Arguments: These are the actual values or expressions passed to a function when it is called Actual \n",
    "    arguments are the values that are assigned to the formal parameters. For example, in add(5, 3), 5 and 3 \n",
    "    are actual arguments assigned to a and b.\n"
   ]
  },
  {
   "cell_type": "code",
   "execution_count": 1,
   "id": "7ef6876f-0795-46ee-8870-7a1b93b1ae38",
   "metadata": {},
   "outputs": [
    {
     "name": "stdout",
     "output_type": "stream",
     "text": [
      "10\n",
      "30\n"
     ]
    }
   ],
   "source": [
    "'''2. Write a Python program that defines a function with default argument values.'''\n",
    "\n",
    "def function(x=10):\n",
    "    print(x)\n",
    "\n",
    "function()\n",
    "function(30)"
   ]
  },
  {
   "cell_type": "code",
   "execution_count": 7,
   "id": "ae35de2c-2016-4d99-8e08-b7840dc97ebe",
   "metadata": {},
   "outputs": [
    {
     "name": "stdout",
     "output_type": "stream",
     "text": [
      "name : raju and age : 23\n"
     ]
    }
   ],
   "source": [
    "'''3. How do you use keyword arguments in Python function calls? Provide an example.'''\n",
    "\n",
    "def function(name,age):\n",
    "    \"\"\"In Python, we can use keyword arguments in function calls to specify which parameter you are passing a\n",
    "    value for. This provides clarity and flexibility when calling functions, especially when a function has \n",
    "    many parameters. Here's how to use keyword arguments:\"\"\"\n",
    "    print(f\"name : {name} and age : {age}\")\n",
    "    return\n",
    "\n",
    "function(name=\"raju\",age=23)"
   ]
  },
  {
   "cell_type": "code",
   "execution_count": 20,
   "id": "be094af0-a7f6-4589-be6a-867f971a73ef",
   "metadata": {},
   "outputs": [
    {
     "data": {
      "text/plain": [
       "15"
      ]
     },
     "execution_count": 20,
     "metadata": {},
     "output_type": "execute_result"
    }
   ],
   "source": [
    "'''4. Create a Python function that accepts a variable number of arguments and calculates their sum.\n",
    "'''\n",
    "\n",
    "def sum_function(*args):\n",
    "    sum=0\n",
    "    for el in args:\n",
    "        sum+=el\n",
    "    return sum\n",
    "sum_function(1,2,3,4,5)        "
   ]
  },
  {
   "cell_type": "code",
   "execution_count": 22,
   "id": "87f292f5-12d0-4c15-841e-ccb5c8087de1",
   "metadata": {},
   "outputs": [
    {
     "name": "stdout",
     "output_type": "stream",
     "text": [
      "15\n",
      "name: Alice\n",
      "age: 30\n",
      "city: Wonderland\n"
     ]
    }
   ],
   "source": [
    "'''5. What is the purpose of the `*args` and `**kwargs` syntax in function parameter lists?'''\n",
    "\n",
    "'''*args (Arbitrary Positional Arguments):\n",
    "\n",
    "*args allows a function to accept a variable number of non-keyword (positional) arguments.\n",
    "The asterisk * before args indicates that any number of positional arguments can be passed to the function.\n",
    "Inside the function, args is treated as a tuple containing all the positional arguments.\n",
    "It is often used when you don't know in advance how many arguments will be passed to the function.'''\n",
    "\n",
    "def add_numbers(*args):\n",
    "    return sum(args)\n",
    "\n",
    "result = add_numbers(1, 2, 3, 4, 5)\n",
    "\n",
    "print(result)\n",
    "\n",
    "\n",
    "'''**kwargs (Arbitrary Keyword Arguments):\n",
    "\n",
    "**kwargs allows a function to accept a variable number of keyword arguments (key-value pairs).\n",
    "The double asterisk ** before kwargs indicates that any number of keyword arguments can be passed to the function.\n",
    "Inside the function, kwargs is treated as a dictionary containing the keyword arguments.\n",
    "It is often used when you want to provide additional, named parameters to a function.'''\n",
    "\n",
    "\n",
    "def print_info(**kwargs):\n",
    "    for key, value in kwargs.items():\n",
    "        print(f\"{key}: {value}\")\n",
    "\n",
    "print_info(name=\"Alice\", age=30, city=\"Wonderland\")\n"
   ]
  },
  {
   "cell_type": "code",
   "execution_count": 23,
   "id": "328f1631-d8e1-4654-b7ba-dc8a609976a7",
   "metadata": {},
   "outputs": [
    {
     "name": "stdout",
     "output_type": "stream",
     "text": [
      "9\n"
     ]
    }
   ],
   "source": [
    "'''Return Values and Scoping:\n",
    "1. Describe the role of the `return` statement in Python functions and provide examples.\n",
    "'''\n",
    "\n",
    "\"\"\"\n",
    "The return statement in Python functions serves the crucial role of specifying the value that a function should produce as its result. When a return statement is encountered, the function's execution halts, and the specified value is passed back to the caller. This returned value can then be used in other parts of your code.\n",
    "\n",
    "Here's how the return statement works:\n",
    "\n",
    "Defining the Return Value: Inside a function, you can use the return statement to specify the value that the function should return.\n",
    "\n",
    "Halting Execution: When the return statement is executed, it immediately stops the function's execution, and the program continues from where the function was called.\n",
    "\n",
    "Passing Values: The value specified after return is the result or output of the function. This value can be of any data type, including integers, strings, lists, or even more complex objects.\"\"\"\n",
    "\n",
    "def add(x,y):\n",
    "    return x+y\n",
    "print(add(4,5))"
   ]
  },
  {
   "cell_type": "code",
   "execution_count": 29,
   "id": "d66d783f-9c3c-4291-9927-814a13c6991a",
   "metadata": {},
   "outputs": [
    {
     "name": "stdout",
     "output_type": "stream",
     "text": [
      "6000\n",
      "10\n"
     ]
    }
   ],
   "source": [
    "'''2. Explain the concept of variable scope in Python, including local and global variables.'''\n",
    "\n",
    "a=10\n",
    "\n",
    "def fun(a):\n",
    "    print(a)\n",
    "    \n",
    "fun(6000)\n",
    "print(a)\n"
   ]
  },
  {
   "cell_type": "code",
   "execution_count": 5,
   "id": "43f65069-1748-46ad-870d-2eb21e2bfe79",
   "metadata": {},
   "outputs": [
    {
     "name": "stdout",
     "output_type": "stream",
     "text": [
      "global variable 10\n",
      "After updating the global variable 30\n"
     ]
    },
    {
     "data": {
      "text/plain": [
       "30"
      ]
     },
     "execution_count": 5,
     "metadata": {},
     "output_type": "execute_result"
    }
   ],
   "source": [
    "'''3. Write a Python program that demonstrates the use of global variables within functions.'''\n",
    "\n",
    "glob=10\n",
    "\n",
    "def access_glob_var():\n",
    "    print(\"global variable\",glob)\n",
    "    pass\n",
    "\n",
    "def update_glob_var():\n",
    "    global glob\n",
    "    glob=30\n",
    "    print(\"After updating the global variable\",glob)\n",
    "    pass\n",
    "\n",
    "access_glob_var()\n",
    "update_glob_var()"
   ]
  },
  {
   "cell_type": "code",
   "execution_count": 6,
   "id": "7593fc47-f7c0-42fa-ad43-59f9ce2e1b52",
   "metadata": {},
   "outputs": [
    {
     "data": {
      "text/plain": [
       "120"
      ]
     },
     "execution_count": 6,
     "metadata": {},
     "output_type": "execute_result"
    }
   ],
   "source": [
    "'''4. Create a Python function that calculates the factorial of a number and returns it.'''\n",
    "\n",
    "def fact(n):\n",
    "    result=1\n",
    "    for el in range(1,n+1):\n",
    "        result*=el\n",
    "    return result\n",
    "fact(5)"
   ]
  },
  {
   "cell_type": "code",
   "execution_count": 7,
   "id": "60c2c0be-d400-450c-a2f6-d52dba4e00f4",
   "metadata": {},
   "outputs": [
    {
     "name": "stdout",
     "output_type": "stream",
     "text": [
      "global variable 10\n"
     ]
    }
   ],
   "source": [
    "'''5. How can you access variables defined outside a function from within the function?'''\n",
    "\n",
    "glob=10\n",
    "\n",
    "def access_glob_var():\n",
    "    print(\"global variable\",glob)\n",
    "    pass\n",
    "access_glob_var()\n"
   ]
  },
  {
   "cell_type": "code",
   "execution_count": null,
   "id": "a7349f83-0e2b-4961-bf32-a525de99972c",
   "metadata": {},
   "outputs": [],
   "source": [
    "'''Lambda Functions and Higher-Order Functions:\n",
    "1. What are lambda functions in Python, and when are they typically used?'''\n",
    "\n",
    "Lambda functions, also known as anonymous functions or lambda expressions, are a feature in Python \n",
    "for creating small, unnamed functions. They are typically used for short, simple operations that can \n",
    "be defined in a single line of code. Lambda functions are a way to create functions without formally \n",
    "defining them using the def keyword.\n",
    "\n",
    "Here's the basic syntax of a lambda function:\n",
    "-> lambda arguments: expression\n",
    "lambda: The keyword used to define a lambda function.\n",
    "arguments: The input parameters to the function.\n",
    "expression: The single expression that the function evaluates, and its result is returned."
   ]
  },
  {
   "cell_type": "code",
   "execution_count": 3,
   "id": "d858f694-3e6c-4657-bcff-53549d191949",
   "metadata": {},
   "outputs": [
    {
     "name": "stdout",
     "output_type": "stream",
     "text": [
      "[(2, 1), (3, 2), (5, 3), (1, 4)]\n"
     ]
    }
   ],
   "source": [
    "'''2. Write a Python program that uses lambda functions to sort a list of tuples based on the second\n",
    "element.'''\n",
    "\n",
    "\n",
    "points = [(3, 2), (1, 4), (2, 1), (5, 3)]\n",
    "\n",
    "sorted_points = sorted(points, key=lambda x: x[1])\n",
    "\n",
    "\n",
    "print(sorted_points)\n"
   ]
  },
  {
   "cell_type": "code",
   "execution_count": 6,
   "id": "73d302d6-2dc7-4069-9d9d-22dc62574544",
   "metadata": {},
   "outputs": [
    {
     "name": "stdout",
     "output_type": "stream",
     "text": [
      "11\n"
     ]
    }
   ],
   "source": [
    "'''3. Explain the concept of higher-order functions in Python, and provide an example.'''\n",
    "\n",
    "\n",
    "'''Higher-order functions in Python are functions that can accept other functions as arguments, \n",
    "return functions as results, or both. This concept is a fundamental part of functional programming and \n",
    "allows you to create more abstract, reusable, and flexible code'''\n",
    "\n",
    "\n",
    "def cal(add,val):\n",
    "    return add(val)\n",
    "\n",
    "def add(x):\n",
    "    return x+10\n",
    "\n",
    "result=cal(add,1)\n",
    "print(result)"
   ]
  },
  {
   "cell_type": "code",
   "execution_count": 8,
   "id": "6fc77601-b4e7-4fa5-83b5-d6f2225def79",
   "metadata": {},
   "outputs": [
    {
     "name": "stdout",
     "output_type": "stream",
     "text": [
      "[1001, 1002, 1003, 1004, 1005]\n"
     ]
    }
   ],
   "source": [
    "'''4. Create a Python function that takes a list of numbers and a function as arguments, applying the\n",
    "function to each element in the list.'''\n",
    "\n",
    "def apply(inc,lst):\n",
    "    ans=[]\n",
    "    for el in lst:\n",
    "        ans.append(inc(el))\n",
    "    return ans   \n",
    "\n",
    "def inc(val):\n",
    "    return val+1000\n",
    "\n",
    "result = apply(inc,[1,2,3,4,5])\n",
    "print(result)"
   ]
  },
  {
   "cell_type": "code",
   "execution_count": null,
   "id": "d95f320b-1924-4aa5-ae62-add5e7cf886f",
   "metadata": {},
   "outputs": [],
   "source": [
    "'''1. Describe the role of built-in functions like `len()`, `max()`, and `min()` in Python.'''\n",
    "\n",
    "len():\n",
    "\n",
    "    Role: The len() function is used to determine the length or the number of elements in an iterable, \n",
    "    which includes sequences like strings, lists, tuples, and dictionaries.\n",
    "    \n",
    "max():\n",
    "\n",
    "    Role: The max() function is used to find the largest element in an iterable or among a set of values.\n",
    "    Usage: It can take either an iterable as an argument or multiple values to compare, and it returns the \n",
    "    maximum value.\n",
    "    \n",
    "min():\n",
    "\n",
    "    Role: The min() function is used to find the smallest element in an iterable or among a set of values.\n",
    "    Usage: Like max(), it can take an iterable or multiple values as arguments and returns the minimum value.\n"
   ]
  },
  {
   "cell_type": "code",
   "execution_count": 1,
   "id": "e378ed5e-18c5-4c71-82a0-dc107d127b95",
   "metadata": {},
   "outputs": [
    {
     "name": "stdout",
     "output_type": "stream",
     "text": [
      "[100, 101, 102, 103, 104, 105, 106, 107, 108, 109, 110]\n"
     ]
    }
   ],
   "source": [
    "'''2. Write a Python program that uses the `map()` function to apply a function to each element of a\n",
    "list.'''\n",
    "lst=[x for x in range(11)]\n",
    "ans=list(map(lambda x:x+100,lst))\n",
    "print(ans)"
   ]
  },
  {
   "cell_type": "code",
   "execution_count": 2,
   "id": "c8acf42e-d0c3-461a-9c04-bfd82a9ad66b",
   "metadata": {},
   "outputs": [
    {
     "data": {
      "text/plain": [
       "[0, 2, 4, 6, 8, 10]"
      ]
     },
     "execution_count": 2,
     "metadata": {},
     "output_type": "execute_result"
    }
   ],
   "source": [
    "''''3. How does the `filter()` function work in Python, and when would you use it?'''\n",
    "\n",
    "'''The filter() function in Python is used to filter elements from an iterable (e.g., a list, tuple, \n",
    "or other iterable objects) based on a given function, which acts as a filter condition. It creates a\n",
    "new iterable containing only the elements for which the condition specified in the filtering function\n",
    "is True.'''\n",
    "\n",
    "lst=[x for x in range(11)]\n",
    "\n",
    "ans=list(filter(lambda x:x%2==0,lst))\n",
    "ans\n",
    "\n"
   ]
  },
  {
   "cell_type": "code",
   "execution_count": 8,
   "id": "3b256567-62f4-4c07-b274-582db6c12c73",
   "metadata": {},
   "outputs": [
    {
     "data": {
      "text/plain": [
       "10"
      ]
     },
     "execution_count": 8,
     "metadata": {},
     "output_type": "execute_result"
    }
   ],
   "source": [
    "'''4. Create a Python program that uses the `reduce()` function to find the product of all elements in\n",
    "a list.'''\n",
    "from functools import reduce\n",
    "\n",
    "lst=[x for x in range(11)]\n",
    "ans12=reduce(lambda a,b:a if a>b else b,lst)\n",
    "ans12"
   ]
  },
  {
   "cell_type": "code",
   "execution_count": null,
   "id": "fe29baa0-7f37-4934-9cd1-77b6160c6843",
   "metadata": {},
   "outputs": [],
   "source": [
    "'''1. Explain the purpose of docstrings in Python functions and how to write them.'''\n",
    "\n",
    "\n",
    "'''Here's the purpose of docstrings in Python functions:\n",
    "\n",
    "Documentation: Docstrings are a form of inline documentation. They help you explain what the function does, its input parameters, return values, and any other relevant details.\n",
    "\n",
    "Readability: Docstrings make your code more readable and understandable. Other developers can quickly grasp the purpose of a function by reading its docstring.\n",
    "\n",
    "Auto-Generation: Docstrings are used by tools like Sphinx to generate documentation for projects. They are essential for creating API documentation and user guides.\n",
    "\n",
    "Interactive Help: Docstrings can be accessed interactively using Python's help function. For example, running help(function_name) in the Python interpreter displays the docstring of that function.\n",
    "'''\n",
    "\n",
    "def add(a, b):\n",
    "    \"\"\"\n",
    "    Adds two numbers together.\n",
    "\n",
    "    Parameters:\n",
    "    a (int or float): The first number.\n",
    "    b (int or float): The second number.\n",
    "\n",
    "    Returns:\n",
    "    int or float: The sum of a and b.\n",
    "\n",
    "    Example:\n",
    "    >>> add(3, 5)\n",
    "    8\n",
    "    \"\"\"\n",
    "    return a + b\n"
   ]
  },
  {
   "cell_type": "code",
   "execution_count": null,
   "id": "a568a95b-d973-46f4-80f0-72fc26135239",
   "metadata": {},
   "outputs": [],
   "source": [
    "\"\"\"2\"\"\""
   ]
  },
  {
   "cell_type": "code",
   "execution_count": null,
   "id": "3a32fb4b-cad0-41a4-8b8f-c02c590f4d5e",
   "metadata": {},
   "outputs": [],
   "source": []
  },
  {
   "cell_type": "code",
   "execution_count": null,
   "id": "2d815bee-bfc8-4c14-b813-a442f80354ff",
   "metadata": {},
   "outputs": [],
   "source": []
  },
  {
   "cell_type": "code",
   "execution_count": null,
   "id": "e0f7e921-9994-4856-9ac4-f5ef5bcbf590",
   "metadata": {},
   "outputs": [],
   "source": []
  },
  {
   "cell_type": "code",
   "execution_count": null,
   "id": "62825b98-df6d-40ee-be33-2693b166f98f",
   "metadata": {},
   "outputs": [],
   "source": []
  },
  {
   "cell_type": "code",
   "execution_count": null,
   "id": "40ae9f33-680e-4a44-bc7a-4f625180266a",
   "metadata": {},
   "outputs": [],
   "source": []
  },
  {
   "cell_type": "code",
   "execution_count": null,
   "id": "4442d1ee-9ef6-4b50-95ab-9bd2db1d237b",
   "metadata": {},
   "outputs": [],
   "source": []
  },
  {
   "cell_type": "code",
   "execution_count": null,
   "id": "9582c2bd-168b-42e4-9a88-4bfd1528e14f",
   "metadata": {},
   "outputs": [],
   "source": []
  }
 ],
 "metadata": {
  "kernelspec": {
   "display_name": "Python 3 (ipykernel)",
   "language": "python",
   "name": "python3"
  },
  "language_info": {
   "codemirror_mode": {
    "name": "ipython",
    "version": 3
   },
   "file_extension": ".py",
   "mimetype": "text/x-python",
   "name": "python",
   "nbconvert_exporter": "python",
   "pygments_lexer": "ipython3",
   "version": "3.10.8"
  }
 },
 "nbformat": 4,
 "nbformat_minor": 5
}
