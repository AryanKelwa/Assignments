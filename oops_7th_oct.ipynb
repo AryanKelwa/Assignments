{
 "cells": [
  {
   "cell_type": "code",
   "execution_count": 3,
   "id": "023cfad3-7b1f-484d-b424-930d1a4b7430",
   "metadata": {},
   "outputs": [
    {
     "name": "stdin",
     "output_type": "stream",
     "text": [
      "Enter a name aryan\n",
      "Enter a adhar number 8979\n",
      "Enter a pin 111\n",
      "Enter a amount 9000\n",
      "Enter your acount pin 111\n",
      "Enter a withdraw amount 300\n"
     ]
    },
    {
     "name": "stdout",
     "output_type": "stream",
     "text": [
      "Available balance: 8700\n"
     ]
    },
    {
     "name": "stdin",
     "output_type": "stream",
     "text": [
      "Enter a amount to deposit 400\n"
     ]
    },
    {
     "name": "stdout",
     "output_type": "stream",
     "text": [
      "Available balance: 9100\n"
     ]
    }
   ],
   "source": [
    "'''Problem 1: Bank Account Create a class representing a bank account with attributes like account number, account holder name, and balance. Implement methods to deposit and withdraw money from the account.\n",
    "'''\n",
    "\n",
    "\n",
    "\n",
    "class Account:\n",
    "    def set_details(self):\n",
    "        self.name=input(\"Enter a name\")\n",
    "        self.adhar_number=input(\"Enter a adhar number\")\n",
    "        self.pin=int(input(\"Enter a pin\"))\n",
    "        self.amount=int(input(\"Enter a amount\"))\n",
    "    \n",
    "    def show_details(self):\n",
    "        print(\"name\",self.name)\n",
    "        print(\"adhar number\",self.adhar_number)\n",
    "        print(\"amount \",self.amount)\n",
    "        \n",
    "    def withdraw(self):\n",
    "        \n",
    "        if self.pin==int(input(\"Enter your acount pin\")):\n",
    "            self.amount=self.amount-int(input(\"Enter a withdraw amount\"))\n",
    "        else:\n",
    "            print(\"invalid pin\")\n",
    "    \n",
    "    def checK_balance(self):\n",
    "        print(\"Available balance:\",self.amount)\n",
    "    \n",
    "    def deposit(self):\n",
    "        self.amount=self.amount+int(input(\"Enter a amount to deposit\"))\n",
    "       \n",
    "    \n",
    "aryan=Account()\n",
    "aryan.set_details()\n",
    "aryan.withdraw()\n",
    "aryan.checK_balance()\n",
    "aryan.deposit()\n",
    "aryan.checK_balance()\n",
    "        "
   ]
  },
  {
   "cell_type": "code",
   "execution_count": 6,
   "id": "ceea4bd4-a4e9-42db-83a5-1b7ecbd87f8a",
   "metadata": {},
   "outputs": [
    {
     "name": "stdout",
     "output_type": "stream",
     "text": [
      "Employe details are :\n",
      "\tname : raju\n",
      "\tid :  420\n",
      "\tsalary  9000\n",
      "bonus is : 450.0\n"
     ]
    }
   ],
   "source": [
    "'''Problem 2: Employee Management Create a class representing an employee with attributes like employee ID, name, and salary. Implement methods to calculate the yearly bonus and display employee details.'''\n",
    "\n",
    "class Employe:\n",
    "    def __init__(self,emp_id,emp_name,emp_salary):\n",
    "        self.__name=emp_name\n",
    "        self.__id=emp_id\n",
    "        self.__sal=emp_salary\n",
    "    \n",
    "    def show(self):\n",
    "        print(\"Employe details are :\\n\\tname :\",self.__name)\n",
    "        print(\"\\tid : \",self.__id)\n",
    "        print(\"\\tsalary \",self.__sal)\n",
    "        pass\n",
    "    \n",
    "    def calculate_bonus(self):\n",
    "        return (self.__sal*0.05)\n",
    "    \n",
    "raju=Employe(420,\"raju\",9000)\n",
    "raju.show()\n",
    "print(\"bonus is :\",raju.calculate_bonus())"
   ]
  },
  {
   "cell_type": "code",
   "execution_count": null,
   "id": "9cdc7ba9-2fb9-45d4-9ea0-6ade3fc78739",
   "metadata": {},
   "outputs": [
    {
     "name": "stdout",
     "output_type": "stream",
     "text": [
      "Available cars are :  ['swift', 'i20', 'fortuner', 'mustang', 'gwagon', 'mericdez', 'scarpio']\n"
     ]
    },
    {
     "name": "stdin",
     "output_type": "stream",
     "text": [
      "Enter a car you want on rent i20\n",
      "Enter your name aryan\n"
     ]
    },
    {
     "name": "stdout",
     "output_type": "stream",
     "text": [
      "{'i20': 'aryan'}\n",
      "Available cars are :  ['swift', 'fortuner', 'mustang', 'gwagon', 'mericdez', 'scarpio']\n",
      "cars on rent are :  [('i20', 'aryan')]\n",
      "Available cars are :  ['swift', 'fortuner', 'mustang', 'gwagon', 'mericdez', 'scarpio']\n"
     ]
    },
    {
     "name": "stdin",
     "output_type": "stream",
     "text": [
      "Enter a car you want on rent 10\n",
      "Enter a car you want on rent swift\n",
      "Enter your name raju\n"
     ]
    },
    {
     "name": "stdout",
     "output_type": "stream",
     "text": [
      "{'swift': 'raju'}\n",
      "Available cars are :  ['fortuner', 'mustang', 'gwagon', 'mericdez', 'scarpio']\n",
      "cars on rent are :  [('i20', 'aryan'), ('swift', 'raju')]\n",
      "Available cars are :  ['fortuner', 'mustang', 'gwagon', 'mericdez', 'scarpio']\n"
     ]
    }
   ],
   "source": [
    "'''Problem 3: Vehicle Rental Create a class representing a vehicle rental system. Implement methods to rent a vehicle, return a vehicle, and display available vehicles.'''\n",
    "\n",
    "class VehicleRental:\n",
    "    cars=[\"swift\",\"i20\",\"fortuner\",\"mustang\",\"gwagon\",\"mericdez\",\"scarpio\"]\n",
    "    car_rented=[]\n",
    "    def __init__(self):\n",
    "        self.cars_detail={}\n",
    "        \n",
    "        \n",
    "    def rentAcar(self):\n",
    "        print(\"Available cars are : \",VehicleRental.cars)\n",
    "        flag=True\n",
    "        while(flag):\n",
    "            self.car_want=input(\"Enter a car you want on rent\")\n",
    "            if self.car_want in VehicleRental.cars:\n",
    "                flag=False\n",
    "                self.car_owner=input(\"Enter your name\")\n",
    "                self.cars_detail[self.car_want]=self.car_owner\n",
    "                VehicleRental.cars.remove(self.car_want)\n",
    "                print(self.cars_detail)\n",
    "                for x in self.cars_detail.items():\n",
    "                    (VehicleRental.car_rented).append(x)                \n",
    "                                                \n",
    "    def show_cars_available(self):\n",
    "        print(\"Available cars are : \",VehicleRental.cars)\n",
    "        print(\"cars on rent are : \",VehicleRental.car_rented)\n",
    "                                                \n",
    "                \n",
    "        \n",
    "    def returnCar(self):\n",
    "        days=int(input(\"Enter a days you used a car\")) \n",
    "        print(\"total cost is \", 120*days,\"\\n\\n\\n\")\n",
    "        VehicleRental.cars.append(self.car_want)\n",
    "        VehicleRental.car_rented.pop()\n",
    "        \n",
    "aryan=VehicleRental()\n",
    "ramesh=VehicleRental()\n",
    "raju=VehicleRental()\n",
    "aryan.rentAcar()\n",
    "aryan.show_cars_available()\n",
    "ramesh.rentAcar()\n",
    "aryan.show_cars_available()\n",
    "raju.rentAcar()\n",
    "aryan.show_cars_available()\n",
    "\n",
    "\n",
    "\n",
    "aryan.returnCar()\n",
    "aryan.show_cars_available()\n",
    "\n",
    "print()"
   ]
  },
  {
   "cell_type": "code",
   "execution_count": 5,
   "id": "f5705cc5-9621-4202-a86c-522c47a055ec",
   "metadata": {},
   "outputs": [
    {
     "name": "stdout",
     "output_type": "stream",
     "text": [
      "Available products are :  {'pens': 10, 'bags': 2, 'shoes': 3, 'caps': 5}\n"
     ]
    },
    {
     "name": "stdin",
     "output_type": "stream",
     "text": [
      "Enter a product you want to add :  laptop\n",
      "Enter a quantity of a product :  2\n"
     ]
    },
    {
     "name": "stdout",
     "output_type": "stream",
     "text": [
      "Available products are :  {'pens': 10, 'bags': 2, 'shoes': 3, 'caps': 5, 'laptop': 2}\n"
     ]
    },
    {
     "name": "stdin",
     "output_type": "stream",
     "text": [
      "Enter a product you want to update :  bags\n",
      "Enter a quantity of a product to update :  100\n"
     ]
    },
    {
     "name": "stdout",
     "output_type": "stream",
     "text": [
      "Available products are :  {'pens': 10, 'bags': 100, 'shoes': 3, 'caps': 5, 'laptop': 2}\n"
     ]
    }
   ],
   "source": [
    "'''Problem 5: Product Inventory Create classes representing a product and an inventory system. Implement methods to add products to the inventory, update product quantity, and display available products.'''\n",
    "\n",
    "class Products:\n",
    "    products={\"pens\":10,\"bags\":2,\"shoes\":3,\"caps\":5}\n",
    "    \n",
    "    def addProduct(self):\n",
    "        newproduct=input(\"Enter a product you want to add : \")\n",
    "        quantity=int(input(\"Enter a quantity of a product : \"))\n",
    "        Products.products[newproduct]=quantity\n",
    "        \n",
    "    def update(self):\n",
    "        producToUpdate=input(\"Enter a product you want to update : \")\n",
    "        newQuantity=int(input(\"Enter a quantity of a product to update : \"))\n",
    "        for x in Products.products:\n",
    "            if x==producToUpdate:\n",
    "                Products.products[x]=newQuantity\n",
    "                return\n",
    "        print(\"product not found\")\n",
    "        \n",
    "    def display(self):\n",
    "        print(\"Available products are : \",Products.products)\n",
    "        \n",
    "        \n",
    "obj1=Products()\n",
    "obj1.display()\n",
    "obj1.addProduct()\n",
    "obj1.display()\n",
    "obj1.update()\n",
    "obj1.display()\n",
    "                     "
   ]
  },
  {
   "cell_type": "code",
   "execution_count": 1,
   "id": "8a166a93-56ba-4eed-8e6a-24be2a9a2e91",
   "metadata": {},
   "outputs": [
    {
     "name": "stdout",
     "output_type": "stream",
     "text": [
      "Rectangle Area: 20\n",
      "Rectangle Perimeter: 18\n",
      "Triangle Area: 6.0\n",
      "Triangle Perimeter: 12\n"
     ]
    }
   ],
   "source": [
    "'''Problem 6: Shape Calculation Create a class representing a shape with attributes like length, width, and height. Implement methods to calculate the area and perimeter of the shape.'''\n",
    "\n",
    "class Shape:\n",
    "    def __init__(self, length, width, height):\n",
    "        self.length = length\n",
    "        self.width = width\n",
    "        self.height = height\n",
    "\n",
    "    def calculate_area(self):\n",
    "        raise NotImplementedError(\"Subclasses must implement this method\")\n",
    "\n",
    "    def calculate_perimeter(self):\n",
    "        raise NotImplementedError(\"Subclasses must implement this method\")\n",
    "\n",
    "# Example usage of the Shape class:\n",
    "class Rectangle(Shape):\n",
    "    def calculate_area(self):\n",
    "        return self.length * self.width\n",
    "\n",
    "    def calculate_perimeter(self):\n",
    "        return 2 * (self.length + self.width)\n",
    "\n",
    "class Triangle(Shape):\n",
    "    def calculate_area(self):\n",
    "        # Using Heron's formula to calculate the area of a triangle\n",
    "        s = (self.length + self.width + self.height) / 2\n",
    "        area = (s * (s - self.length) * (s - self.width) * (s - self.height)) ** 0.5\n",
    "        return area\n",
    "\n",
    "    def calculate_perimeter(self):\n",
    "        return self.length + self.width + self.height\n",
    "\n",
    "# Example usage of the Rectangle and Triangle classes:\n",
    "rect = Rectangle(5, 4, 0)\n",
    "print(f\"Rectangle Area: {rect.calculate_area()}\")\n",
    "print(f\"Rectangle Perimeter: {rect.calculate_perimeter()}\")\n",
    "\n",
    "tri = Triangle(3, 4, 5)\n",
    "print(f\"Triangle Area: {tri.calculate_area()}\")\n",
    "print(f\"Triangle Perimeter: {tri.calculate_perimeter()}\")\n"
   ]
  },
  {
   "cell_type": "code",
   "execution_count": null,
   "id": "d477fddc-d5c8-41fb-9402-35d1e1b2702c",
   "metadata": {},
   "outputs": [],
   "source": [
    "'''Problem 7: Student Management Create a class representing a student with attributes like student ID, name, and grades. Implement methods to calculate the average grade and display student details.'''\n",
    "\n",
    "class Student:\n",
    "    def __init__(self, student_id, name):\n",
    "        self.student_id = student_id\n",
    "        self.name = name\n",
    "        self.grades = []\n",
    "\n",
    "    def add_grade(self, grade):\n",
    "        self.grades.append(grade)\n",
    "\n",
    "    def calculate_average_grade(self):\n",
    "        if len(self.grades) > 0:\n",
    "            return sum(self.grades) / len(self.grades)\n",
    "        else:\n",
    "            return 0\n",
    "\n",
    "    def display_student_details(self):\n",
    "        print(f\"Student ID: {self.student_id}\")\n",
    "        print(f\"Name: {self.name}\")\n",
    "        print(f\"Average Grade: {self.calculate_average_grade()}\")\n",
    "\n",
    "# Example usage:\n",
    "student = Student(1, \"Alice\")\n",
    "student.add_grade(90)\n",
    "student.add_grade(85)\n",
    "student.add_grade(95)\n",
    "student.display_student_details()\n"
   ]
  },
  {
   "cell_type": "code",
   "execution_count": null,
   "id": "4ddef6ee-310e-4398-9b04-3e28f286d184",
   "metadata": {},
   "outputs": [],
   "source": [
    "'''Problem 8: Email Management Create a class representing an email with attributes like sender, recipient, and subject. Implement methods to send an email and display email details.'''\n",
    "class Email:\n",
    "    def __init__(self, sender, recipient, subject, message):\n",
    "        self.sender = sender\n",
    "        self.recipient = recipient\n",
    "        self.subject = subject\n",
    "        self.message = message\n",
    "\n",
    "    def send_email(self):\n",
    "        # Implement code to send the email\n",
    "        print(\"Email sent!\")\n",
    "\n",
    "    def display_email_details(self):\n",
    "        print(f\"Sender: {self.sender}\")\n",
    "        print(f\"Recipient: {self.recipient}\")\n",
    "        print(f\"Subject: {self.subject}\")\n",
    "        print(f\"Message: {self.message}\")\n",
    "\n",
    "# Example usage:\n",
    "email = Email(\"sender@example.com\", \"recipient@example.com\", \"Hello\", \"This is a test email.\")\n",
    "email.send_email()\n",
    "email.display_email_details()\n"
   ]
  },
  {
   "cell_type": "code",
   "execution_count": 2,
   "id": "ba311047-b62a-4e6f-9048-6a48c8c5710e",
   "metadata": {},
   "outputs": [
    {
     "name": "stdout",
     "output_type": "stream",
     "text": [
      "Post 1: This is my first post.\n",
      "Post 2: I love programming.\n",
      "Post 3: Check out my vacation photos.\n",
      "Posts containing 'programming': ['I love programming.']\n"
     ]
    }
   ],
   "source": [
    "'''Problem 9: Social Media Profile Create a class representing a social media profile with attributes like username and posts. Implement methods to add posts, display posts, and search for posts by keyword.'''\n",
    "\n",
    "class SocialMediaProfile:\n",
    "    def __init__(self, username):\n",
    "        self.username = username\n",
    "        self.posts = []\n",
    "\n",
    "    def add_post(self, post):\n",
    "        self.posts.append(post)\n",
    "\n",
    "    def display_posts(self):\n",
    "        for i, post in enumerate(self.posts, start=1):\n",
    "            print(f\"Post {i}: {post}\")\n",
    "\n",
    "    def search_posts_by_keyword(self, keyword):\n",
    "        matching_posts = [post for post in self.posts if keyword in post]\n",
    "        return matching_posts\n",
    "\n",
    "# Example usage:\n",
    "profile = SocialMediaProfile(\"user123\")\n",
    "profile.add_post(\"This is my first post.\")\n",
    "profile.add_post(\"I love programming.\")\n",
    "profile.add_post(\"Check out my vacation photos.\")\n",
    "profile.display_posts()\n",
    "search_result = profile.search_posts_by_keyword(\"programming\")\n",
    "print(\"Posts containing 'programming':\", search_result)\n"
   ]
  },
  {
   "cell_type": "code",
   "execution_count": 3,
   "id": "69e564bb-0f11-4fc6-9c71-0101988246a3",
   "metadata": {},
   "outputs": [
    {
     "name": "stdout",
     "output_type": "stream",
     "text": [
      "Task 1: Buy groceries (Due: 2023-11-15)\n",
      "Task 2: Go to the gym (Due: 2023-11-12)\n"
     ]
    }
   ],
   "source": [
    "\n",
    "\n",
    "class ToDoList:\n",
    "    def __init__(self):\n",
    "        self.tasks = []\n",
    "\n",
    "    def add_task(self, task, due_date):\n",
    "        self.tasks.append({\"task\": task, \"due_date\": due_date, \"completed\": False})\n",
    "\n",
    "    def mark_task_as_completed(self, task):\n",
    "        for t in self.tasks:\n",
    "            if t[\"task\"] == task:\n",
    "                t[\"completed\"] = True\n",
    "\n",
    "    def display_pending_tasks(self):\n",
    "        pending_tasks = [task for task in self.tasks if not task[\"completed\"]]\n",
    "        for i, task in enumerate(pending_tasks, start=1):\n",
    "            print(f\"Task {i}: {task['task']} (Due: {task['due_date']})\")\n",
    "\n",
    "# Example usage:\n",
    "todo_list = ToDoList()\n",
    "todo_list.add_task(\"Buy groceries\", \"2023-11-15\")\n",
    "todo_list.add_task(\"Complete homework\", \"2023-11-10\")\n",
    "todo_list.add_task(\"Go to the gym\", \"2023-11-12\")\n",
    "todo_list.mark_task_as_completed(\"Complete homework\")\n",
    "todo_list.display_pending_tasks()\n"
   ]
  },
  {
   "cell_type": "code",
   "execution_count": null,
   "id": "618f9ed9-e960-4473-a59a-45cbd9b2e9ca",
   "metadata": {},
   "outputs": [],
   "source": []
  },
  {
   "cell_type": "code",
   "execution_count": null,
   "id": "00daf022-f1b1-4ccc-b7cd-927222fa676b",
   "metadata": {},
   "outputs": [],
   "source": []
  },
  {
   "cell_type": "code",
   "execution_count": null,
   "id": "22064d5d-24d4-41ad-8c66-d59a68ecfda2",
   "metadata": {},
   "outputs": [],
   "source": []
  },
  {
   "cell_type": "code",
   "execution_count": null,
   "id": "28497d64-d87b-4f7e-a761-421387cb150c",
   "metadata": {},
   "outputs": [],
   "source": []
  }
 ],
 "metadata": {
  "kernelspec": {
   "display_name": "Python 3 (ipykernel)",
   "language": "python",
   "name": "python3"
  },
  "language_info": {
   "codemirror_mode": {
    "name": "ipython",
    "version": 3
   },
   "file_extension": ".py",
   "mimetype": "text/x-python",
   "name": "python",
   "nbconvert_exporter": "python",
   "pygments_lexer": "ipython3",
   "version": "3.10.8"
  }
 },
 "nbformat": 4,
 "nbformat_minor": 5
}
