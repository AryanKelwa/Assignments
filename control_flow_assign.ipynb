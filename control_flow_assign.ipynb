{
 "cells": [
  {
   "cell_type": "code",
   "execution_count": 2,
   "id": "54b45d09-7441-415a-a7aa-71564bb48f8e",
   "metadata": {},
   "outputs": [
    {
     "name": "stdin",
     "output_type": "stream",
     "text": [
      "Enter a number  -12\n"
     ]
    },
    {
     "name": "stdout",
     "output_type": "stream",
     "text": [
      "-12 is negative \n"
     ]
    }
   ],
   "source": [
    "'''1. Write a Python program to check if a given number is positive or negative.\n",
    "\n",
    "'''\n",
    "\n",
    "num=int(input(\"Enter a number \" ))\n",
    "if num>=0:\n",
    "    print(f'{num} is postive ')\n",
    "else:\n",
    "    print(f'{num} is negative ')"
   ]
  },
  {
   "cell_type": "code",
   "execution_count": 7,
   "id": "6a0b4359-371d-4ea8-b574-90022828463f",
   "metadata": {},
   "outputs": [
    {
     "name": "stdin",
     "output_type": "stream",
     "text": [
      "Enter your age  18\n"
     ]
    },
    {
     "name": "stdout",
     "output_type": "stream",
     "text": [
      "You are eligible for voting \n"
     ]
    }
   ],
   "source": [
    "'''2. Create a program that determines if a person is eligible to vote based on their age.\n",
    "'''\n",
    "\n",
    "age=int(input(\"Enter your age \" ))\n",
    "\n",
    "if age <=0:\n",
    "    print(\"invalid age \")\n",
    "else:\n",
    "    if age >=18:\n",
    "        print(\"You are eligible for voting \")\n",
    "    else:\n",
    "        print(\"you are not eligible for voting \")"
   ]
  },
  {
   "cell_type": "code",
   "execution_count": 9,
   "id": "c42d2b19-2d17-4cdc-8fc7-c91eb0622a61",
   "metadata": {},
   "outputs": [
    {
     "name": "stdin",
     "output_type": "stream",
     "text": [
      "Enter a number1  12\n",
      "Enter a number2  13\n"
     ]
    },
    {
     "name": "stdout",
     "output_type": "stream",
     "text": [
      "13 is greater\n"
     ]
    }
   ],
   "source": [
    "'''3. Develop a program to find the maximum of two numbers using if-else statements.\n",
    "'''\n",
    "\n",
    "num1=int(input(\"Enter a number1 \" ))\n",
    "num2=int(input(\"Enter a number2 \" ))\n",
    "\n",
    "if num1>num2:\n",
    "    print(num1,\"is greater\")\n",
    "else:\n",
    "    print(num2,\"is greater\")"
   ]
  },
  {
   "cell_type": "code",
   "execution_count": 11,
   "id": "11cb9663-c67b-482f-ba96-31136e134797",
   "metadata": {},
   "outputs": [
    {
     "name": "stdin",
     "output_type": "stream",
     "text": [
      "Enter a year to check a leap year  2024\n"
     ]
    },
    {
     "name": "stdout",
     "output_type": "stream",
     "text": [
      "yes it is leap year \n"
     ]
    }
   ],
   "source": [
    "'''4. Write a Python script to classify a given year as a leap year or not.'''\n",
    "\n",
    "year=int(input(\"Enter a year to check a leap year \" ))\n",
    "if year%4==0:\n",
    "    print(\"yes it is leap year \")\n",
    "else:\n",
    "    print(\"it is not leap year \")\n"
   ]
  },
  {
   "cell_type": "code",
   "execution_count": 12,
   "id": "695523ce-ca46-4f9a-b95c-bf19edfd0993",
   "metadata": {},
   "outputs": [
    {
     "name": "stdin",
     "output_type": "stream",
     "text": [
      "Enter a char e\n"
     ]
    },
    {
     "name": "stdout",
     "output_type": "stream",
     "text": [
      "e is vowel\n"
     ]
    }
   ],
   "source": [
    "'''5. Create a program that checks whether a character is a vowel or a consonant.'''\n",
    "char_5=input(\"Enter a char\")\n",
    "if char_5 in \"aeiouAEIOU\":\n",
    "    print(char_5,\"is vowel\")\n",
    "else:\n",
    "    print(char_5,\"is consonent\")"
   ]
  },
  {
   "cell_type": "code",
   "execution_count": 13,
   "id": "5c96feb9-9750-4912-818b-3e5f2a14fb11",
   "metadata": {},
   "outputs": [
    {
     "name": "stdin",
     "output_type": "stream",
     "text": [
      "Enter a number :  23\n"
     ]
    },
    {
     "name": "stdout",
     "output_type": "stream",
     "text": [
      "23 is odd number \n"
     ]
    }
   ],
   "source": [
    "'''6. Implement a program to determine whether a given number is even or odd.'''\n",
    "\n",
    "num_6=int(input(\"Enter a number : \"))\n",
    "if num_6%2==0:\n",
    "    print(num_6,\"is even number \")\n",
    "else:\n",
    "    print(num_6,\"is odd number \")"
   ]
  },
  {
   "cell_type": "code",
   "execution_count": 15,
   "id": "c9008a12-a188-41e4-a4b6-9a550bc3a169",
   "metadata": {},
   "outputs": [
    {
     "name": "stdin",
     "output_type": "stream",
     "text": [
      "Enter a num : -234\n"
     ]
    },
    {
     "name": "stdout",
     "output_type": "stream",
     "text": [
      "absolute value of a number is :  234\n"
     ]
    }
   ],
   "source": [
    "'''7. Write a Python function to calculate the absolute value of a number without using the `abs()` function.'''\n",
    "\n",
    "def absolute(x):\n",
    "    if x < 0:\n",
    "        return(-x)\n",
    "    else:\n",
    "        return x\n",
    "\n",
    "num_7=int(input(\"Enter a num :\"))\n",
    "abs_num=absolute(num_7)\n",
    "print(\"absolute value of a number is : \",abs_num)"
   ]
  },
  {
   "cell_type": "code",
   "execution_count": 16,
   "id": "b608fb10-a582-400a-810c-6b4cf398559a",
   "metadata": {},
   "outputs": [
    {
     "name": "stdout",
     "output_type": "stream",
     "text": [
      "The largest number is: 10\n"
     ]
    }
   ],
   "source": [
    "'''8. Develop a program that determines the largest of three given numbers using if-else statements.'''\n",
    "\n",
    "def find_largest(num1, num2, num3):\n",
    "    if num1 >= num2 and num1 >= num3:\n",
    "        return num1\n",
    "    elif num2 >= num1 and num2 >= num3:\n",
    "        return num2\n",
    "    else:\n",
    "        return num3\n",
    "\n",
    "# Example usage:\n",
    "num1_8 = 10\n",
    "num2_8 = 5\n",
    "num3_8 = 8\n",
    "largest = find_largest(num1_8, num2_8, num3_8)\n",
    "print(\"The largest number is:\", largest)  \n"
   ]
  },
  {
   "cell_type": "code",
   "execution_count": 3,
   "id": "21b88220-521b-4759-9f91-7f908903923a",
   "metadata": {},
   "outputs": [
    {
     "name": "stdin",
     "output_type": "stream",
     "text": [
      "Enter a string 1 :  nayan\n"
     ]
    },
    {
     "name": "stdout",
     "output_type": "stream",
     "text": [
      "strings is pallindrome\n"
     ]
    }
   ],
   "source": [
    "'''9. Create a program that checks if a given string is a palindrome.'''\n",
    "\n",
    "str1=input(\"Enter a string 1 : \")\n",
    "if str1==str1[::-1]:\n",
    "    print(\"strings is pallindrome\")\n",
    "else:\n",
    "    print(\"strings is not pallindrome\")"
   ]
  },
  {
   "cell_type": "code",
   "execution_count": 4,
   "id": "95f480fd-7a50-4a99-b6ca-65396afe2dee",
   "metadata": {},
   "outputs": [
    {
     "name": "stdout",
     "output_type": "stream",
     "text": [
      "The student's grade is: C\n"
     ]
    }
   ],
   "source": [
    "'''10. Write a Python program to calculate the grade based on a student's score.'''\n",
    "\n",
    "def calculate_grade(score):\n",
    "    if score >= 90:\n",
    "        return 'A'\n",
    "    elif score >= 80:\n",
    "        return 'B'\n",
    "    elif score >= 70:\n",
    "        return 'C'\n",
    "    elif score >= 60:\n",
    "        return 'D'\n",
    "    else:\n",
    "        return 'F'\n",
    "\n",
    "# Example usage:\n",
    "student_score = 75\n",
    "grade = calculate_grade(student_score)\n",
    "print(\"The student's grade is:\", grade)  \n"
   ]
  },
  {
   "cell_type": "code",
   "execution_count": null,
   "id": "1d1360ae-1abe-4857-93c1-a8fa7a82efc1",
   "metadata": {},
   "outputs": [],
   "source": [
    "'''11. Write a program to find the largest among three numbers using nested if-else statements.'''\n",
    "\n",
    "def find_largest(num1, num2, num3):\n",
    "    if num1 >= num2 and num1 >= num3:\n",
    "        return num1\n",
    "    elif num2 >= num1 and num2 >= num3:\n",
    "        return num2\n",
    "    else:\n",
    "        return num3\n",
    "\n",
    "# Example usage:\n",
    "num1_8 = 10\n",
    "num2_8 = 5\n",
    "num3_8 = 8\n",
    "largest = find_largest(num1_8, num2_8, num3_8)\n",
    "print(\"The largest number is:\", largest)  "
   ]
  },
  {
   "cell_type": "code",
   "execution_count": null,
   "id": "e431e9ad-7cad-44aa-a5db-2d393a67a3c1",
   "metadata": {},
   "outputs": [
    {
     "name": "stdin",
     "output_type": "stream",
     "text": [
      "Enter a year to check a leap year  2028\n"
     ]
    },
    {
     "name": "stdout",
     "output_type": "stream",
     "text": [
      "yes it is leap year \n"
     ]
    }
   ],
   "source": [
    "'''13. Develop a program that checks if a year is a leap year and also if it is a century year.\n",
    "'''\n",
    "\n",
    "year=int(input(\"Enter a year to check a leap year \" ))\n",
    "if year%4==0:\n",
    "    print(\"yes it is leap year \")\n",
    "else:\n",
    "    print(\"it is not leap year \")"
   ]
  },
  {
   "cell_type": "code",
   "execution_count": 10,
   "id": "3236b1f0-945a-4185-ab92-3ae9d6dc7601",
   "metadata": {},
   "outputs": [
    {
     "name": "stdin",
     "output_type": "stream",
     "text": [
      "Enter a number  12\n"
     ]
    },
    {
     "name": "stdout",
     "output_type": "stream",
     "text": [
      "12 is postive \n"
     ]
    }
   ],
   "source": [
    "'''14. Write a Python script to determine if a number is positive, negative, or zero.'''\n",
    "\n",
    "num=int(input(\"Enter a number \" ))\n",
    "if num>0:\n",
    "    print(f'{num} is postive ')\n",
    "elif num<0:\n",
    "    print(f'{num} is negative ')\n",
    "else:\n",
    "    print(f'{num} is zero ')"
   ]
  },
  {
   "cell_type": "code",
   "execution_count": 13,
   "id": "54a17777-fc5c-4105-b74a-1c5dca2543e8",
   "metadata": {},
   "outputs": [
    {
     "name": "stdin",
     "output_type": "stream",
     "text": [
      "Enter your age  17\n"
     ]
    },
    {
     "name": "stdout",
     "output_type": "stream",
     "text": [
      "you are teen ager \n"
     ]
    }
   ],
   "source": [
    "'''15. Create a program to check if a person is a teenager (between 13 and 19 years old).'''\n",
    "\n",
    "num_15=int(input(\"Enter your age \" ))\n",
    "\n",
    "if num_15>=13 and num_15 <=19:\n",
    "    print(\"you are teen ager \")\n",
    "else:\n",
    "    print(\"you are not teen ager \")"
   ]
  },
  {
   "cell_type": "code",
   "execution_count": 14,
   "id": "244b6384-93aa-4e53-964d-c8db60cd653f",
   "metadata": {},
   "outputs": [
    {
     "name": "stdin",
     "output_type": "stream",
     "text": [
      "Enter a degree of angle 90\n"
     ]
    },
    {
     "name": "stdout",
     "output_type": "stream",
     "text": [
      "angle is right angle triangle \n"
     ]
    }
   ],
   "source": [
    "'''16. Develop a program that determines the type of angle based on its measure (acute, obtuse, or right).'''\n",
    "\n",
    "angle=int(input(\"Enter a degree of angle\"))\n",
    "\n",
    "if angle==90:\n",
    "    print(\"angle is right angle triangle \")\n",
    "elif angle < 90:\n",
    "    print(\"angle is acute angle \")\n",
    "else:\n",
    "    print(\"angle is obtuse angle \")"
   ]
  },
  {
   "cell_type": "code",
   "execution_count": 18,
   "id": "e437f580-1c12-4379-b196-601e605cb6eb",
   "metadata": {},
   "outputs": [
    {
     "name": "stdin",
     "output_type": "stream",
     "text": [
      "Enter coefficient a:  1\n",
      "Enter coefficient b:  2\n",
      "Enter coefficient c:  1\n"
     ]
    },
    {
     "name": "stdout",
     "output_type": "stream",
     "text": [
      "Root (repeated): -1.0\n"
     ]
    }
   ],
   "source": [
    "'''17. Write a Python program to calculate the roots of a quadratic equation.'''\n",
    "\n",
    "import math\n",
    "\n",
    "# Input coefficients a, b, and c from the user\n",
    "a = float(input(\"Enter coefficient a: \"))\n",
    "b = float(input(\"Enter coefficient b: \"))\n",
    "c = float(input(\"Enter coefficient c: \"))\n",
    "\n",
    "# Calculate the discriminant (the value inside the square root)\n",
    "discriminant = b**2 - 4*a*c\n",
    "\n",
    "# Check if the discriminant is positive, negative, or zero\n",
    "if discriminant > 0:\n",
    "    # Two distinct real roots\n",
    "    root1 = (-b + math.sqrt(discriminant)) / (2*a)\n",
    "    root2 = (-b - math.sqrt(discriminant)) / (2*a)\n",
    "    print(f\"Root 1: {root1}\")\n",
    "    print(f\"Root 2: {root2}\")\n",
    "elif discriminant == 0:\n",
    "    # One real root (repeated)\n",
    "    root = -b / (2*a)\n",
    "    print(f\"Root (repeated): {root}\")\n",
    "else:\n",
    "    # Complex roots\n",
    "    real_part = -b / (2*a)\n",
    "    imaginary_part = math.sqrt(abs(discriminant)) / (2*a)\n",
    "    root1 = complex(real_part, imaginary_part)\n",
    "    root2 = complex(real_part, -imaginary_part)\n",
    "    print(f\"Root 1: {root1}\")\n",
    "    print(f\"Root 2: {root2}\")\n"
   ]
  },
  {
   "cell_type": "code",
   "execution_count": 22,
   "id": "ef8a230d-fdda-44fb-8c16-e740d5a7671a",
   "metadata": {},
   "outputs": [
    {
     "name": "stdin",
     "output_type": "stream",
     "text": [
      "Enter a number (1-7) to find the day of the week:  5\n"
     ]
    },
    {
     "name": "stdout",
     "output_type": "stream",
     "text": [
      "The day of the week is Friday.\n"
     ]
    }
   ],
   "source": [
    "'''18. Implement a program to determine the day of the week based on a user-provided number (1 for Monday, 2\n",
    "for Tuesday, etc.).'''\n",
    "# Input a number from the user (1-7)\n",
    "day_number = int(input(\"Enter a number (1-7) to find the day of the week: \"))\n",
    "\n",
    "# Define a list of days of the week\n",
    "days_of_week = [\"Monday\", \"Tuesday\", \"Wednesday\", \"Thursday\", \"Friday\", \"Saturday\", \"Sunday\"]\n",
    "\n",
    "# Check if the input is within the valid range\n",
    "if 1 <= day_number <= 7:\n",
    "    day_of_week = days_of_week[day_number - 1]\n",
    "    print(f\"The day of the week is {day_of_week}.\")\n",
    "else:\n",
    "    print(\"Invalid input. Please enter a number between 1 and 7.\")\n"
   ]
  },
  {
   "cell_type": "code",
   "execution_count": 20,
   "id": "dff927be-6b7c-4a72-9e73-9c2b2a16c2d0",
   "metadata": {},
   "outputs": [
    {
     "name": "stdin",
     "output_type": "stream",
     "text": [
      "Enter a year:  2032\n"
     ]
    },
    {
     "name": "stdout",
     "output_type": "stream",
     "text": [
      "2032 is a leap year.\n"
     ]
    }
   ],
   "source": [
    "'''19. Create a program that determines if a year is a leap year and also if it is evenly divisible by 400.'''\n",
    "\n",
    "# Input a year from the user\n",
    "year = int(input(\"Enter a year: \"))\n",
    "\n",
    "# Check if it's a leap year\n",
    "if (year % 4 == 0 and year % 100 != 0) or (year % 400 == 0):\n",
    "    print(f\"{year} is a leap year.\")\n",
    "else:\n",
    "    print(f\"{year} is not a leap year.\")\n"
   ]
  },
  {
   "cell_type": "code",
   "execution_count": 19,
   "id": "337a854c-ed9f-48f9-8994-e2a882e93f80",
   "metadata": {},
   "outputs": [
    {
     "name": "stdin",
     "output_type": "stream",
     "text": [
      "Enter a number:  23\n"
     ]
    },
    {
     "name": "stdout",
     "output_type": "stream",
     "text": [
      "23 is a prime number.\n"
     ]
    }
   ],
   "source": [
    "'''20. Develop a program that checks if a given number is prime or not using nested if-else statements.'''\n",
    "\n",
    "# Input a number from the user\n",
    "num = int(input(\"Enter a number: \"))\n",
    "\n",
    "# Check if the number is less than 2 (not prime)\n",
    "if num < 2:\n",
    "    print(f\"{num} is not a prime number.\")\n",
    "else:\n",
    "    is_prime = True\n",
    "    for i in range(2, int(num/2) + 1):\n",
    "        if num % i == 0:\n",
    "            is_prime = False\n",
    "            break\n",
    "\n",
    "    if is_prime:\n",
    "        print(f\"{num} is a prime number.\")\n",
    "    else:\n",
    "        print(f\"{num} is not a prime number.\")\n"
   ]
  },
  {
   "cell_type": "code",
   "execution_count": 1,
   "id": "92cc23e1-b9b4-4c79-8bed-4d56395517b4",
   "metadata": {},
   "outputs": [
    {
     "name": "stdout",
     "output_type": "stream",
     "text": [
      "The student's grade is: B\n"
     ]
    }
   ],
   "source": [
    "''' \n",
    "\n",
    "21. Write a Python program to assign grades based on different ranges of scores using elif statements.\n",
    "\n",
    "'''\n",
    "\n",
    "def calculate_grade(score):\n",
    "    if score >= 90:\n",
    "        return 'A'\n",
    "    elif score >= 80:\n",
    "        return 'B'\n",
    "    elif score >= 70:\n",
    "        return 'C'\n",
    "    elif score >= 60:\n",
    "        return 'D'\n",
    "    else:\n",
    "        return 'F'\n",
    "\n",
    "# Example usage:\n",
    "student_score = 87\n",
    "grade = calculate_grade(student_score)\n",
    "print(\"The student's grade is:\", grade)  "
   ]
  },
  {
   "cell_type": "code",
   "execution_count": 2,
   "id": "488ec2b7-04ef-4fd3-9f91-e82afe6bf53d",
   "metadata": {},
   "outputs": [
    {
     "name": "stdin",
     "output_type": "stream",
     "text": [
      "Enter a degree of angle 91\n"
     ]
    },
    {
     "name": "stdout",
     "output_type": "stream",
     "text": [
      "angle is obtuse angle \n"
     ]
    }
   ],
   "source": [
    "'''22. Implement a program to determine the type of a triangle based on its angles.'''\n",
    "\n",
    "angle=int(input(\"Enter a degree of angle\"))\n",
    "\n",
    "if angle==90:\n",
    "    print(\"angle is right angle triangle \")\n",
    "elif angle < 90:\n",
    "    print(\"angle is acute angle \")\n",
    "else:\n",
    "    print(\"angle is obtuse angle \")"
   ]
  },
  {
   "cell_type": "code",
   "execution_count": 7,
   "id": "43eb92ec-ab31-4324-9dbc-9ea76a23e2cf",
   "metadata": {},
   "outputs": [
    {
     "name": "stdin",
     "output_type": "stream",
     "text": [
      "Enter your height (in meters):  1.55448\n",
      "Enter your weight (in kilograms):  54\n"
     ]
    },
    {
     "name": "stdout",
     "output_type": "stream",
     "text": [
      "Your BMI is 22.35, which falls into the category of Normal Weight.\n"
     ]
    }
   ],
   "source": [
    "'''23. Develop a program to categorize a given person's BMI into underweight, normal, overweight, or obese using\n",
    "elif statements'''\n",
    "# Input height in meters and weight in kilograms from the user\n",
    "height = float(input(\"Enter your height (in meters): \"))\n",
    "weight = float(input(\"Enter your weight (in kilograms): \"))\n",
    "\n",
    "# Calculate BMI (BMI = weight / (height^2))\n",
    "bmi = weight / (height ** 2)\n",
    "\n",
    "# Determine the BMI category\n",
    "if bmi < 18.5:\n",
    "    category = \"Underweight\"\n",
    "elif 18.5 <= bmi < 24.9:\n",
    "    category = \"Normal Weight\"\n",
    "elif 25.0 <= bmi < 29.9:\n",
    "    category = \"Overweight\"\n",
    "else:\n",
    "    category = \"Obese\"\n",
    "\n",
    "# Display the BMI category\n",
    "print(f\"Your BMI is {bmi:.2f}, which falls into the category of {category}.\")\n"
   ]
  },
  {
   "cell_type": "code",
   "execution_count": 8,
   "id": "361cd214-5556-4163-b272-8da475b77543",
   "metadata": {},
   "outputs": [
    {
     "name": "stdin",
     "output_type": "stream",
     "text": [
      "Enter a number  34\n"
     ]
    },
    {
     "name": "stdout",
     "output_type": "stream",
     "text": [
      "34 is postive \n"
     ]
    }
   ],
   "source": [
    "'''24. Create a program that determines whether a given number is positive, negative, or zero using elif\n",
    "statements.'''\n",
    "\n",
    "num=int(input(\"Enter a number \" ))\n",
    "if num>0:\n",
    "    print(f'{num} is postive ')\n",
    "elif num<0:\n",
    "    print(f'{num} is negative ')\n",
    "else:\n",
    "    print(f'{num} is zero ')"
   ]
  },
  {
   "cell_type": "code",
   "execution_count": 11,
   "id": "739315bb-f633-4e59-af37-a7ac9d49c86c",
   "metadata": {},
   "outputs": [
    {
     "name": "stdin",
     "output_type": "stream",
     "text": [
      "Enter a  character  W\n"
     ]
    },
    {
     "name": "stdout",
     "output_type": "stream",
     "text": [
      "character is upper case \n"
     ]
    }
   ],
   "source": [
    "'''25. Write a Python script to determine the type of a character (uppercase, lowercase, or special) using elif\n",
    "statements.'''\n",
    "\n",
    "inp=input(\"Enter a  character \")\n",
    "\n",
    "if inp.isupper():\n",
    "    print(\"character is upper case \")\n",
    "elif inp.islower():\n",
    "    print(\"character is lower case \")\n",
    "else:\n",
    "    print(\"character is special character \")"
   ]
  },
  {
   "cell_type": "code",
   "execution_count": 13,
   "id": "2a5e136e-3154-42e4-abbb-58af36abd986",
   "metadata": {},
   "outputs": [
    {
     "name": "stdin",
     "output_type": "stream",
     "text": [
      "Enter the total amount you have spent  3243\n"
     ]
    },
    {
     "name": "stdout",
     "output_type": "stream",
     "text": [
      "--> you got 5.0 %  discount of :  162.15  on Rs 3243 \n",
      "--> payable amout after discount is :  3080.85\n"
     ]
    }
   ],
   "source": [
    "'''26. Implement a program to calculate the discounted price based on different purchase amounts using elif\n",
    "statements.'''\n",
    "\n",
    "pur_amt=int(input(\"Enter the total amount you have spent \"))\n",
    "disc_perc=float(0)\n",
    "payable_amt=0\n",
    "if pur_amt<=1000:\n",
    "    pass\n",
    "elif 1000< pur_amt <=5000:\n",
    "    dis_perc=5/100\n",
    "elif 5000< pur_amt <=10000:\n",
    "    dis_perc=8/100\n",
    "else:\n",
    "    dis_perc=10/100\n",
    "\n",
    "discount=dis_perc*pur_amt\n",
    "payable_amt= pur_amt-discount\n",
    "\n",
    "print(\"--> you got\",dis_perc*100,\"%  discount of : \",discount,\" on Rs\",pur_amt,\n",
    "      \"\\n--> payable amout after discount is : \",payable_amt)"
   ]
  },
  {
   "cell_type": "code",
   "execution_count": 17,
   "id": "3d04f3b9-545d-4504-bc8b-f4ff796c4a74",
   "metadata": {},
   "outputs": [
    {
     "name": "stdin",
     "output_type": "stream",
     "text": [
      "Enter your electricity consumption in units (kWh):  79\n"
     ]
    },
    {
     "name": "stdout",
     "output_type": "stream",
     "text": [
      "Your electricity bill is ₹280.50\n"
     ]
    }
   ],
   "source": [
    "'''\n",
    "27. Develop a program to calculate the electricity bill based on different consumption slabs using elif\n",
    "statements.'''\n",
    "\n",
    "# Input the electricity consumption in units (kWh) from the user\n",
    "consumption = float(input(\"Enter your electricity consumption in units (kWh): \"))\n",
    "\n",
    "# Define the electricity rate slabs for residential consumers in India\n",
    "slab1_limit = 50\n",
    "slab2_limit = 100\n",
    "slab3_limit = 200\n",
    "rate_slab1 = 3.0  # Rate for the first 50 units\n",
    "rate_slab2 = 4.5  # Rate for the next 50 units\n",
    "rate_slab3 = 6.0  # Rate for the next 100 units\n",
    "rate_slab4 = 7.0  # Rate for units over 200\n",
    "\n",
    "# Calculate the electricity bill based on consumption\n",
    "if consumption <= slab1_limit:\n",
    "    bill = consumption * rate_slab1\n",
    "elif consumption <= slab2_limit:\n",
    "    bill = (slab1_limit * rate_slab1) + ((consumption - slab1_limit) * rate_slab2)\n",
    "elif consumption <= slab3_limit:\n",
    "    bill = (slab1_limit * rate_slab1) + (slab2_limit * rate_slab2) + ((consumption - slab2_limit) * rate_slab3)\n",
    "else:\n",
    "    bill = (slab1_limit * rate_slab1) + (slab2_limit * rate_slab2) + (slab3_limit * rate_slab3) + ((consumption - slab3_limit) * rate_slab4)\n",
    "\n",
    "# Display the electricity bill in INR\n",
    "print(f\"Your electricity bill is ₹{bill:.2f}\")\n"
   ]
  },
  {
   "cell_type": "code",
   "execution_count": 20,
   "id": "dfc23e0f-552c-458d-93e1-cb39c313ab60",
   "metadata": {},
   "outputs": [
    {
     "name": "stdin",
     "output_type": "stream",
     "text": [
      "Enter the length of side 1:  34\n",
      "Enter the length of side 2:  34\n",
      "Enter the length of side 3:  56\n",
      "Enter the length of side 4:  56\n",
      "Enter the measure of angle 1 (in degrees):  60\n",
      "Enter the measure of angle 2 (in degrees):  60\n",
      "Enter the measure of angle 3 (in degrees):  120\n",
      "Enter the measure of angle 4 (in degrees):  120\n"
     ]
    },
    {
     "name": "stdout",
     "output_type": "stream",
     "text": [
      "The type of quadrilateral is: Kite\n"
     ]
    }
   ],
   "source": [
    "'''28. Create a program to determine the type of quadrilateral based on its angles and sides using elif\n",
    "statements.'''\n",
    "\n",
    "# Input the lengths of the four sides of the quadrilateral\n",
    "side1 = float(input(\"Enter the length of side 1: \"))\n",
    "side2 = float(input(\"Enter the length of side 2: \"))\n",
    "side3 = float(input(\"Enter the length of side 3: \"))\n",
    "side4 = float(input(\"Enter the length of side 4: \"))\n",
    "\n",
    "# Input the angles of the quadrilateral in degrees\n",
    "angle1 = float(input(\"Enter the measure of angle 1 (in degrees): \"))\n",
    "angle2 = float(input(\"Enter the measure of angle 2 (in degrees): \"))\n",
    "angle3 = float(input(\"Enter the measure of angle 3 (in degrees): \"))\n",
    "angle4 = float(input(\"Enter the measure of angle 4 (in degrees): \"))\n",
    "\n",
    "# Determine the type of quadrilateral based on angles and sides\n",
    "if side1 == side2 == side3 == side4:\n",
    "    if angle1 == angle2 == angle3 == angle4 == 90:\n",
    "        quadrilateral_type = \"Square\"\n",
    "    else:\n",
    "        quadrilateral_type = \"Rhombus\"\n",
    "elif angle1 == angle2 == angle3 == angle4 == 90:\n",
    "    quadrilateral_type = \"Rectangle\"\n",
    "elif side1 == side2 and side3 == side4:\n",
    "    if angle1 == angle2 and angle3 == angle4:\n",
    "        quadrilateral_type = \"Kite\"\n",
    "    else:\n",
    "        quadrilateral_type = \"Trapezoid\"\n",
    "else:\n",
    "    quadrilateral_type = \"Quadrilateral\"\n",
    "\n",
    "# Display the type of quadrilateral\n",
    "print(f\"The type of quadrilateral is: {quadrilateral_type}\")\n",
    "\n",
    "\n"
   ]
  },
  {
   "cell_type": "code",
   "execution_count": 21,
   "id": "a7fdc9f4-5dc7-45a6-acb2-6b848afc08f1",
   "metadata": {},
   "outputs": [
    {
     "name": "stdin",
     "output_type": "stream",
     "text": [
      "Enter a month (e.g., January, February, etc.):  june\n"
     ]
    },
    {
     "name": "stdout",
     "output_type": "stream",
     "text": [
      "The season for June is Summer.\n"
     ]
    }
   ],
   "source": [
    "'''29. Write a Python script to determine the season based on a user-provided month using elif statements.'''\n",
    "\n",
    "# Input a month from the user\n",
    "month = input(\"Enter a month (e.g., January, February, etc.): \")\n",
    "\n",
    "# Convert the month to lowercase for case-insensitive comparison\n",
    "month = month.lower()\n",
    "\n",
    "# Determine the season based on the month\n",
    "if month in [\"december\", \"january\", \"february\"]:\n",
    "    season = \"Winter\"\n",
    "elif month in [\"march\", \"april\", \"may\"]:\n",
    "    season = \"Spring\"\n",
    "elif month in [\"june\", \"july\", \"august\"]:\n",
    "    season = \"Summer\"\n",
    "elif month in [\"september\", \"october\", \"november\"]:\n",
    "    season = \"Fall\"\n",
    "else:\n",
    "    season = \"Invalid month\"\n",
    "\n",
    "# Display the season\n",
    "print(f\"The season for {month.capitalize()} is {season}.\")\n"
   ]
  },
  {
   "cell_type": "code",
   "execution_count": 4,
   "id": "ae32fcea-faee-4967-bc21-54e28d59fdbb",
   "metadata": {},
   "outputs": [
    {
     "name": "stdin",
     "output_type": "stream",
     "text": [
      "Enter a year 2024\n",
      "Enter a month february\n"
     ]
    },
    {
     "name": "stdout",
     "output_type": "stream",
     "text": [
      "year is leap year \n",
      "month have 29 days\n"
     ]
    }
   ],
   "source": [
    "'''30. Implement a program to determine the type of a year (leap or common) and month (30 or 31 days) using\n",
    "elif statements.'''\n",
    "\n",
    "year=int(input(\"Enter a year\"))\n",
    "month=input(\"Enter a month\")\n",
    "month_31={\"january\",\"march\", \"may\", \"july\", \"august\",\"october\",\"december\"}\n",
    "month_30={\"june\", \"september\",\"november\",\"april\"} \n",
    "if year % 4==0:\n",
    "    print(\"year is leap year \")\n",
    "    if month==\"february\":\n",
    "        print(\"month have 29 days\")\n",
    "elif month in month_31:\n",
    "    print(\"month have 31 days \")\n",
    "elif month in month_30:\n",
    "    print(\"month have 30 days \")\n",
    "else:\n",
    "    print(\"month has 28 days \")\n",
    "    "
   ]
  },
  {
   "cell_type": "code",
   "execution_count": 9,
   "id": "f4d8862b-6b4a-4212-8db3-3efbdc6994b5",
   "metadata": {},
   "outputs": [
    {
     "name": "stdin",
     "output_type": "stream",
     "text": [
      "Enter a number  0\n"
     ]
    },
    {
     "name": "stdout",
     "output_type": "stream",
     "text": [
      "number is zero\n"
     ]
    }
   ],
   "source": [
    "'''1. Write a Python program that checks if a given number is positive, negative, or zero.\n",
    "'''\n",
    "\n",
    "num=int(input(\"Enter a number \"))\n",
    "\n",
    "if num < 0:\n",
    "    print(\"number is negative \")\n",
    "elif num > 0:\n",
    "    print(\"number is positive \")\n",
    "else:\n",
    "    print(\"number is zero\")"
   ]
  },
  {
   "cell_type": "code",
   "execution_count": 10,
   "id": "964535a0-e77c-479b-b204-63b49ca43a5f",
   "metadata": {},
   "outputs": [
    {
     "name": "stdin",
     "output_type": "stream",
     "text": [
      "Enter your age  34\n"
     ]
    },
    {
     "name": "stdout",
     "output_type": "stream",
     "text": [
      "eligible\n"
     ]
    }
   ],
   "source": [
    "'''2. Create a program to determine if a person is eligible to vote based on their age.'''\n",
    "\n",
    "age=int(input(\"Enter your age \"))\n",
    "\n",
    "if age >=18:\n",
    "    print(\"eligible\")\n",
    "else:\n",
    "    print(\"not eligible\")\n"
   ]
  },
  {
   "cell_type": "code",
   "execution_count": 12,
   "id": "8c9f14ea-cf4c-4b4d-8d00-0460a02840bd",
   "metadata": {},
   "outputs": [
    {
     "name": "stdin",
     "output_type": "stream",
     "text": [
      "Enter a num1  23\n",
      "Enter a num2  23\n"
     ]
    },
    {
     "name": "stdout",
     "output_type": "stream",
     "text": [
      "both are equal\n"
     ]
    }
   ],
   "source": [
    "'''3. Write a program to find the maximum of two given numbers using conditional statements.\n",
    "'''\n",
    "\n",
    "n1=int(input(\"Enter a num1 \"))\n",
    "n2=int(input(\"Enter a num2 \"))\n",
    "\n",
    "if n1 > n2:\n",
    "    print(\"num1 is greater\")\n",
    "elif n2 >n1:\n",
    "    print(\"num2 is greater\")\n",
    "else:\n",
    "    print(\"both are equal\")"
   ]
  },
  {
   "cell_type": "code",
   "execution_count": 14,
   "id": "eab9478f-374b-4f56-b15d-d39a087b6b1c",
   "metadata": {},
   "outputs": [
    {
     "name": "stdin",
     "output_type": "stream",
     "text": [
      "Enter a score out of 100 87\n"
     ]
    },
    {
     "name": "stdout",
     "output_type": "stream",
     "text": [
      "The student's grade is: B\n"
     ]
    }
   ],
   "source": [
    "'''4. Develop a program that calculates the grade of a student based on their exam score.\n",
    "'''\n",
    "\n",
    "def calculate_grade(score):\n",
    "    if score >= 90:\n",
    "        return 'A'\n",
    "    elif score >= 80:\n",
    "        return 'B'\n",
    "    elif score >= 70:\n",
    "        return 'C'\n",
    "    elif score >= 60:\n",
    "        return 'D'\n",
    "    else:\n",
    "        return 'F'\n",
    "\n",
    "# Example usage:\n",
    "student_score = int(input(\"Enter a score out of 100\"))\n",
    "grade = calculate_grade(student_score)\n",
    "print(\"The student's grade is:\", grade)  "
   ]
  },
  {
   "cell_type": "code",
   "execution_count": null,
   "id": "853d9333-c027-4441-bdb9-9effaf82b351",
   "metadata": {},
   "outputs": [],
   "source": [
    "'''5. Create a program that checks if a year is a leap year or not.'''\n",
    "\n",
    "already done"
   ]
  },
  {
   "cell_type": "code",
   "execution_count": 17,
   "id": "aa141aa7-9ce9-4845-8a15-791e736e8e21",
   "metadata": {},
   "outputs": [
    {
     "name": "stdin",
     "output_type": "stream",
     "text": [
      "Enter a length of side 1  23\n",
      "Enter a length of side 2  34\n",
      "Enter a length of side 3  34\n"
     ]
    },
    {
     "name": "stdout",
     "output_type": "stream",
     "text": [
      "trianle is iscoceles triangle \n"
     ]
    }
   ],
   "source": [
    "'''6. Write a program to classify a triangle based on its sides' lengths.'''\n",
    "\n",
    "s1=int(input(\"Enter a length of side 1 \" ))\n",
    "s2=int(input(\"Enter a length of side 2 \" ))\n",
    "s3=int(input(\"Enter a length of side 3 \" ))\n",
    "\n",
    "if s1==s2==s3:\n",
    "    print(\"triangle is equilateral triangle \")\n",
    "elif s1==s2 or s1==s3 or s2==s3:\n",
    "    print(\"trianle is iscoceles triangle \")\n",
    "else:\n",
    "    print(\"triangle is regular triangle\")"
   ]
  },
  {
   "cell_type": "code",
   "execution_count": 19,
   "id": "8cf9bc6c-da9c-466d-b0ec-182283942fb2",
   "metadata": {},
   "outputs": [
    {
     "name": "stdin",
     "output_type": "stream",
     "text": [
      "Enter a num1  34\n",
      "Enter a num2  45\n",
      "Enter a num3  67\n"
     ]
    },
    {
     "name": "stdout",
     "output_type": "stream",
     "text": [
      "67 is greater\n"
     ]
    }
   ],
   "source": [
    "'''7. Build a program that determines the largest of three given numbers.'''\n",
    "\n",
    "no1=int(input(\"Enter a num1 \"))\n",
    "no2=int(input(\"Enter a num2 \"))\n",
    "no3=int(input(\"Enter a num3 \"))\n",
    "\n",
    "if no1>no2 and no1>no3:\n",
    "    print(no1,\"is greater\")\n",
    "elif no2>no1 and no2>no3:\n",
    "    print(no2,\"is greater\")\n",
    "else:\n",
    "    print(no3,\"is greater\")\n"
   ]
  },
  {
   "cell_type": "code",
   "execution_count": null,
   "id": "ccf24a9b-a26c-40dd-83ee-ecb00fd8bf1e",
   "metadata": {},
   "outputs": [],
   "source": [
    "'''8. Develop a program that checks whether a character is a vowel or a consonant.'''\n",
    "#Already done\n"
   ]
  },
  {
   "cell_type": "code",
   "execution_count": 20,
   "id": "62569200-a970-4a7d-b5f2-cc78e25a5de8",
   "metadata": {},
   "outputs": [
    {
     "name": "stdin",
     "output_type": "stream",
     "text": [
      "Enter an item (or 'done' to finish):  item1\n",
      "Enter the quantity of item1:  3\n",
      "Enter an item (or 'done' to finish):  item2\n",
      "Enter the quantity of item2:  4\n",
      "Enter an item (or 'done' to finish):  done\n"
     ]
    },
    {
     "name": "stdout",
     "output_type": "stream",
     "text": [
      "Shopping Cart:\n",
      "item1: 3 x 10.0 INR = 30.0 INR\n",
      "item2: 4 x 20.0 INR = 80.0 INR\n",
      "Total Cost (after discount): 99.00 INR\n"
     ]
    }
   ],
   "source": [
    "'''9. Create a program to calculate the total cost of a shopping cart based on discounts.'''\n",
    "\n",
    "# Define a dictionary of items and their prices\n",
    "item_prices = {\n",
    "    \"item1\": 10.0,\n",
    "    \"item2\": 20.0,\n",
    "    \"item3\": 30.0,\n",
    "    # Add more items and their prices as needed\n",
    "}\n",
    "\n",
    "# Initialize variables for the shopping cart and total cost\n",
    "shopping_cart = {}\n",
    "total_cost = 0.0\n",
    "\n",
    "# Input the items and quantities into the shopping cart\n",
    "while True:\n",
    "    item = input(\"Enter an item (or 'done' to finish): \").lower()\n",
    "    if item == 'done':\n",
    "        break\n",
    "    quantity = int(input(f\"Enter the quantity of {item}: \"))\n",
    "    shopping_cart[item] = shopping_cart.get(item, 0) + quantity\n",
    "\n",
    "# Calculate the total cost with discounts\n",
    "for item, quantity in shopping_cart.items():\n",
    "    if item in item_prices:\n",
    "        item_price = item_prices[item]\n",
    "        item_total = item_price * quantity\n",
    "        total_cost += item_total\n",
    "\n",
    "# Apply discounts based on the total cost\n",
    "if total_cost >= 100:\n",
    "    discount_percentage = 10  # 10% discount for total cost >= 100\n",
    "    discount_amount = (discount_percentage / 100) * total_cost\n",
    "    total_cost -= discount_amount\n",
    "\n",
    "# Display the shopping cart and total cost\n",
    "print(\"Shopping Cart:\")\n",
    "for item, quantity in shopping_cart.items():\n",
    "    print(f\"{item}: {quantity} x {item_prices[item]} INR = {quantity * item_prices[item]} INR\")\n",
    "print(f\"Total Cost (after discount): {total_cost:.2f} INR\")\n"
   ]
  },
  {
   "cell_type": "code",
   "execution_count": 27,
   "id": "521ca60f-49d8-4213-9f77-405e470dd6a3",
   "metadata": {},
   "outputs": [
    {
     "name": "stdin",
     "output_type": "stream",
     "text": [
      "Enter a num  35\n"
     ]
    },
    {
     "name": "stdout",
     "output_type": "stream",
     "text": [
      "odd\n"
     ]
    }
   ],
   "source": [
    "'''10. Write a program that checks if a given number is even or odd'''\n",
    "n10=int(input(\"Enter a num \"))\n",
    "\n",
    "while n10 >1:\n",
    "    n10-=2\n",
    "if n10==0:\n",
    "    print(\"even\")\n",
    "else:\n",
    "    print(\"odd\")"
   ]
  },
  {
   "cell_type": "code",
   "execution_count": 22,
   "id": "8a4fe7b1-d945-4a02-b134-3003b2164686",
   "metadata": {},
   "outputs": [
    {
     "name": "stdin",
     "output_type": "stream",
     "text": [
      "Enter coefficient a:  2\n",
      "Enter coefficient b:  3\n",
      "Enter coefficient c:  4\n"
     ]
    },
    {
     "name": "stdout",
     "output_type": "stream",
     "text": [
      "Root 1: (-0.75+1.1989578808281798j)\n",
      "Root 2: (-0.75-1.1989578808281798j)\n"
     ]
    }
   ],
   "source": [
    "'''11. Write a program that calculates the roots of a quadratic equation .\n",
    "'''\n",
    "import math\n",
    "\n",
    "a = float(input(\"Enter coefficient a: \"))\n",
    "b = float(input(\"Enter coefficient b: \"))\n",
    "c = float(input(\"Enter coefficient c: \"))\n",
    "\n",
    "# Calculate the discriminant (the value inside the square root)\n",
    "discriminant = b**2 - 4*a*c\n",
    "\n",
    "# Check if the discriminant is positive, negative, or zero\n",
    "if discriminant > 0:\n",
    "    # Two distinct real roots\n",
    "    root1 = (-b + math.sqrt(discriminant)) / (2*a)\n",
    "    root2 = (-b - math.sqrt(discriminant)) / (2*a)\n",
    "    print(f\"Root 1: {root1}\")\n",
    "    print(f\"Root 2: {root2}\")\n",
    "elif discriminant == 0:\n",
    "    # One real root (repeated)\n",
    "    root = -b / (2*a)\n",
    "    print(f\"Root (repeated): {root}\")\n",
    "else:\n",
    "    # Complex roots\n",
    "    real_part = -b / (2*a)\n",
    "    imaginary_part = math.sqrt(abs(discriminant)) / (2*a)\n",
    "    root1 = complex(real_part, imaginary_part)\n",
    "    root2 = complex(real_part, -imaginary_part)\n",
    "    print(f\"Root 1: {root1}\")\n",
    "    print(f\"Root 2: {root2}\")\n"
   ]
  },
  {
   "cell_type": "code",
   "execution_count": null,
   "id": "740cffbc-e8b2-497b-8baa-fed57de48f75",
   "metadata": {},
   "outputs": [],
   "source": [
    "'''12. Create a program that determines the day of the week based on the day number (1-7).\n",
    "'''\n",
    "#done already\n"
   ]
  },
  {
   "cell_type": "code",
   "execution_count": 31,
   "id": "2bcd061a-6b8c-497e-9be4-9d1a6041eb36",
   "metadata": {},
   "outputs": [
    {
     "name": "stdin",
     "output_type": "stream",
     "text": [
      "Enter a num 3\n"
     ]
    },
    {
     "name": "stdout",
     "output_type": "stream",
     "text": [
      "factorial of 3 is 6\n"
     ]
    }
   ],
   "source": [
    "\n",
    "'''13. Develop a program that calculates the factorial of a given number using recursion.\n",
    "'''\n",
    "\n",
    "def fact(x):\n",
    "    if x==1:\n",
    "        return 1\n",
    "    x*=fact(x-1)\n",
    "    return x\n",
    "\n",
    "n13=int(input(\"Enter a num\"))\n",
    "\n",
    "ans=fact(n13)\n",
    "print(f'factorial of {n13} is {ans}')"
   ]
  },
  {
   "cell_type": "code",
   "execution_count": 1,
   "id": "baadea50-5f13-471b-8578-f47e0e0e245e",
   "metadata": {},
   "outputs": [
    {
     "name": "stdin",
     "output_type": "stream",
     "text": [
      "Enter a num1  12\n",
      "Enter a num2  12\n",
      "Enter a num3  23\n"
     ]
    },
    {
     "name": "stdout",
     "output_type": "stream",
     "text": [
      "23 is greater\n",
      "23\n"
     ]
    }
   ],
   "source": [
    "'''14. Write a program to find the largest among three numbers without using the `max()` function.'''\n",
    "\n",
    "no1=int(input(\"Enter a num1 \"))\n",
    "no2=int(input(\"Enter a num2 \"))\n",
    "no3=int(input(\"Enter a num3 \"))\n",
    "\n",
    "if no1>no2 and no1>no3:\n",
    "    print(no1,\"is greater\")\n",
    "elif no2>no1 and no2>no3:\n",
    "    print(no2,\"is greater\")\n",
    "else:\n",
    "    print(no3,\"is greater\")\n",
    "    \n",
    "g=max(no1,no2,no3)\n",
    "print(g)"
   ]
  },
  {
   "cell_type": "code",
   "execution_count": 1,
   "id": "48291bd7-5460-42d2-956d-25fca6d0fbf2",
   "metadata": {},
   "outputs": [
    {
     "name": "stdout",
     "output_type": "stream",
     "text": [
      "ATM Menu:\n",
      "1. Check Balance\n",
      "2. Deposit\n",
      "3. Withdraw\n",
      "4. Quit\n"
     ]
    },
    {
     "name": "stdin",
     "output_type": "stream",
     "text": [
      "Enter your choice (1/2/3/4):  2\n",
      "Enter the deposit amount:  300\n"
     ]
    },
    {
     "name": "stdout",
     "output_type": "stream",
     "text": [
      "₹300.00 deposited successfully.\n",
      "ATM Menu:\n",
      "1. Check Balance\n",
      "2. Deposit\n",
      "3. Withdraw\n",
      "4. Quit\n"
     ]
    },
    {
     "name": "stdin",
     "output_type": "stream",
     "text": [
      "Enter your choice (1/2/3/4):  1\n"
     ]
    },
    {
     "name": "stdout",
     "output_type": "stream",
     "text": [
      "Your balance is ₹1300.00\n",
      "ATM Menu:\n",
      "1. Check Balance\n",
      "2. Deposit\n",
      "3. Withdraw\n",
      "4. Quit\n"
     ]
    },
    {
     "name": "stdin",
     "output_type": "stream",
     "text": [
      "Enter your choice (1/2/3/4):  3\n",
      "Enter the withdrawal amount:  1301\n"
     ]
    },
    {
     "name": "stdout",
     "output_type": "stream",
     "text": [
      "Insufficient balance.\n",
      "ATM Menu:\n",
      "1. Check Balance\n",
      "2. Deposit\n",
      "3. Withdraw\n",
      "4. Quit\n"
     ]
    },
    {
     "name": "stdin",
     "output_type": "stream",
     "text": [
      "Enter your choice (1/2/3/4):  3\n",
      "Enter the withdrawal amount:  344\n"
     ]
    },
    {
     "name": "stdout",
     "output_type": "stream",
     "text": [
      "₹344.00 withdrawn successfully.\n",
      "ATM Menu:\n",
      "1. Check Balance\n",
      "2. Deposit\n",
      "3. Withdraw\n",
      "4. Quit\n"
     ]
    },
    {
     "name": "stdin",
     "output_type": "stream",
     "text": [
      "Enter your choice (1/2/3/4):  1\n"
     ]
    },
    {
     "name": "stdout",
     "output_type": "stream",
     "text": [
      "Your balance is ₹956.00\n",
      "ATM Menu:\n",
      "1. Check Balance\n",
      "2. Deposit\n",
      "3. Withdraw\n",
      "4. Quit\n"
     ]
    },
    {
     "name": "stdin",
     "output_type": "stream",
     "text": [
      "Enter your choice (1/2/3/4):  4\n"
     ]
    },
    {
     "name": "stdout",
     "output_type": "stream",
     "text": [
      "Thank you for using our ATM.\n"
     ]
    }
   ],
   "source": [
    "'''15. Create a program that simulates a basic ATM transaction menu.'''\n",
    "# Initialize the account balance\n",
    "balance = 1000\n",
    "\n",
    "# ATM transaction menu\n",
    "while True:\n",
    "    print(\"ATM Menu:\")\n",
    "    print(\"1. Check Balance\")\n",
    "    print(\"2. Deposit\")\n",
    "    print(\"3. Withdraw\")\n",
    "    print(\"4. Quit\")\n",
    "\n",
    "    choice = input(\"Enter your choice (1/2/3/4): \")\n",
    "\n",
    "    if choice == '1':\n",
    "        print(f\"Your balance is ₹{balance:.2f}\")\n",
    "    elif choice == '2':\n",
    "        amount = float(input(\"Enter the deposit amount: \"))\n",
    "        balance += amount\n",
    "        print(f\"₹{amount:.2f} deposited successfully.\")\n",
    "    elif choice == '3':\n",
    "        amount = float(input(\"Enter the withdrawal amount: \"))\n",
    "        if amount > balance:\n",
    "            print(\"Insufficient balance.\")\n",
    "        else:\n",
    "            balance -= amount\n",
    "            print(f\"₹{amount:.2f} withdrawn successfully.\")\n",
    "    elif choice == '4':\n",
    "        print(\"Thank you for using our ATM.\")\n",
    "        break\n",
    "    else:\n",
    "        print(\"Invalid choice. Please select a valid option.\")\n",
    "\n"
   ]
  },
  {
   "cell_type": "code",
   "execution_count": 11,
   "id": "be5a3667-3553-4d7b-90d2-b63fff6076b1",
   "metadata": {},
   "outputs": [
    {
     "name": "stdin",
     "output_type": "stream",
     "text": [
      "Enter a string : werew\n"
     ]
    },
    {
     "name": "stdout",
     "output_type": "stream",
     "text": [
      "yes\n"
     ]
    }
   ],
   "source": [
    "'''16. Build a program that checks if a given string is a palindrome or not.'''\n",
    "\n",
    "str1=input(\"Enter a string :\")\n",
    "\n",
    "if str1==str1[-1:-6:-1]:\n",
    "    print(\"yes\")\n",
    "else:\n",
    "    print(\"not pallindrome\")"
   ]
  },
  {
   "cell_type": "code",
   "execution_count": 12,
   "id": "01c8124c-7f40-47d4-a53b-41ab96169959",
   "metadata": {},
   "outputs": [
    {
     "name": "stdin",
     "output_type": "stream",
     "text": [
      "Enter a list of numbers separated by spaces:  1 2 3 4\n"
     ]
    },
    {
     "name": "stdout",
     "output_type": "stream",
     "text": [
      "The average (excluding the smallest and largest values) is 2.50\n"
     ]
    }
   ],
   "source": [
    "'''17. Write a program that calculates the average of a list of numbers, excluding the smallest and largest values.'''\n",
    "\n",
    "# Input a list of numbers from the user\n",
    "numbers = [float(x) for x in input(\"Enter a list of numbers separated by spaces: \").split()]\n",
    "\n",
    "# Check if the list has at least 3 numbers\n",
    "if len(numbers) < 3:\n",
    "    print(\"You must enter at least 3 numbers.\")\n",
    "else:\n",
    "    # Remove the smallest and largest values\n",
    "    numbers.remove(min(numbers))\n",
    "    numbers.remove(max(numbers))\n",
    "\n",
    "    # Calculate the average of the remaining values\n",
    "    average = sum(numbers) / len(numbers)\n",
    "\n",
    "    print(f\"The average (excluding the smallest and largest values) is {average:.2f}\")\n"
   ]
  },
  {
   "cell_type": "code",
   "execution_count": null,
   "id": "6969db3e-0a3e-412b-a399-9c898965dc77",
   "metadata": {},
   "outputs": [],
   "source": [
    "'''18. Develop a program that converts a given temperature from Celsius to Fahrenheit.'''\n",
    "\n",
    "#already done"
   ]
  },
  {
   "cell_type": "code",
   "execution_count": null,
   "id": "6aef929f-f47d-4b9c-b464-e84815e2e09b",
   "metadata": {},
   "outputs": [
    {
     "name": "stdin",
     "output_type": "stream",
     "text": [
      "ENter a num 3\n",
      "Enter a num2 4\n"
     ]
    },
    {
     "name": "stdout",
     "output_type": "stream",
     "text": [
      "1 for addition\n",
      "2 for substraction\n",
      "3 for multiplication\n",
      "4 for division\n",
      "5 for break\n"
     ]
    },
    {
     "name": "stdin",
     "output_type": "stream",
     "text": [
      " 1\n"
     ]
    },
    {
     "name": "stdout",
     "output_type": "stream",
     "text": [
      "3 + 4 is 7\n",
      "1 for addition\n",
      "2 for substraction\n",
      "3 for multiplication\n",
      "4 for division\n",
      "5 for break\n"
     ]
    },
    {
     "name": "stdin",
     "output_type": "stream",
     "text": [
      " 5\n"
     ]
    }
   ],
   "source": [
    "'''19. Create a program that simulates a basic calculator for addition, subtraction, multiplication, and division.'''\n",
    "n1=int(input(\"ENter a num\"))\n",
    "n2=int(input(\"Enter a num2\"))\n",
    "\n",
    "while True:\n",
    "    print(\"1 for addition\")\n",
    "    print(\"2 for substraction\")\n",
    "    print(\"3 for multiplication\")\n",
    "    print(\"4 for division\")\n",
    "    print(\"5 for break\")\n",
    "    \n",
    "    op=int(input(\"enter 1/2/3/4/5 : \"))\n",
    "    \n",
    "    if op==1:\n",
    "        print(f'{n1} + {n2} is {n1+n2}')\n",
    "        \n",
    "    if op==5:\n",
    "        break\n",
    "        \n",
    "    "
   ]
  },
  {
   "cell_type": "code",
   "execution_count": 1,
   "id": "5599627b-5ad1-4d47-b732-166518a27c4d",
   "metadata": {},
   "outputs": [
    {
     "name": "stdin",
     "output_type": "stream",
     "text": [
      "Enter coefficient a:  2\n",
      "Enter coefficient b:  4\n",
      "Enter coefficient c:  6\n",
      "Enter coefficient d:  8\n"
     ]
    },
    {
     "name": "stdout",
     "output_type": "stream",
     "text": [
      "Real root: -2.25-0.35j\n"
     ]
    }
   ],
   "source": [
    "'''20. Write a program that determines the roots of a cubic equation using the Cardano formula.'''\n",
    "\n",
    "\n",
    "import math\n",
    "\n",
    "# Input coefficients a, b, c, and d from the user\n",
    "a = float(input(\"Enter coefficient a: \"))\n",
    "b = float(input(\"Enter coefficient b: \"))\n",
    "c = float(input(\"Enter coefficient c: \"))\n",
    "d = float(input(\"Enter coefficient d: \"))\n",
    "\n",
    "# Calculate some intermediate values\n",
    "p = c / a - (b ** 2) / (3 * (a ** 2))\n",
    "q = (2 * (b ** 3)) / (27 * (a ** 3)) - (b * c) / (3 * (a ** 2)) + d / a\n",
    "\n",
    "# Calculate the discriminant\n",
    "discriminant = (q ** 2) / 4 + (p ** 3) / 27\n",
    "\n",
    "# Check the cases for finding the roots\n",
    "if discriminant > 0:\n",
    "    # One real root and two complex roots\n",
    "    root1 = -((q / 2 + math.sqrt(discriminant)) ** (1 / 3)) - ((q / 2 - math.sqrt(discriminant)) ** (1 / 3)) - (b / (3 * a))\n",
    "    print(f\"Real root: {root1:.2f}\")\n",
    "else:\n",
    "    # All real roots\n",
    "    sqrt_discriminant = math.sqrt(-discriminant)\n",
    "    phi = math.acos(-q / (2 * sqrt_discriminant))\n",
    "    root1 = 2 * math.sqrt(-p / 3) * math.cos(phi / 3) - (b / (3 * a))\n",
    "    root2 = 2 * math.sqrt(-p / 3) * math.cos((phi + 2 * math.pi) / 3) - (b / (3 * a))\n",
    "    root3 = 2 * math.sqrt(-p / 3) * math.cos((phi + 4 * math.pi) / 3) - (b / (3 * a))\n",
    "    print(f\"Real root 1: {root1:.2f}\")\n",
    "    print(f\"Real root 2: {root2:.2f}\")\n",
    "    print(f\"Real root 3: {root3:.2f}\")\n"
   ]
  },
  {
   "cell_type": "code",
   "execution_count": 2,
   "id": "291c47d7-016d-4ee8-8158-0bb6a33e5e7a",
   "metadata": {},
   "outputs": [
    {
     "name": "stdin",
     "output_type": "stream",
     "text": [
      "Enter your income:  40000\n"
     ]
    },
    {
     "name": "stdout",
     "output_type": "stream",
     "text": [
      "Your income tax is: 8000.00\n"
     ]
    }
   ],
   "source": [
    "'''21. Create a program that calculates the income tax based on the user's income and tax brackets.'''\n",
    "# Input the user's income\n",
    "income = float(input(\"Enter your income: \"))\n",
    "\n",
    "# Define income tax brackets and rates\n",
    "brackets = [10000, 20000, 50000, 100000]\n",
    "rates = [0.1, 0.2, 0.3, 0.4]\n",
    "\n",
    "# Calculate income tax\n",
    "tax = 0\n",
    "remaining_income = income\n",
    "\n",
    "for i in range(len(brackets)):\n",
    "    if remaining_income <= 0:\n",
    "        break\n",
    "    if i == len(brackets) - 1 or remaining_income <= brackets[i]:\n",
    "        tax += remaining_income * rates[i]\n",
    "        break\n",
    "    else:\n",
    "        tax += brackets[i] * rates[i]\n",
    "        remaining_income -= brackets[i]\n",
    "\n",
    "print(f\"Your income tax is: {tax:.2f}\")\n"
   ]
  },
  {
   "cell_type": "code",
   "execution_count": 4,
   "id": "1013412e-dda2-47dd-9336-c6cc633586b7",
   "metadata": {},
   "outputs": [
    {
     "name": "stdin",
     "output_type": "stream",
     "text": [
      "chose rock paper scesior :  scesior\n"
     ]
    },
    {
     "name": "stdout",
     "output_type": "stream",
     "text": [
      "you chose scesior and computer choice scesior and It's a tie! \n"
     ]
    }
   ],
   "source": [
    "'''22. Write a program that simulates a rock-paper-scissors game against the computer.'''\n",
    "import random\n",
    "\n",
    "user_choice=input(\"chose rock paper scesior : \").lower()\n",
    "\n",
    "computer_choice=random.choice([\"rock\",\"paper\",\"scesior\"])\n",
    "\n",
    "if user_choice == computer_choice:\n",
    "    result = \"It's a tie!\"\n",
    "elif (\n",
    "    (user_choice == \"rock\" and computer_choice == \"scissors\") or\n",
    "    (user_choice == \"paper\" and computer_choice == \"rock\") or\n",
    "    (user_choice == \"scissors\" and computer_choice == \"paper\")\n",
    "):\n",
    "    result = \"You win!\"\n",
    "else:\n",
    "    result = \"Computer wins!\"\n",
    "\n",
    "print(f\"you chose {user_choice} and computer choice {computer_choice} and {result} \")\n",
    "\n"
   ]
  },
  {
   "cell_type": "code",
   "execution_count": 9,
   "id": "b750f486-45e9-497b-a1da-98327a2ce872",
   "metadata": {},
   "outputs": [
    {
     "name": "stdin",
     "output_type": "stream",
     "text": [
      "Enter the length of the password:  20\n",
      "Enter password complexity (low/medium/high):  medium\n"
     ]
    },
    {
     "name": "stdout",
     "output_type": "stream",
     "text": [
      "Generated Password: 3k2mVWAwIOj3OJ7JcZ5S\n"
     ]
    }
   ],
   "source": [
    "'''23. Develop a program that generates a random password based on user preferences (length, complexity).'''\n",
    "import random\n",
    "import string\n",
    "\n",
    "length = int(input(\"Enter the length of the password: \"))\n",
    "complexity = input(\"Enter password complexity (low/medium/high): \").lower()\n",
    "\n",
    "low_complexity = string.ascii_letters\n",
    "medium_complexity = string.ascii_letters + string.digits\n",
    "high_complexity = string.ascii_letters + string.digits + string.punctuation\n",
    "\n",
    "if complexity == \"low\":\n",
    "    characters = low_complexity\n",
    "elif complexity == \"medium\":\n",
    "    characters = medium_complexity\n",
    "elif complexity == \"high\":\n",
    "    characters = high_complexity\n",
    "else:\n",
    "    print(\"Invalid complexity level. Please choose low, medium, or high.\")\n",
    "    exit()\n",
    "\n",
    "password = ''.join(random.choice(characters) for _ in range(length))\n",
    "\n",
    "print(f\"Generated Password: {password}\")\n"
   ]
  },
  {
   "cell_type": "code",
   "execution_count": 1,
   "id": "0f8b3999-90fb-4515-abb6-fc74d6cac149",
   "metadata": {},
   "outputs": [
    {
     "name": "stdout",
     "output_type": "stream",
     "text": [
      "Welcome to the Adventure Game!\n",
      "You find yourself in a forest.\n"
     ]
    },
    {
     "name": "stdin",
     "output_type": "stream",
     "text": [
      "Do you want to go 'left' or 'right'?  right\n"
     ]
    },
    {
     "name": "stdout",
     "output_type": "stream",
     "text": [
      "You encounter a wild animal and run away.\n",
      "You're safe, but you didn't find anything valuable.\n",
      "As you continue your journey, you see a cave.\n"
     ]
    },
    {
     "name": "stdin",
     "output_type": "stream",
     "text": [
      "Do you want to 'enter' the cave or 'keep going'?  enter\n"
     ]
    },
    {
     "name": "stdout",
     "output_type": "stream",
     "text": [
      "Inside the cave, you find a dragon!\n",
      "You quickly realize it's a friendly dragon and make a new friend.\n",
      "You decide to rest by the waterfall.\n"
     ]
    },
    {
     "name": "stdin",
     "output_type": "stream",
     "text": [
      "Do you want to 'swim' in the pool or 'explore' the surroundings?  explore\n"
     ]
    },
    {
     "name": "stdout",
     "output_type": "stream",
     "text": [
      "You explore the surroundings and find a hidden path leading deeper into the forest.\n",
      "You've had quite an adventure in the forest!\n",
      "Thanks for playing the Adventure Game!\n"
     ]
    }
   ],
   "source": [
    "'''24. Create a program that implements a simple text-based adventure game with branching scenarios.\n",
    "\n",
    "\n",
    "\n",
    "\n",
    "\n",
    "29. Build a program that determines the roots of a quartic equation using numerical methods.\n",
    "\n",
    "30. Write a program that calculates the BMI (Body Mass Index) and provides health recommendations based\n",
    "on the user's input'''\n",
    "\n",
    "import time\n",
    "\n",
    "# Introduction\n",
    "print(\"Welcome to the Adventure Game!\")\n",
    "time.sleep(1)\n",
    "print(\"You find yourself in a forest.\")\n",
    "time.sleep(1)\n",
    "\n",
    "# Scenario 1\n",
    "choice1 = input(\"Do you want to go 'left' or 'right'? \").lower()\n",
    "if choice1 == 'left':\n",
    "    print(\"You discover a hidden treasure chest!\")\n",
    "    time.sleep(1)\n",
    "    print(\"Congratulations, you're rich!\")\n",
    "else:\n",
    "    print(\"You encounter a wild animal and run away.\")\n",
    "    time.sleep(1)\n",
    "    print(\"You're safe, but you didn't find anything valuable.\")\n",
    "\n",
    "# Scenario 2\n",
    "time.sleep(1)\n",
    "print(\"As you continue your journey, you see a cave.\")\n",
    "choice2 = input(\"Do you want to 'enter' the cave or 'keep going'? \").lower()\n",
    "if choice2 == 'enter':\n",
    "    print(\"Inside the cave, you find a dragon!\")\n",
    "    time.sleep(1)\n",
    "    print(\"You quickly realize it's a friendly dragon and make a new friend.\")\n",
    "else:\n",
    "    print(\"You continue your journey, avoiding the cave.\")\n",
    "    time.sleep(1)\n",
    "    print(\"You come across a beautiful waterfall.\")\n",
    "\n",
    "# Scenario 3\n",
    "time.sleep(1)\n",
    "print(\"You decide to rest by the waterfall.\")\n",
    "choice3 = input(\"Do you want to 'swim' in the pool or 'explore' the surroundings? \").lower()\n",
    "if choice3 == 'swim':\n",
    "    print(\"You enjoy a refreshing swim in the pool.\")\n",
    "else:\n",
    "    print(\"You explore the surroundings and find a hidden path leading deeper into the forest.\")\n",
    "\n",
    "# Conclusion\n",
    "time.sleep(1)\n",
    "print(\"You've had quite an adventure in the forest!\")\n",
    "time.sleep(1)\n",
    "print(\"Thanks for playing the Adventure Game!\")\n"
   ]
  },
  {
   "cell_type": "code",
   "execution_count": 2,
   "id": "7240ad6e-5e4f-4ccd-89bf-d2f4c51d4d84",
   "metadata": {},
   "outputs": [
    {
     "name": "stdin",
     "output_type": "stream",
     "text": [
      "Enter coefficient a:  3\n",
      "Enter coefficient b:  5\n"
     ]
    },
    {
     "name": "stdout",
     "output_type": "stream",
     "text": [
      "The solution for x is: -1.6666666666666667\n"
     ]
    }
   ],
   "source": [
    "'''25. Build a program that solves a linear equation  for x, considering different cases.'''\n",
    "a = float(input(\"Enter coefficient a: \"))\n",
    "b = float(input(\"Enter coefficient b: \"))\n",
    "\n",
    "if a == 0:\n",
    "    if b == 0:\n",
    "        print(\"Infinite solutions (identity equation)\")\n",
    "    else:\n",
    "        print(\"No solution (contradiction)\")\n",
    "else:\n",
    "    x = -b / a\n",
    "    print(f\"The solution for x is: {x}\")"
   ]
  },
  {
   "cell_type": "code",
   "execution_count": 4,
   "id": "671736d4-1cff-45bb-a98d-ef15fba01268",
   "metadata": {},
   "outputs": [
    {
     "name": "stdout",
     "output_type": "stream",
     "text": [
      "What is the capital of France?\n",
      "A. London\n",
      "B. Paris\n",
      "C. Berlin\n",
      "D. Madrid\n"
     ]
    },
    {
     "name": "stdin",
     "output_type": "stream",
     "text": [
      "Enter your choice (A/B/C/D):  b\n"
     ]
    },
    {
     "name": "stdout",
     "output_type": "stream",
     "text": [
      "Correct!\n",
      "\n",
      "Which planet is known as the Red Planet?\n",
      "A. Earth\n",
      "B. Mars\n",
      "C. Venus\n",
      "D. Jupiter\n"
     ]
    },
    {
     "name": "stdin",
     "output_type": "stream",
     "text": [
      "Enter your choice (A/B/C/D):  b\n"
     ]
    },
    {
     "name": "stdout",
     "output_type": "stream",
     "text": [
      "Correct!\n",
      "\n",
      "What is 7 x 8?\n",
      "A. 42\n",
      "B. 48\n",
      "C. 56\n",
      "D. 64\n"
     ]
    },
    {
     "name": "stdin",
     "output_type": "stream",
     "text": [
      "Enter your choice (A/B/C/D):  c\n"
     ]
    },
    {
     "name": "stdout",
     "output_type": "stream",
     "text": [
      "Correct!\n",
      "\n",
      "Your score: 3/3\n"
     ]
    }
   ],
   "source": [
    "'''26. Write a program that simulates a basic quiz game with multiple-choice questions and scoring.'''\n",
    "\n",
    "# Define the quiz questions and answers\n",
    "questions = [\n",
    "    {\n",
    "        'question': 'What is the capital of France?',\n",
    "        'options': ['A. London', 'B. Paris', 'C. Berlin', 'D. Madrid'],\n",
    "        'answer': 'B'\n",
    "    },\n",
    "    {\n",
    "        'question': 'Which planet is known as the Red Planet?',\n",
    "        'options': ['A. Earth', 'B. Mars', 'C. Venus', 'D. Jupiter'],\n",
    "        'answer': 'B'\n",
    "    },\n",
    "    {\n",
    "        'question': 'What is 7 x 8?',\n",
    "        'options': ['A. 42', 'B. 48', 'C. 56', 'D. 64'],\n",
    "        'answer': 'C'\n",
    "    }\n",
    "]\n",
    "\n",
    "# Initialize the score\n",
    "score = 0\n",
    "\n",
    "# Function to display a question and check the answer\n",
    "def ask_question(question):\n",
    "    print(question['question'])\n",
    "    for option in question['options']:\n",
    "        print(option)\n",
    "    user_answer = input(\"Enter your choice (A/B/C/D): \").upper()\n",
    "    if user_answer == question['answer']:\n",
    "        print(\"Correct!\\n\")\n",
    "        return 1\n",
    "    else:\n",
    "        print(\"Incorrect!\\n\")\n",
    "        return 0\n",
    "\n",
    "# Iterate through the questions and ask them\n",
    "for question in questions:\n",
    "    score+=ask_question(question)\n",
    "\n",
    "# Display the final score\n",
    "print(f\"Your score: {score}/{len(questions)}\")\n"
   ]
  },
  {
   "cell_type": "code",
   "execution_count": 9,
   "id": "95b4658f-782c-44a4-8855-38fb9bd37f43",
   "metadata": {},
   "outputs": [
    {
     "name": "stdin",
     "output_type": "stream",
     "text": [
      "Enter a year 2003\n"
     ]
    },
    {
     "name": "stdout",
     "output_type": "stream",
     "text": [
      "prime\n"
     ]
    }
   ],
   "source": [
    "'''27. Develop a program that determines whether a given year is a prime number or not.'''\n",
    "\n",
    "year=int(input(\"Enter a year\"))\n",
    "cnt=0\n",
    "for div in range(2,int((year/2))+1):\n",
    "    if year%div==0:\n",
    "        cnt+=1\n",
    "if cnt==0:\n",
    "    print(\"prime\")\n",
    "else:\n",
    "    print(\"not prime\")"
   ]
  },
  {
   "cell_type": "code",
   "execution_count": 13,
   "id": "4b18527f-2826-417f-b942-981fc98036e1",
   "metadata": {},
   "outputs": [
    {
     "name": "stdout",
     "output_type": "stream",
     "text": [
      "[1, 2, 3]\n"
     ]
    }
   ],
   "source": [
    "'''28. Create a program that sorts three numbers in ascending order using conditional statements.'''\n",
    "\n",
    "lst28=[3,2,1]\n",
    "ans=[]\n",
    "for i in range(len(lst28)):\n",
    "    mini=min(lst28)\n",
    "    ans.append(mini)\n",
    "    lst28.remove(mini)\n",
    "print(ans)\n",
    "    \n"
   ]
  },
  {
   "cell_type": "code",
   "execution_count": null,
   "id": "c023b7c4-839a-4fe0-a426-01475d232e7c",
   "metadata": {},
   "outputs": [],
   "source": [
    "'''29. Build a program that determines the roots of a quartic equation using numerical methods.\n",
    "\n",
    "30. Write a program that calculates the BMI (Body Mass Index) and provides health recommendations based\n",
    "on the user's input.'''\n",
    "\n",
    "##both are done already"
   ]
  },
  {
   "cell_type": "code",
   "execution_count": 2,
   "id": "245eaa60-b972-4d43-b3a6-ce99f213a67a",
   "metadata": {},
   "outputs": [
    {
     "name": "stdin",
     "output_type": "stream",
     "text": [
      "Enter a password:  $Arpita989\n"
     ]
    },
    {
     "name": "stdout",
     "output_type": "stream",
     "text": [
      "Valid password!\n"
     ]
    }
   ],
   "source": [
    "'''31. Create a program that validates a password based on complexity rules (length, characters, etc.).'''\n",
    "\n",
    "\n",
    "import re\n",
    "\n",
    "def is_valid_password(password):\n",
    "    # Define complexity rules\n",
    "    min_length = 8\n",
    "    has_lowercase = re.search(r'[a-z]', password)\n",
    "    has_uppercase = re.search(r'[A-Z]', password)\n",
    "    has_digit = re.search(r'\\d', password)\n",
    "    has_special = re.search(r'[!@#$%^&*()_+]', password)\n",
    "\n",
    "    # Check if the password meets complexity rules\n",
    "    if len(password) < min_length:\n",
    "        return False\n",
    "    if not (has_lowercase and has_uppercase and has_digit and has_special):\n",
    "        return False\n",
    "\n",
    "    return True\n",
    "\n",
    "# Input a password from the user\n",
    "password = input(\"Enter a password: \")\n",
    "\n",
    "if is_valid_password(password):\n",
    "    print(\"Valid password!\")\n",
    "else:\n",
    "    print(\"Invalid password. Password must be at least 8 characters long and include at least one lowercase letter, one uppercase letter, one digit, and one special character.\")\n"
   ]
  },
  {
   "cell_type": "code",
   "execution_count": 17,
   "id": "e8149324-2f35-40e7-b0aa-0a4054589784",
   "metadata": {},
   "outputs": [
    {
     "name": "stdout",
     "output_type": "stream",
     "text": [
      "[[12, 22, 32, 42], [12, 22, 32, 42]]\n",
      "[[8, 18, 28, 38], [8, 18, 28, 38]]\n"
     ]
    }
   ],
   "source": [
    "'''32. Develop a program that performs matrix addition and subtraction based on user input.'''\n",
    "\n",
    "matrix1=[[10,20,30,40],[10,20,30,40]]\n",
    "matrix2=[[2,2,2,2],[2,2,2,2]]\n",
    "\n",
    "\n",
    "\n",
    "def matrix_addition(m1,m2):\n",
    "    ans=[]\n",
    "    for i in range(len(m1)):\n",
    "        row=[]\n",
    "        for j in range(len(m1[0])):\n",
    "            row.append(m1[i][j]+m2[i][j])\n",
    "        ans.append(row)\n",
    "    return ans\n",
    "\n",
    "def matrix_substraction(m1,m2):\n",
    "    ans=[]\n",
    "    for i in range(len(m1)):\n",
    "        row=[]\n",
    "        for j in range(len(m1[0])):\n",
    "            row.append(m1[i][j]-m2[i][j])\n",
    "        ans.append(row)\n",
    "    return ans\n",
    "\n",
    "print(matrix_addition(matrix1,matrix2))\n",
    "print(matrix_substraction(matrix1,matrix2))"
   ]
  },
  {
   "cell_type": "code",
   "execution_count": 24,
   "id": "8d4be353-a974-4327-830a-b03dcb8b15ea",
   "metadata": {},
   "outputs": [
    {
     "name": "stdout",
     "output_type": "stream",
     "text": [
      "10\n"
     ]
    }
   ],
   "source": [
    "'''33. Write a program that calculates the greatest common divisor (GCD) of two numbers using the Euclidean\n",
    "algorithm.'''\n",
    "\n",
    "def gcd(x,y):\n",
    "    gcd=1\n",
    "    r=1\n",
    "    while r!=0:\n",
    "        r=x%y\n",
    "        if r==0:\n",
    "            gcd=y\n",
    "        x=y\n",
    "        y=r\n",
    "    return gcd\n",
    "\n",
    "print(gcd(10,20))"
   ]
  },
  {
   "cell_type": "code",
   "execution_count": null,
   "id": "247d656a-62f7-46bb-9345-9c12e8bd37e9",
   "metadata": {},
   "outputs": [],
   "source": [
    "'''34. Build a program that performs matrix multiplication using nested loops and conditional statements.'''\n",
    "def input_matrix(rows, cols):\n",
    "    matrix = []\n",
    "    for i in range(rows):\n",
    "        row = []\n",
    "        for j in range(cols):\n",
    "            element = float(input(f\"Enter the element at row {i+1}, column {j+1}: \"))\n",
    "            row.append(element)\n",
    "        matrix.append(row)\n",
    "    return matrix\n",
    "\n",
    "def multiply_matrices(matrix1, matrix2):\n",
    "    if len(matrix1[0]) != len(matrix2):\n",
    "        return None\n",
    "\n",
    "    result = []\n",
    "    for i in range(len(matrix1)):\n",
    "        row = []\n",
    "        for j in range(len(matrix2[0]):\n",
    "            product = 0\n",
    "            for k in range(len(matrix2)):\n",
    "                product += matrix1[i][k] * matrix2[k][j]\n",
    "            row.append(product)\n",
    "        result.append(row)\n",
    "    return result\n",
    "\n",
    "def print_matrix(matrix):\n",
    "    for row in matrix:\n",
    "        print(row)\n",
    "\n",
    "# Input matrix dimensions\n",
    "rows1 = int(input(\"Enter the number of rows for the first matrix: \"))\n",
    "cols1 = int(input(\"Enter the number of columns for the first matrix: \"))\n",
    "rows2 = int(cols1)  # The second matrix must have the same number of rows as the first matrix\n",
    "cols2 = int(input(\"Enter the number of columns for the second matrix: \"))\n",
    "\n",
    "# Input the first matrix\n",
    "print(\"Enter the first matrix:\")\n",
    "matrix1 = input_matrix(rows1, cols1)\n",
    "\n",
    "# Input the second matrix\n",
    "print(\"Enter the second matrix:\")\n",
    "matrix2 = input_matrix(rows2, cols2)\n",
    "\n",
    "# Perform matrix multiplication\n",
    "mult_result = multiply_matrices(matrix1, matrix2)\n",
    "if mult_result:\n",
    "    print(\"\\nMatrix Multiplication Result:\")\n",
    "    print_matrix(mult_result)\n",
    "else:\n",
    "    print(\"Matrix sizes are not compatible for multiplication.\")\n"
   ]
  },
  {
   "cell_type": "code",
   "execution_count": 29,
   "id": "0c03bdc3-7285-488b-9d9c-2e931aa15601",
   "metadata": {},
   "outputs": [
    {
     "name": "stdout",
     "output_type": "stream",
     "text": [
      "Welcome to Tic-Tac-Toe!\n",
      "  |   |  \n",
      "---------\n",
      "  |   |  \n",
      "---------\n",
      "  |   |  \n",
      "---------\n"
     ]
    },
    {
     "name": "stdin",
     "output_type": "stream",
     "text": [
      "Enter your move (row and column, e.g., 1 2):  2 2\n"
     ]
    },
    {
     "name": "stdout",
     "output_type": "stream",
     "text": [
      "  |   |  \n",
      "---------\n",
      "  | X |  \n",
      "---------\n",
      "  |   |  \n",
      "---------\n",
      "  |   | O\n",
      "---------\n",
      "  | X |  \n",
      "---------\n",
      "  |   |  \n",
      "---------\n"
     ]
    },
    {
     "name": "stdin",
     "output_type": "stream",
     "text": [
      "Enter your move (row and column, e.g., 1 2):  1 2\n"
     ]
    },
    {
     "name": "stdout",
     "output_type": "stream",
     "text": [
      "  | X | O\n",
      "---------\n",
      "  | X |  \n",
      "---------\n",
      "  |   |  \n",
      "---------\n",
      "  | X | O\n",
      "---------\n",
      "  | X |  \n",
      "---------\n",
      "O |   |  \n",
      "---------\n"
     ]
    },
    {
     "name": "stdin",
     "output_type": "stream",
     "text": [
      "Enter your move (row and column, e.g., 1 2):  3 3\n"
     ]
    },
    {
     "name": "stdout",
     "output_type": "stream",
     "text": [
      "  | X | O\n",
      "---------\n",
      "  | X |  \n",
      "---------\n",
      "O |   | X\n",
      "---------\n",
      "  | X | O\n",
      "---------\n",
      "  | X |  \n",
      "---------\n",
      "O | O | X\n",
      "---------\n"
     ]
    },
    {
     "name": "stdin",
     "output_type": "stream",
     "text": [
      "Enter your move (row and column, e.g., 1 2):  1 1\n"
     ]
    },
    {
     "name": "stdout",
     "output_type": "stream",
     "text": [
      "X | X | O\n",
      "---------\n",
      "  | X |  \n",
      "---------\n",
      "O | O | X\n",
      "---------\n",
      "X wins!\n"
     ]
    }
   ],
   "source": [
    "'''35. Create a program that simulates a basic text-based tic-tac-toe game against the computer.'''\n",
    "import random\n",
    "\n",
    "# Function to print the Tic-Tac-Toe board\n",
    "def print_board(board):\n",
    "    for row in board:\n",
    "        print(\" | \".join(row))\n",
    "        print(\"-\" * 9)\n",
    "\n",
    "# Function to check for a win\n",
    "def check_win(board, player):\n",
    "    for row in board:\n",
    "        if all(cell == player for cell in row):\n",
    "            return True\n",
    "    for col in range(3):\n",
    "        if all(board[row][col] == player for row in range(3)):\n",
    "            return True\n",
    "    if all(board[i][i] == player for i in range(3)) or all(board[i][2 - i] == player for i in range(3)):\n",
    "        return True\n",
    "    return False\n",
    "\n",
    "# Function to check for a draw\n",
    "def check_draw(board):\n",
    "    return all(cell != \" \" for row in board for cell in row)\n",
    "\n",
    "# Main game loop\n",
    "board = [[\" \" for _ in range(3)] for _ in range(3)]\n",
    "player = \"X\"\n",
    "computer = \"O\"\n",
    "\n",
    "print(\"Welcome to Tic-Tac-Toe!\")\n",
    "print_board(board)\n",
    "\n",
    "while True:\n",
    "    if player == \"X\":\n",
    "        row, col = map(int, input(\"Enter your move (row and column, e.g., 1 2): \").split())\n",
    "        if board[row - 1][col - 1] == \" \":\n",
    "            board[row - 1][col - 1] = \"X\"\n",
    "        else:\n",
    "            print(\"Invalid move. Try again.\")\n",
    "            continue\n",
    "    else:\n",
    "        # Computer's move (random)\n",
    "        empty_cells = [(i, j) for i in range(3) for j in range(3) if board[i][j] == \" \"]\n",
    "        if empty_cells:\n",
    "            row, col = random.choice(empty_cells)\n",
    "            board[row][col] = \"O\"\n",
    "        else:\n",
    "            print(\"It's a draw!\")\n",
    "            break\n",
    "\n",
    "    print_board(board)\n",
    "\n",
    "    if check_win(board, player):\n",
    "        print(f\"{player} wins!\")\n",
    "        break\n",
    "\n",
    "    if check_draw(board):\n",
    "        print(\"It's a draw!\")\n",
    "        break\n",
    "\n",
    "    player, computer = computer, player\n"
   ]
  },
  {
   "cell_type": "code",
   "execution_count": 37,
   "id": "8d29edf5-bb9e-4432-bc3d-90e30e9487b5",
   "metadata": {},
   "outputs": [
    {
     "name": "stdin",
     "output_type": "stream",
     "text": [
      "Enter a number for fibbonacci series  10\n"
     ]
    },
    {
     "name": "stdout",
     "output_type": "stream",
     "text": [
      "0\n",
      "1\n",
      "1\n",
      "2\n",
      "3\n",
      "5\n",
      "8\n"
     ]
    }
   ],
   "source": [
    "'''36. Write a program that generates Fibonacci numbers up to a specified term using iterative methods.'''\n",
    "\n",
    "n=int(input(\"Enter a number for fibbonacci series \"))\n",
    "def fibo(n):\n",
    "    a,b=0,1\n",
    "    while a<n:\n",
    "        yield a\n",
    "        a,b=b,a+b\n",
    "\n",
    "for i in fibo(n):\n",
    "    print(i)\n",
    "    pass"
   ]
  },
  {
   "cell_type": "code",
   "execution_count": 44,
   "id": "12067503-a0d2-46ec-884c-7ea9bc3f65db",
   "metadata": {},
   "outputs": [
    {
     "name": "stdin",
     "output_type": "stream",
     "text": [
      "Enter the term of the Fibonacci sequence to calculate:  30\n"
     ]
    },
    {
     "name": "stdout",
     "output_type": "stream",
     "text": [
      "The 30th term of the Fibonacci sequence is 832040.\n"
     ]
    }
   ],
   "source": [
    "'''37. Develop a program that calculates the nth term of the Fibonacci sequence using memoization.'''\n",
    "def fibonacci(n):\n",
    "    if n <= 0:\n",
    "        return 0\n",
    "    elif n == 1:\n",
    "        return 1\n",
    "    else:\n",
    "        return fibonacci(n - 1) + fibonacci(n - 2)\n",
    "\n",
    "n = int(input(\"Enter the term of the Fibonacci sequence to calculate: \"))\n",
    "\n",
    "result = fibonacci(n)\n",
    "print(f\"The {n}th term of the Fibonacci sequence is {result}.\")\n"
   ]
  },
  {
   "cell_type": "code",
   "execution_count": 46,
   "id": "796b2e54-76c6-4109-8684-5574e823869a",
   "metadata": {},
   "outputs": [
    {
     "name": "stdin",
     "output_type": "stream",
     "text": [
      "Enter the year:  2023\n",
      "Enter the month (1-12):  9\n"
     ]
    },
    {
     "name": "stdout",
     "output_type": "stream",
     "text": [
      "Calendar for September 2023:\n",
      "\n",
      "   September 2023\n",
      "Mo Tu We Th Fr Sa Su\n",
      "             1  2  3\n",
      " 4  5  6  7  8  9 10\n",
      "11 12 13 14 15 16 17\n",
      "18 19 20 21 22 23 24\n",
      "25 26 27 28 29 30\n",
      "\n"
     ]
    }
   ],
   "source": [
    "'''38. Create a program that generates a calendar for a given month and year using conditional statements.'''\n",
    "\n",
    "\n",
    "import calendar\n",
    "\n",
    "# Input the year and month\n",
    "year = int(input(\"Enter the year: \"))\n",
    "month = int(input(\"Enter the month (1-12): \"))\n",
    "\n",
    "# Check if the month and year are valid\n",
    "if month < 1 or month > 12:\n",
    "    print(\"Invalid month. Please enter a month between 1 and 12.\")\n",
    "else:\n",
    "    # Generate the calendar for the specified month and year\n",
    "    cal = calendar.month(year, month)\n",
    "    print(f\"Calendar for {calendar.month_name[month]} {year}:\\n\")\n",
    "    print(cal)\n",
    "\n"
   ]
  },
  {
   "cell_type": "code",
   "execution_count": 1,
   "id": "34939e2e-d2f8-4a07-9ff1-cbead4d770cb",
   "metadata": {},
   "outputs": [
    {
     "name": "stdout",
     "output_type": "stream",
     "text": [
      "Welcome to Blackjack!\n",
      "\n",
      "Your hand:\n",
      "Four of Clubs\n",
      "King of Hearts\n",
      "Hand value: 17\n"
     ]
    },
    {
     "name": "stdin",
     "output_type": "stream",
     "text": [
      "Do you want to 'hit' or 'stand'?  hit\n"
     ]
    },
    {
     "name": "stdout",
     "output_type": "stream",
     "text": [
      "\n",
      "Your hand:\n",
      "Four of Clubs\n",
      "King of Hearts\n",
      "Five of Spades\n",
      "Hand value: 22\n",
      "Bust! You lose.\n",
      "\n",
      "Dealer's hand:\n",
      "Six of Hearts\n",
      "Nine of Diamonds\n",
      "Ace of Diamonds\n",
      "Hand value: 29\n",
      "Dealer busts! You win!\n"
     ]
    }
   ],
   "source": [
    "'''39. Build a program that simulates a basic text-based blackjack game against the computer.'''\n",
    "import random\n",
    "\n",
    "# Function to calculate the hand value\n",
    "def calculate_hand(hand):\n",
    "    value = sum(hand)\n",
    "    if 11 in hand and value > 21:\n",
    "        hand.remove(11)\n",
    "        hand.append(1)\n",
    "    return value\n",
    "\n",
    "# Create a deck of cards\n",
    "suits = ['Hearts', 'Diamonds', 'Clubs', 'Spades']\n",
    "ranks = ['Two', 'Three', 'Four', 'Five', 'Six', 'Seven', 'Eight', 'Nine', 'Ten', 'Jack', 'Queen', 'King', 'Ace']\n",
    "deck = [(rank, suit) for rank in ranks for suit in suits]\n",
    "\n",
    "# Initialize player and dealer hands\n",
    "player_hand = []\n",
    "dealer_hand = []\n",
    "\n",
    "# Deal two cards to the player and two cards to the dealer\n",
    "for _ in range(2):\n",
    "    player_card = random.choice(deck)\n",
    "    player_hand.append(player_card)\n",
    "    deck.remove(player_card)\n",
    "    dealer_card = random.choice(deck)\n",
    "    dealer_hand.append(dealer_card)\n",
    "    deck.remove(dealer_card)\n",
    "\n",
    "print(\"Welcome to Blackjack!\")\n",
    "\n",
    "# Player's turn\n",
    "while True:\n",
    "    print(\"\\nYour hand:\")\n",
    "    for card in player_hand:\n",
    "        print(f\"{card[0]} of {card[1]}\")\n",
    "    player_value = calculate_hand([ranks.index(card[0]) + 2 for card in player_hand])\n",
    "    print(f\"Hand value: {player_value}\")\n",
    "\n",
    "    if player_value == 21:\n",
    "        print(\"Blackjack! You win!\")\n",
    "        break\n",
    "    elif player_value > 21:\n",
    "        print(\"Bust! You lose.\")\n",
    "        break\n",
    "\n",
    "    choice = input(\"Do you want to 'hit' or 'stand'? \").lower()\n",
    "    if choice == 'hit':\n",
    "        player_card = random.choice(deck)\n",
    "        player_hand.append(player_card)\n",
    "        deck.remove(player_card)\n",
    "    else:\n",
    "        break\n",
    "\n",
    "# Dealer's turn\n",
    "while calculate_hand([ranks.index(card[0]) + 2 for card in dealer_hand]) < 17:\n",
    "    dealer_card = random.choice(deck)\n",
    "    dealer_hand.append(dealer_card)\n",
    "    deck.remove(dealer_card)\n",
    "\n",
    "# Determine the winner\n",
    "print(\"\\nDealer's hand:\")\n",
    "for card in dealer_hand:\n",
    "    print(f\"{card[0]} of {card[1]}\")\n",
    "dealer_value = calculate_hand([ranks.index(card[0]) + 2 for card in dealer_hand])\n",
    "print(f\"Hand value: {dealer_value}\")\n",
    "\n",
    "if dealer_value > 21:\n",
    "    print(\"Dealer busts! You win!\")\n",
    "elif player_value > dealer_value:\n",
    "    print(\"You win!\")\n",
    "elif player_value < dealer_value:\n",
    "    print(\"Dealer wins.\")\n",
    "else:\n",
    "    print(\"It's a push (tie).\")\n"
   ]
  },
  {
   "cell_type": "code",
   "execution_count": 4,
   "id": "0e80ef54-0547-4086-a370-a5d41924d9a7",
   "metadata": {},
   "outputs": [
    {
     "name": "stdin",
     "output_type": "stream",
     "text": [
      "Enter a number to find its prime factors:  20\n"
     ]
    },
    {
     "name": "stdout",
     "output_type": "stream",
     "text": [
      "Prime factors of 20 are: {2, 5}\n"
     ]
    }
   ],
   "source": [
    "'''40. Write a program that generates the prime factors of a given number using trial division.'''\n",
    "def trial_division(n):\n",
    "    factors = set()\n",
    "    divisor = 2\n",
    "    while divisor * divisor <= n:\n",
    "        if n % divisor == 0:\n",
    "            factors.add(divisor)\n",
    "            n //= divisor\n",
    "        else:\n",
    "            divisor += 1\n",
    "    if n > 1:\n",
    "        factors.add(n)\n",
    "    return factors\n",
    "\n",
    "# Input the number for which you want to find prime factors\n",
    "num = int(input(\"Enter a number to find its prime factors: \"))\n",
    "if num < 2:\n",
    "    print(\"Prime factors are not defined for numbers less than 2.\")\n",
    "else:\n",
    "    factors = trial_division(num)\n",
    "    print(f\"Prime factors of {num} are: {factors}\")\n"
   ]
  },
  {
   "cell_type": "code",
   "execution_count": null,
   "id": "49ca4f01-280d-4f84-b4e1-116b7ee22698",
   "metadata": {},
   "outputs": [],
   "source": []
  }
 ],
 "metadata": {
  "kernelspec": {
   "display_name": "Python 3 (ipykernel)",
   "language": "python",
   "name": "python3"
  },
  "language_info": {
   "codemirror_mode": {
    "name": "ipython",
    "version": 3
   },
   "file_extension": ".py",
   "mimetype": "text/x-python",
   "name": "python",
   "nbconvert_exporter": "python",
   "pygments_lexer": "ipython3",
   "version": "3.10.8"
  }
 },
 "nbformat": 4,
 "nbformat_minor": 5
}
