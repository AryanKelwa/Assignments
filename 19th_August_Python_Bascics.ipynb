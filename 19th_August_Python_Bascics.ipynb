{
 "cells": [
  {
   "cell_type": "code",
   "execution_count": 2,
   "id": "8917e5b5-4457-4ab5-8e61-fa7e59c25ded",
   "metadata": {},
   "outputs": [
    {
     "name": "stdout",
     "output_type": "stream",
     "text": [
      "a : 3 b : 5\n",
      "after swapping\n",
      "a : 5 b : 3\n"
     ]
    }
   ],
   "source": [
    "a=3\n",
    "b=5\n",
    "print(\"a :\",a,\"b :\",b)\n",
    "a,b=b,a\n",
    "print(\"after swapping\")\n",
    "print(\"a :\",a,\"b :\",b)"
   ]
  },
  {
   "cell_type": "code",
   "execution_count": 3,
   "id": "db22aa1e-1220-4f2a-8e70-ca8511b11f4e",
   "metadata": {},
   "outputs": [
    {
     "name": "stdin",
     "output_type": "stream",
     "text": [
      "Enter length  34.2\n",
      "Enter width 23.67\n"
     ]
    },
    {
     "name": "stdout",
     "output_type": "stream",
     "text": [
      "area  is  809.5140000000001\n"
     ]
    }
   ],
   "source": [
    "ln=float(input(\"Enter length \"))\n",
    "wid=float(input(\"Enter width\"))\n",
    "area=ln*wid\n",
    "print(\"area  is \",area)\n"
   ]
  },
  {
   "cell_type": "code",
   "execution_count": 4,
   "id": "22c3a606-d9f1-45ca-9fcd-164ae9de3f99",
   "metadata": {},
   "outputs": [
    {
     "name": "stdin",
     "output_type": "stream",
     "text": [
      "Enter temperature in celcius to convert in fahrenheit 12\n"
     ]
    },
    {
     "name": "stdout",
     "output_type": "stream",
     "text": [
      "temperature in fahrenheit is : 53.6\n"
     ]
    }
   ],
   "source": [
    "cel=int(input(\"Enter temperature in celcius to convert in fahrenheit\"))\n",
    "fah=(cel*9/5)+32\n",
    "print(\"temperature in fahrenheit is :\",fah)"
   ]
  },
  {
   "cell_type": "code",
   "execution_count": 28,
   "id": "9df5d56f-3e90-497e-8b54-1f2aa77b22ac",
   "metadata": {},
   "outputs": [
    {
     "name": "stdin",
     "output_type": "stream",
     "text": [
      "Enter the string India is the great\n"
     ]
    },
    {
     "name": "stdout",
     "output_type": "stream",
     "text": [
      "The size of string is :  18\n"
     ]
    }
   ],
   "source": [
    "s1=str(input(\"Enter the string\"))\n",
    "ln=len(s1)\n",
    "print(\"The size of string is : \",ln)"
   ]
  },
  {
   "cell_type": "code",
   "execution_count": 29,
   "id": "478764c7-2990-430e-b202-98582383db2e",
   "metadata": {},
   "outputs": [
    {
     "name": "stdin",
     "output_type": "stream",
     "text": [
      "Enter a sentence to count vowels :  The India landed on the moon\n"
     ]
    },
    {
     "name": "stdout",
     "output_type": "stream",
     "text": [
      "Number of vowels: 10\n"
     ]
    }
   ],
   "source": [
    "sentence = input(\"Enter a sentence to count vowels : \")\n",
    "\n",
    "sentence = sentence.lower()\n",
    "\n",
    "vowel_count = 0\n",
    "\n",
    "for char in sentence:\n",
    "    if char in \"aeiou\":\n",
    "        vowel_count = vowel_count + 1\n",
    "\n",
    "print(\"Number of vowels:\", vowel_count)"
   ]
  },
  {
   "cell_type": "code",
   "execution_count": null,
   "id": "d9845e5c-b1d4-4b25-b19d-1919928c2135",
   "metadata": {},
   "outputs": [],
   "source": [
    "str1=str(input(\"Enter the string : \"))\n",
    "print(\"reverse string :\",str1[::-1])"
   ]
  },
  {
   "cell_type": "code",
   "execution_count": 27,
   "id": "25fb3066-119f-4074-b664-75ffb77ca23d",
   "metadata": {},
   "outputs": [
    {
     "name": "stdin",
     "output_type": "stream",
     "text": [
      "enter a string : naman\n"
     ]
    },
    {
     "name": "stdout",
     "output_type": "stream",
     "text": [
      "The input string is a palindrome.\n"
     ]
    }
   ],
   "source": [
    "str1=str(input(\"enter a string :\"))\n",
    "modified_str1 = str1.replace(\" \",\"\")\n",
    "         \n",
    "reversed_str1 = modified_str1[::-1]\n",
    "                         \n",
    "if modified_str1 == reversed_str1:\n",
    "    print(\"The input string is a palindrome.\")\n",
    "else:\n",
    "     print(\"The input string is not a palindrome.\")"
   ]
  },
  {
   "cell_type": "code",
   "execution_count": 19,
   "id": "96b22f19-2be3-4ac3-81b6-066ab8d456e5",
   "metadata": {},
   "outputs": [
    {
     "name": "stdin",
     "output_type": "stream",
     "text": [
      "Enter the string :   Almond is good for health\n"
     ]
    },
    {
     "name": "stdout",
     "output_type": "stream",
     "text": [
      "After removing the spaces :  Almondisgoodforhealth\n"
     ]
    }
   ],
   "source": [
    "s2=str(input(\"Enter the string : \"))\n",
    "s3=s2.replace(\" \",\"\")\n",
    "print(\"After removing the spaces : \",s3)"
   ]
  }
 ],
 "metadata": {
  "kernelspec": {
   "display_name": "Python 3 (ipykernel)",
   "language": "python",
   "name": "python3"
  },
  "language_info": {
   "codemirror_mode": {
    "name": "ipython",
    "version": 3
   },
   "file_extension": ".py",
   "mimetype": "text/x-python",
   "name": "python",
   "nbconvert_exporter": "python",
   "pygments_lexer": "ipython3",
   "version": "3.10.8"
  }
 },
 "nbformat": 4,
 "nbformat_minor": 5
}
