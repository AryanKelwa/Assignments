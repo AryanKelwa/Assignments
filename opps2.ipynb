{
 "cells": [
  {
   "cell_type": "code",
   "execution_count": null,
   "id": "930fcde8-dd34-4ac3-b009-f33bb9795e67",
   "metadata": {},
   "outputs": [],
   "source": [
    "'''1. What is inheritance in Python? Explain its significance in object-oriented programming.'''\n",
    "\n",
    "\n",
    "Inheritance in Python is a mechanism that allows one class (the child or subclass) to inherit the\n",
    "properties and behaviors of another class (the parent or superclass). It is a fundamental concept in \n",
    "object-oriented programming (OOP) that promotes code reusability and hierarchy. Significance in OOP: \n",
    "Inheritance helps in creating a hierarchy of classes, making it easier to model real-world relationships, \n",
    "and reducing code duplication by allowing child classes to reuse and extend the functionality of parent \n",
    "classes.\n",
    "\n"
   ]
  },
  {
   "cell_type": "code",
   "execution_count": null,
   "id": "a76d44de-d1fb-4891-8734-a71d31eb9f5a",
   "metadata": {},
   "outputs": [],
   "source": [
    "'''\n",
    "2. Differentiate between single inheritance and multiple inheritance in Python. Provide examples for each.\n",
    "\n",
    "\n",
    "Single Inheritance vs. Multiple Inheritance:\n",
    "\n",
    "Single Inheritance: In single inheritance, a class can inherit from only one parent class. For example:'''\n",
    "\n",
    "\n",
    "class Vehicle:\n",
    "    def start(self):\n",
    "        print(\"Vehicle started\")\n",
    "\n",
    "class Car(Vehicle):\n",
    "    def accelerate(self):\n",
    "        print(\"Car is accelerating\")\n"
   ]
  },
  {
   "cell_type": "code",
   "execution_count": 2,
   "id": "aef5b48a-e8c9-4eb7-9a6f-c400f803d3c6",
   "metadata": {},
   "outputs": [
    {
     "name": "stdout",
     "output_type": "stream",
     "text": [
      "colour :  Red\n",
      "speed :  60\n",
      "brand :  Toyota\n"
     ]
    }
   ],
   "source": [
    "'''3. Create a Python class called `Vehicle` with attributes `color` and `speed`. Then, create a child class called\n",
    "`Car` that inherits from `Vehicle` and adds a `brand` attribute. Provide an example of creating a `Car` object.\n",
    "'''\n",
    "\n",
    "class Vehicle:\n",
    "    def __init__(self, color, speed):\n",
    "        self.color = color\n",
    "        self.speed = speed\n",
    "\n",
    "class Car(Vehicle):\n",
    "    def __init__(self, color, speed, brand):\n",
    "        super().__init__(color, speed)\n",
    "        self.brand = brand\n",
    "    def show(self):\n",
    "        print(\"colour : \",self.color)\n",
    "        print(\"speed : \",self.speed)\n",
    "        print(\"brand : \",self.brand)\n",
    "my_car = Car(\"Red\", 60, \"Toyota\")\n",
    "my_car.show()\n"
   ]
  },
  {
   "cell_type": "code",
   "execution_count": 11,
   "id": "13ee1af9-173e-4091-9113-a3e05ae8f00e",
   "metadata": {},
   "outputs": [
    {
     "name": "stdout",
     "output_type": "stream",
     "text": [
      "multiplication of a and b is :  200\n"
     ]
    }
   ],
   "source": [
    "'''4. Explain the concept of method overriding in inheritance. Provide a practical example.'''\n",
    "\n",
    "class Parent:\n",
    "    def __init__(self):\n",
    "        self.a=10\n",
    "        self.b=20\n",
    "    def cal(self):\n",
    "        print(\"sum of a and b is : \",self.a+self.b)\n",
    "        \n",
    "class Child(Parent):\n",
    "    def __init__(self):\n",
    "        super().__init__()\n",
    "        \n",
    "    def cal(self):\n",
    "        print(\"multiplication of a and b is : \",self.a*self.b)\n",
    "        \n",
    "        \n",
    "obj=Child()\n",
    "obj.cal()"
   ]
  },
  {
   "cell_type": "code",
   "execution_count": 6,
   "id": "735f85fe-4241-4460-a8fa-8755b0182531",
   "metadata": {},
   "outputs": [
    {
     "name": "stdout",
     "output_type": "stream",
     "text": [
      "child class initialized \n",
      "this is method of parent class\n",
      " sum is  30\n"
     ]
    }
   ],
   "source": [
    "'''5. How can you access the methods and attributes of a parent class from a child class in Python? Give an\n",
    "example.'''\n",
    "\n",
    "class parent:\n",
    "    \n",
    "    def __init__(self):\n",
    "        self._x=10\n",
    "        self._y=20\n",
    "    \n",
    "    def sum1(self):\n",
    "        print(\"this is method of parent class\\n sum is \",self._x+self._y)\n",
    "        \n",
    "class child(parent):\n",
    "    def __init__(self):\n",
    "        super().__init__()\n",
    "        print(\"child class initialized \")\n",
    "        \n",
    "obj=child()\n",
    "obj.sum1()"
   ]
  },
  {
   "cell_type": "code",
   "execution_count": 7,
   "id": "37713c0b-0f4d-46dd-b1cd-2b78da90bbca",
   "metadata": {},
   "outputs": [
    {
     "name": "stdout",
     "output_type": "stream",
     "text": [
      "child class initialized \n",
      "this is method of parent class\n",
      " sum is  30\n"
     ]
    }
   ],
   "source": [
    "'''\n",
    "6. Discuss the use of the `super()` function in Python inheritance. When and why is it used? Provide an\n",
    "example.\n",
    "\n",
    "In Python, the super() function is used in the context of inheritance to call methods and access attributes from the parent or superclass within a subclass. It allows you to invoke the methods of the parent class, which is especially useful when you want to extend the functionality of the parent class in the subclass. The super() function provides a way to avoid naming conflicts and allows you to maintain code reusability in object-oriented programming.\n",
    "\n",
    "super() is commonly used in two main scenarios:\n",
    "\n",
    "Initialization of Subclasses: When a subclass is created, it often needs to initialize its own attributes while also inheriting the attributes and behaviors of the parent class. super() is used within the subclass's __init__ method to call the __init__ method of the parent class.\n",
    "\n",
    "Method Overriding: In cases where the subclass wants to override a method that is already defined in the parent class, super() can be used to call the parent class's method within the overridden method in the subclass. This way, you can customize the behavior of the method in the subclass while still utilizing the functionality of the parent class.\n",
    "\n",
    "'''\n",
    "\n",
    "class parent:\n",
    "    \n",
    "    def __init__(self):\n",
    "        self._x=10\n",
    "        self._y=20\n",
    "    \n",
    "    def sum1(self):\n",
    "        print(\"this is method of parent class\\n sum is \",self._x+self._y)\n",
    "        \n",
    "class child(parent):\n",
    "    def __init__(self):\n",
    "        super().__init__()\n",
    "        print(\"child class initialized \")\n",
    "        \n",
    "obj=child()\n",
    "obj.sum1()"
   ]
  },
  {
   "cell_type": "code",
   "execution_count": 8,
   "id": "72ed0e6e-56d0-4a47-96bc-a0b2fe4f304e",
   "metadata": {},
   "outputs": [
    {
     "name": "stdout",
     "output_type": "stream",
     "text": [
      "Generic Animal makes a sound.\n",
      "Buddy makes a sound.\n",
      "Buddy barks.\n"
     ]
    }
   ],
   "source": [
    "'''\n",
    "7. Create a Python class called `Animal` with a method `speak()`. Then, create child classes `Dog` and `Cat` that inherit from `Animal` and override the `speak()` method. Provide an example of using these classes.\n",
    "\n",
    "'''\n",
    "\n",
    "class Animal:\n",
    "    def __init__(self, name):\n",
    "        self.name = name\n",
    "\n",
    "    def speak(self):\n",
    "        print(f\"{self.name} makes a sound.\")\n",
    "\n",
    "class Dog(Animal):\n",
    "    def __init__(self, name, breed):\n",
    "        super().__init__(name)  # Call the parent class constructor\n",
    "        self.breed = breed\n",
    "\n",
    "    def speak(self):\n",
    "        super().speak()  # Call the parent class's speak method\n",
    "        print(f\"{self.name} barks.\")\n",
    "\n",
    "# Create instances of the classes\n",
    "my_animal = Animal(\"Generic Animal\")\n",
    "my_dog = Dog(\"Buddy\", \"Golden Retriever\")\n",
    "\n",
    "# Calling methods on the instances\n",
    "my_animal.speak()  # Output: Generic Animal makes a sound.\n",
    "my_dog.speak()     # Output: Buddy makes a sound. Buddy barks.\n"
   ]
  },
  {
   "cell_type": "code",
   "execution_count": 13,
   "id": "5f430617-7169-4f7f-abf3-ebf1db380893",
   "metadata": {},
   "outputs": [
    {
     "name": "stdout",
     "output_type": "stream",
     "text": [
      "child class initialized \n",
      "this is method of parent class\n",
      " sum is  30\n",
      "True\n"
     ]
    }
   ],
   "source": [
    "'''8. Explain the role of the `isinstance()` function in Python and how it relates to inheritance.'''\n",
    "\n",
    "class parent:\n",
    "    \n",
    "    def __init__(self):\n",
    "        self._x=10\n",
    "        self._y=20\n",
    "    \n",
    "    def sum1(self):\n",
    "        print(\"this is method of parent class\\n sum is \",self._x+self._y)\n",
    "        \n",
    "class child(parent):\n",
    "    def __init__(self):\n",
    "        super().__init__()\n",
    "        print(\"child class initialized \")\n",
    "        \n",
    "obj=child()\n",
    "obj.sum1()\n",
    "\n",
    "print(isinstance(obj,parent))\n",
    "    \n",
    "    \n",
    "    "
   ]
  },
  {
   "cell_type": "code",
   "execution_count": 15,
   "id": "e1f14abe-9f69-4c87-b8ed-6da0e4af194a",
   "metadata": {},
   "outputs": [
    {
     "data": {
      "text/plain": [
       "True"
      ]
     },
     "execution_count": 15,
     "metadata": {},
     "output_type": "execute_result"
    }
   ],
   "source": [
    "'''9. What is the purpose of the `issubclass()` function in Python? Provide an example.'''\n",
    "\n",
    "class parent:\n",
    "    \n",
    "    def fun(self):\n",
    "        print(\"this is method of parent class\\n sum is \")\n",
    "        \n",
    "class child(parent):\n",
    "    def __init__(self):\n",
    "        super().__init__()\n",
    "        print(\"child class initialized \")\n",
    "\n",
    "issubclass(child,parent)"
   ]
  },
  {
   "cell_type": "code",
   "execution_count": null,
   "id": "9861e7e6-3141-49ac-9634-5c08b0e70df7",
   "metadata": {},
   "outputs": [],
   "source": [
    "'''10. Discuss the concept of constructor inheritance in Python. How are constructors inherited in child classes?'''\n",
    "class Animal:\n",
    "    def __init__(self, name):\n",
    "        self.name = name\n",
    "\n",
    "class Dog(Animal):\n",
    "    def __init__(self, name, breed):\n",
    "        super().__init__(name)  # Call the parent constructor\n",
    "        self.breed = breed\n",
    "\n",
    "# Creating instances\n",
    "animal = Animal(\"Generic Animal\")\n",
    "dog = Dog(\"Buddy\", \"Golden Retriever\")\n",
    "\n",
    "print(animal.name)  # Output: \"Generic Animal\"\n",
    "print(dog.name)     # Output: \"Buddy\"\n",
    "print(dog.breed)    # Output: \"Golden Retriever\"\n"
   ]
  },
  {
   "cell_type": "code",
   "execution_count": 16,
   "id": "3f74495e-838e-4660-afee-6aa7baf1ae3b",
   "metadata": {},
   "outputs": [
    {
     "name": "stdout",
     "output_type": "stream",
     "text": [
      "Circle Area: 78.54\n",
      "Rectangle Area: 24\n"
     ]
    }
   ],
   "source": [
    "'''\n",
    "\n",
    "11. Create a Python class called `Shape` with a method `area()` that calculates the area of a shape. Then, create child classes `Circle` and `Rectangle` that inherit from `Shape` and implement the `area()` method\n",
    "accordingly. Provide an example.\n",
    "\n",
    "\n",
    "\n",
    "\n",
    "\n",
    "\n",
    "\n",
    "\n",
    "\n",
    "\n",
    "\n",
    "'''\n",
    "\n",
    "import math\n",
    "\n",
    "class Shape:\n",
    "    def area(self):\n",
    "        pass\n",
    "\n",
    "class Circle(Shape):\n",
    "    def __init__(self, radius):\n",
    "        self.radius = radius\n",
    "\n",
    "    def area(self):\n",
    "        return math.pi * self.radius**2\n",
    "\n",
    "class Rectangle(Shape):\n",
    "    def __init__(self, width, height):\n",
    "        self.width = width\n",
    "        self.height = height\n",
    "\n",
    "    def area(self):\n",
    "        return self.width * self.height\n",
    "\n",
    "# Creating instances of Circle and Rectangle\n",
    "circle = Circle(5)\n",
    "rectangle = Rectangle(4, 6)\n",
    "\n",
    "# Calculating the areas\n",
    "circle_area = circle.area()\n",
    "rectangle_area = rectangle.area()\n",
    "\n",
    "# Displaying the results\n",
    "print(f\"Circle Area: {circle_area:.2f}\")\n",
    "print(f\"Rectangle Area: {rectangle_area}\")\n"
   ]
  },
  {
   "cell_type": "code",
   "execution_count": 7,
   "id": "ba34b345-382d-4053-8046-e27746d99b58",
   "metadata": {},
   "outputs": [
    {
     "data": {
      "text/plain": [
       "50"
      ]
     },
     "execution_count": 7,
     "metadata": {},
     "output_type": "execute_result"
    }
   ],
   "source": [
    "'''12. Explain the use of abstract base classes (ABCs) in Python and how they relate to inheritance. Provide an\n",
    "example using the `abc` module.'''\n",
    "\n",
    "from abc import ABC, abstractmethod\n",
    "\n",
    "class Shape(ABC):\n",
    "    @abstractmethod\n",
    "    def area(self):\n",
    "        pass\n",
    "    @abstractmethod\n",
    "    def demomethod(self):\n",
    "        pass\n",
    "\n",
    "class Rectangle(Shape):\n",
    "    def __init__(self, width, height):\n",
    "        self.width = width\n",
    "        self.height = height\n",
    "        \n",
    "    def area(self):\n",
    "        return self.width * self.height\n",
    "    \n",
    "    def demomethod(self):\n",
    "        pass\n",
    "    \n",
    "    \n",
    "obj=Rectangle(10,5)\n",
    "obj.area()\n",
    "    \n"
   ]
  },
  {
   "cell_type": "code",
   "execution_count": 23,
   "id": "827d6c07-5af2-4113-b5db-b3d1c7619303",
   "metadata": {},
   "outputs": [
    {
     "name": "stdout",
     "output_type": "stream",
     "text": [
      "42\n",
      "12\n",
      "12\n"
     ]
    }
   ],
   "source": [
    "'''13. How can you prevent a child class from modifying certain attributes or methods inherited from a parent\n",
    "class in Python?\n",
    "'''\n",
    "class Parent:\n",
    "    def __init__(self):\n",
    "        self._protected_attribute = 42  # Single underscore is a convention for \"protected\"\n",
    "\n",
    "    def get_protected_attribute(self):\n",
    "        return self._protected_attribute\n",
    "\n",
    "    def set_protected_attribute(self, value):\n",
    "        # Add any logic or checks you want before modifying the attribute\n",
    "        self._protected_attribute = value\n",
    "\n",
    "class Child(Parent):\n",
    "    def access_protected(self):\n",
    "        value = self.get_protected_attribute() \n",
    "        print(value)\n",
    "\n",
    "    def modify_protected(self, value):\n",
    "        self.set_protected_attribute(value) \n",
    "        print(self._protected_attribute)\n",
    "        \n",
    "\n",
    "obj=Child()\n",
    "obj.access_protected()\n",
    "obj.modify_protected(12)\n",
    "obj.access_protected()"
   ]
  },
  {
   "cell_type": "code",
   "execution_count": null,
   "id": "f8748869-a1ff-46d7-8d17-50863dade2f6",
   "metadata": {},
   "outputs": [],
   "source": [
    "Constructors:\n",
    "\n",
    "Role: Initialize object attributes during instantiation.\n",
    "Name: __init__\n",
    "Parameters: Always includes self and may have additional parameters.\n",
    "Return Value: Typically None.\n",
    "Multiplicity: One per class.\n",
    "\n",
    "\n",
    "Regular Methods:\n",
    "\n",
    "Role: Perform actions on object attributes.\n",
    "Name: Any valid method name.\n",
    "Parameters: Always includes self and may have additional parameters.\n",
    "Return Value: Can return values.\n",
    "Multiplicity: Multiple methods allowed per class.\n",
    "\n",
    "\n",
    "\n",
    "\n"
   ]
  },
  {
   "cell_type": "code",
   "execution_count": null,
   "id": "95c8d85d-0b54-4eb9-8a0f-c996b0c0e8d5",
   "metadata": {},
   "outputs": [],
   "source": [
    "'''\n",
    "15. Discuss the concept of method overloading in Python inheritance. How does it differ from method\n",
    "overriding?\n",
    "\n",
    "\n",
    "\n",
    "\n",
    "\n",
    "\n",
    "\n",
    "\n",
    "\n",
    "\n",
    "'''\n",
    "\n",
    "class Shape:\n",
    "    def area(self):\n",
    "        print(\"Calculating area in the Shape class\")\n",
    "\n",
    "class Circle(Shape):\n",
    "    def area(self, radius):\n",
    "        result = 3.14 * radius * radius\n",
    "        print(f\"Area of the circle: {result}\")\n",
    "\n",
    "class Rectangle(Shape):\n",
    "    def area(self, length, width):\n",
    "        result = length * width\n",
    "        print(f\"Area of the rectangle: {result}\")\n",
    "\n",
    "# Method Overloading\n",
    "circle = Circle()\n",
    "circle.area(5)  # This calls the area method with one parameter\n",
    "\n",
    "rectangle = Rectangle()\n",
    "rectangle.area(4, 6)  # This calls the area method with two parameters\n",
    "\n",
    "# Method Overriding\n",
    "circle_overridden = Circle()\n",
    "circle_overridden.area(7)  # This calls the overridden area method in the Circle class\n",
    "\n",
    "rectangle_overridden = Rectangle()\n",
    "rectangle_overridden.area(3, 9)  # This calls the overridden area method in the Rectangle class\n"
   ]
  },
  {
   "cell_type": "code",
   "execution_count": null,
   "id": "ccf5dce6-3c8a-4185-812b-2e8ac1affa12",
   "metadata": {},
   "outputs": [],
   "source": [
    "'''16. Explain the purpose of the `__init__()` method in Python inheritance and how it is utilized in child classes.\n",
    "\n",
    "'''\n",
    "The __init__ method in Python is a special method used for initializing the attributes of an object. \n",
    "In the context of inheritance, the __init__ method in the base (parent) class is often utilized to \n",
    "initialize common attributes that are shared by all subclasses. When a child class is instantiated, \n",
    "the __init__ method of the parent class is implicitly called, ensuring that the common attributes are\n",
    "initialized."
   ]
  },
  {
   "cell_type": "code",
   "execution_count": null,
   "id": "46c1d4a3-6201-4cbb-8595-123c2e7988b0",
   "metadata": {},
   "outputs": [],
   "source": [
    "class Bird:\n",
    "    def __init__(self, species):\n",
    "        self.species = species\n",
    "\n",
    "    def fly(self):\n",
    "        print(f\"A {self.species} is flying.\")\n",
    "\n",
    "class Eagle(Bird):\n",
    "    def fly(self):\n",
    "        print(f\"An eagle is soaring high in the sky.\")\n",
    "\n",
    "class Sparrow(Bird):\n",
    "    def fly(self):\n",
    "        print(f\"A sparrow is fluttering around.\")\n",
    "\n",
    "# Example Usage\n",
    "eagle = Eagle(\"Eagle\")\n",
    "eagle.fly()  # Output: An eagle is soaring high in the sky.\n",
    "\n",
    "sparrow = Sparrow(\"Sparrow\")\n",
    "sparrow.fly()  # Output: A sparrow is fluttering around.\n"
   ]
  },
  {
   "cell_type": "code",
   "execution_count": null,
   "id": "ab8b3111-7259-4cbf-b8eb-9e499356dda1",
   "metadata": {},
   "outputs": [],
   "source": [
    "'''18. What is the \"diamond problem\" in multiple inheritance, and how does Python address it?\n",
    "'''\n",
    "\n",
    "The \"diamond problem\" occurs in multiple inheritance when a class inherits from two classes that have a \n",
    "common ancestor. This creates ambiguity in method resolution, as the interpreter may not know which method\n",
    "to call from the shared ancestor. In Python, this is addressed through the C3 linearization algorithm, \n",
    "which defines a consistent order for method resolution in the presence of multiple inheritance."
   ]
  },
  {
   "cell_type": "code",
   "execution_count": null,
   "id": "e2cec778-5f05-48b0-af9f-a23649c7bb63",
   "metadata": {},
   "outputs": [],
   "source": [
    "'''19. Discuss the concept of \"is-a\" and \"has-a\" relationships in inheritance, and provide examples of each.\n",
    "'''\n",
    "An \"is-a\" relationship is modeled through inheritance, where a subclass is considered a specific type of\n",
    "its superclass.\n",
    "\n",
    "A \"has-a\" relationship is modeled through composition, where an object contains another object.\n",
    "Example: A Car has-a Engine."
   ]
  },
  {
   "cell_type": "code",
   "execution_count": null,
   "id": "0e7df2a7-e048-4061-9cc7-84d02d3fc913",
   "metadata": {},
   "outputs": [],
   "source": [
    "'''20. Create a Python class hierarchy for a university system. Start with a base class `Person` and create child\n",
    "classes `Student` and `Professor`, each with their own attributes and methods. Provide an example of using\n",
    "these classes in a university context'''\n",
    "class Person:\n",
    "    def __init__(self, name, age):\n",
    "        self.name = name\n",
    "        self.age = age\n",
    "\n",
    "    def display_info(self):\n",
    "        print(f\"Name: {self.name}, Age: {self.age}\")\n",
    "\n",
    "class Student(Person):\n",
    "    def __init__(self, name, age, student_id):\n",
    "        super().__init__(name, age)\n",
    "        self.student_id = student_id\n",
    "\n",
    "    def display_info(self):\n",
    "        super().display_info()\n",
    "        print(f\"Student ID: {self.student_id}\")\n",
    "\n",
    "class Professor(Person):\n",
    "    def __init__(self, name, age, employee_id):\n",
    "        super().__init__(name, age)\n",
    "        self.employee_id = employee_id\n",
    "\n",
    "    def display_info(self):\n",
    "        super().display_info()\n",
    "        print(f\"Employee ID: {self.employee_id}\")\n",
    "\n",
    "# Example Usage\n",
    "student = Student(\"Alice\", 20, \"S12345\")\n",
    "professor = Professor(\"Dr. Smith\", 45, \"P98765\")\n",
    "\n",
    "student.display_info()\n",
    "# Output: Name: Alice, Age: 20\n",
    "#         Student ID: S12345\n",
    "\n",
    "professor.display_info()\n",
    "# Output: Name: Dr. Smith, Age: 45\n",
    "#         Employee ID: P98765\n"
   ]
  },
  {
   "cell_type": "code",
   "execution_count": null,
   "id": "a7036980-f4ef-4268-8cf7-ee23655ae567",
   "metadata": {},
   "outputs": [],
   "source": []
  },
  {
   "cell_type": "code",
   "execution_count": null,
   "id": "660c1340-3779-4ef4-aaa6-c20428596575",
   "metadata": {},
   "outputs": [],
   "source": []
  },
  {
   "cell_type": "code",
   "execution_count": null,
   "id": "fb33f661-4f9d-4bca-92aa-a9a179d6cd9c",
   "metadata": {},
   "outputs": [],
   "source": []
  },
  {
   "cell_type": "code",
   "execution_count": null,
   "id": "1ae7a124-feac-42a0-9d7a-dc9fdae55fae",
   "metadata": {},
   "outputs": [],
   "source": []
  },
  {
   "cell_type": "code",
   "execution_count": null,
   "id": "a5830b4c-40b7-4a42-8ca5-f21557fd246f",
   "metadata": {},
   "outputs": [],
   "source": []
  },
  {
   "cell_type": "code",
   "execution_count": null,
   "id": "8cf8090f-d168-4e67-815f-918b7f26b3e2",
   "metadata": {},
   "outputs": [],
   "source": []
  },
  {
   "cell_type": "code",
   "execution_count": null,
   "id": "bd824a4f-b76c-4b84-a04a-3e5d52818676",
   "metadata": {},
   "outputs": [],
   "source": []
  },
  {
   "cell_type": "code",
   "execution_count": null,
   "id": "b8454f41-ecfe-42dc-9cd3-b3520ad6ef3d",
   "metadata": {},
   "outputs": [],
   "source": []
  }
 ],
 "metadata": {
  "kernelspec": {
   "display_name": "Python 3 (ipykernel)",
   "language": "python",
   "name": "python3"
  },
  "language_info": {
   "codemirror_mode": {
    "name": "ipython",
    "version": 3
   },
   "file_extension": ".py",
   "mimetype": "text/x-python",
   "name": "python",
   "nbconvert_exporter": "python",
   "pygments_lexer": "ipython3",
   "version": "3.10.8"
  }
 },
 "nbformat": 4,
 "nbformat_minor": 5
}
