{
 "cells": [
  {
   "cell_type": "code",
   "execution_count": 5,
   "id": "b4583fd3-5bde-4e40-a136-4b6070e57706",
   "metadata": {},
   "outputs": [
    {
     "name": "stdout",
     "output_type": "stream",
     "text": [
      "True\n"
     ]
    }
   ],
   "source": [
    "'''1. Given an array, check if it contains any duplicates or not. \n",
    "\n",
    "arr = [1, 2, 4, 2, 5, 9] \n",
    "\n",
    "Output = True'''\n",
    "\n",
    "def checkduplicate(lst):\n",
    "    return not len(lst) == len(set(lst))\n",
    "\n",
    "arr = [1, 2, 4,4, 5, 9] \n",
    "res=checkduplicate(arr)\n",
    "print(res)"
   ]
  },
  {
   "cell_type": "code",
   "execution_count": 6,
   "id": "8deb81ab-3019-4b63-a47e-5d9cb33d4dfd",
   "metadata": {},
   "outputs": [
    {
     "data": {
      "text/plain": [
       "[5, 6, 7, 1, 2, 3, 4]"
      ]
     },
     "execution_count": 6,
     "metadata": {},
     "output_type": "execute_result"
    }
   ],
   "source": [
    "'''. Given an array and an integer k, rotate the array to the right by k steps. \n",
    "\n",
    "arr = [1, 2, 3, 4, 5, 6, 7] k = 3 \n",
    "\n",
    "Output = [5, 6, 7, 1, 2, 3, 4] '''\n",
    "\n",
    "def rotate_by_k(arr,k):\n",
    "    ans=arr.copy()\n",
    "    n=len(arr)\n",
    "    for i in range(n):\n",
    "        index=(i+k)%n\n",
    "        ans[index]=arr[i]\n",
    "        \n",
    "    return ans\n",
    "\n",
    "arr = [1, 2, 3, 4, 5, 6, 7]\n",
    "k = 3\n",
    "rotate_by_k(arr,k)"
   ]
  },
  {
   "cell_type": "code",
   "execution_count": 10,
   "id": "220cd706-5d6e-4081-8315-c2144f1e7aad",
   "metadata": {},
   "outputs": [
    {
     "name": "stdout",
     "output_type": "stream",
     "text": [
      "[12, 9, 7, 5, 4, 2]\n"
     ]
    }
   ],
   "source": [
    "'''3. Reverse the given array in-place, means without using any extra data structure. \n",
    "\n",
    "arr = [2, 4, 5, 7, 9, 12] \n",
    "\n",
    "Output = [12, 9, 7, 5, 4, 2]'''\n",
    "\n",
    "arr1 = [2, 4, 5, 7, 9, 12] \n",
    "\n",
    "st=0\n",
    "\n",
    "end=len(arr1)-1\n",
    "\n",
    "while(st<end):\n",
    "    arr1[st],arr1[end]=arr1[end],arr1[st]\n",
    "    st+=1\n",
    "    end-=1\n",
    "    \n",
    "print(arr1)"
   ]
  },
  {
   "cell_type": "code",
   "execution_count": 2,
   "id": "0737fd03-951a-4af4-bb36-8173b75b95fc",
   "metadata": {},
   "outputs": [
    {
     "data": {
      "text/plain": [
       "20"
      ]
     },
     "execution_count": 2,
     "metadata": {},
     "output_type": "execute_result"
    }
   ],
   "source": [
    "'''4. Given an array of integers, find the maximum element in an array\n",
    "\n",
    " arr = [10, 5, 20, 8, 15]\n",
    "\n",
    " Output = 20\n",
    "'''\n",
    "\n",
    "\n",
    "def find_max(arr):\n",
    "    maxi=arr[0]\n",
    "    \n",
    "    for e in arr:\n",
    "        if e>maxi:\n",
    "            maxi=e\n",
    "            \n",
    "    return maxi\n",
    "\n",
    "arr = [10, 5, 20, 8, 15]\n",
    "find_max(arr)"
   ]
  },
  {
   "cell_type": "code",
   "execution_count": 6,
   "id": "5ae867dd-6832-48fd-832e-5c6ac24a0e9c",
   "metadata": {},
   "outputs": [
    {
     "ename": "TypeError",
     "evalue": "'list' object is not callable",
     "output_type": "error",
     "traceback": [
      "\u001b[0;31m---------------------------------------------------------------------------\u001b[0m",
      "\u001b[0;31mTypeError\u001b[0m                                 Traceback (most recent call last)",
      "Cell \u001b[0;32mIn[6], line 8\u001b[0m\n\u001b[1;32m      1\u001b[0m \u001b[38;5;124;03m'''5. Given a sorted array, remove the duplicate element without using any extra data structure. \u001b[39;00m\n\u001b[1;32m      2\u001b[0m \n\u001b[1;32m      3\u001b[0m \u001b[38;5;124;03marr = [1, 1, 2, 2, 2, 3, 3, 4, 4, 4, 5, 5] \u001b[39;00m\n\u001b[1;32m      4\u001b[0m \n\u001b[1;32m      5\u001b[0m \u001b[38;5;124;03mOutput = [1, 2, 3, 4, 5]'''\u001b[39;00m\n\u001b[1;32m      7\u001b[0m arr \u001b[38;5;241m=\u001b[39m [\u001b[38;5;241m1\u001b[39m, \u001b[38;5;241m1\u001b[39m, \u001b[38;5;241m2\u001b[39m, \u001b[38;5;241m2\u001b[39m, \u001b[38;5;241m2\u001b[39m, \u001b[38;5;241m3\u001b[39m, \u001b[38;5;241m3\u001b[39m, \u001b[38;5;241m4\u001b[39m, \u001b[38;5;241m4\u001b[39m, \u001b[38;5;241m4\u001b[39m, \u001b[38;5;241m5\u001b[39m, \u001b[38;5;241m5\u001b[39m] \n\u001b[0;32m----> 8\u001b[0m arr \u001b[38;5;241m=\u001b[39m \u001b[43marr\u001b[49m\u001b[43m(\u001b[49m\u001b[38;5;28;43mset\u001b[39;49m\u001b[43m(\u001b[49m\u001b[43marr\u001b[49m\u001b[43m)\u001b[49m\u001b[43m)\u001b[49m\n\u001b[1;32m      9\u001b[0m \u001b[38;5;28mprint\u001b[39m(arr)\n",
      "\u001b[0;31mTypeError\u001b[0m: 'list' object is not callable"
     ]
    }
   ],
   "source": [
    "'''5. Given a sorted array, remove the duplicate element without using any extra data structure. \n",
    "\n",
    "arr = [1, 1, 2, 2, 2, 3, 3, 4, 4, 4, 5, 5] \n",
    "\n",
    "Output = [1, 2, 3, 4, 5]'''\n",
    "\n",
    "arr = [1, 1, 2, 2, 2, 3, 3, 4, 4, 4, 5, 5] \n",
    "arr = arr(set(arr))\n",
    "print(arr)"
   ]
  },
  {
   "cell_type": "code",
   "execution_count": null,
   "id": "126fb7e6-8d11-41ed-910d-5c3a4b1da602",
   "metadata": {},
   "outputs": [],
   "source": []
  }
 ],
 "metadata": {
  "kernelspec": {
   "display_name": "Python 3 (ipykernel)",
   "language": "python",
   "name": "python3"
  },
  "language_info": {
   "codemirror_mode": {
    "name": "ipython",
    "version": 3
   },
   "file_extension": ".py",
   "mimetype": "text/x-python",
   "name": "python",
   "nbconvert_exporter": "python",
   "pygments_lexer": "ipython3",
   "version": "3.10.8"
  }
 },
 "nbformat": 4,
 "nbformat_minor": 5
}
