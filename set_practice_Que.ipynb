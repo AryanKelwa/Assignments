{
 "cells": [
  {
   "cell_type": "code",
   "execution_count": 1,
   "id": "8ac1b992-4251-49d5-8ac4-a457f916ae4f",
   "metadata": {},
   "outputs": [
    {
     "name": "stdout",
     "output_type": "stream",
     "text": [
      "elements are :  {1, 2, 3, 4, 5}\n"
     ]
    }
   ],
   "source": [
    "'''1. Create a set with integers from 1 to 5.\n",
    "'''\n",
    "st1=set(range(1,6))\n",
    "print(\"elements are : \",st1)"
   ]
  },
  {
   "cell_type": "code",
   "execution_count": 2,
   "id": "eeb6f147-f10d-4954-9527-92d4f20e0294",
   "metadata": {},
   "outputs": [
    {
     "name": "stdout",
     "output_type": "stream",
     "text": [
      "elements are :  {1, 2, 3, 4, 5, 100}\n"
     ]
    }
   ],
   "source": [
    "'''2. Add an element to a set.'''\n",
    "st1.add(100)\n",
    "print(\"elements are : \",st1)"
   ]
  },
  {
   "cell_type": "code",
   "execution_count": 5,
   "id": "f249c2ce-63ce-449f-be82-853f8e7d65ce",
   "metadata": {},
   "outputs": [
    {
     "name": "stdout",
     "output_type": "stream",
     "text": [
      "elements are :  {2, 3, 4, 5, 100}\n"
     ]
    }
   ],
   "source": [
    "'''3. Remove an element from a set.'''\n",
    "st1.discard(1)\n",
    "print(\"elements are : \",st1)\n"
   ]
  },
  {
   "cell_type": "code",
   "execution_count": 8,
   "id": "c08ebb46-d44b-4282-941f-eeab661e5b02",
   "metadata": {},
   "outputs": [
    {
     "name": "stdin",
     "output_type": "stream",
     "text": [
      "entr the data you want to search 4\n"
     ]
    },
    {
     "name": "stdout",
     "output_type": "stream",
     "text": [
      "element is present in set\n"
     ]
    }
   ],
   "source": [
    "'''4. Check if an element exists in a set.\n",
    "'''\n",
    "key_st1=int(input(\"entr the data you want to search\"))\n",
    "if key_st1 in st1:\n",
    "    print(\"element is present in set\")\n",
    "else:\n",
    "    print(\"element is not present\")\n",
    "    "
   ]
  },
  {
   "cell_type": "code",
   "execution_count": 2,
   "id": "6ef2b845-9bbe-4fe8-86a2-83e46d31e156",
   "metadata": {},
   "outputs": [
    {
     "name": "stdout",
     "output_type": "stream",
     "text": [
      "total elements are :  5\n"
     ]
    }
   ],
   "source": [
    "'''5. Find the length of a set without using the `len()` function.'''\n",
    "set2={12,13,14,15,16}\n",
    "count=0\n",
    "for _ in set2:\n",
    "    count=count+1\n",
    "print(\"total elements are : \",count)    "
   ]
  },
  {
   "cell_type": "code",
   "execution_count": 3,
   "id": "3896ce31-9168-4640-8711-1b1f1afdcba8",
   "metadata": {},
   "outputs": [
    {
     "name": "stdout",
     "output_type": "stream",
     "text": [
      "set()\n"
     ]
    }
   ],
   "source": [
    "'''6. Clear all elements from a set.\n",
    "'''\n",
    "set2.clear()\n",
    "print(set2)"
   ]
  },
  {
   "cell_type": "code",
   "execution_count": 5,
   "id": "cfe67d46-06cc-473f-89a1-75944f378120",
   "metadata": {},
   "outputs": [
    {
     "name": "stdout",
     "output_type": "stream",
     "text": [
      "Even numbers are : {2, 4, 6, 8, 10}\n"
     ]
    }
   ],
   "source": [
    "'''6. Clear all elements from a set.\n",
    "'''\n",
    "even_numbers=set(range(2,11,2))\n",
    "print(\"Even numbers are :\",even_numbers)\n",
    "    "
   ]
  },
  {
   "cell_type": "code",
   "execution_count": 6,
   "id": "bf642089-a002-4ecc-813c-1b2f96844e69",
   "metadata": {},
   "outputs": [
    {
     "name": "stdout",
     "output_type": "stream",
     "text": [
      "odd numbers are : {1, 3, 5, 7, 9}\n"
     ]
    }
   ],
   "source": [
    "'''8. Create a set of odd numbers from 1 to 10.'''\n",
    "odd_numbers=set(range( 1,10,2))\n",
    "\n",
    "print(\"odd numbers are :\",odd_numbers)"
   ]
  },
  {
   "cell_type": "code",
   "execution_count": 8,
   "id": "4fbaea6f-3dd7-42d4-bf7d-ca4ab5310371",
   "metadata": {},
   "outputs": [
    {
     "name": "stdout",
     "output_type": "stream",
     "text": [
      "{100, 5, 6, 7, 200, 300, 400}\n"
     ]
    }
   ],
   "source": [
    "'''9. Find the union of two sets.\n",
    "'''\n",
    "set2={5,6,7,200,300}\n",
    "set3={100,200,300,400}\n",
    "union_set=set2.union(set3)\n",
    "print(union_set)"
   ]
  },
  {
   "cell_type": "code",
   "execution_count": 15,
   "id": "f6f0b4f9-a607-44cc-a361-6d338fdc82e6",
   "metadata": {},
   "outputs": [
    {
     "name": "stdout",
     "output_type": "stream",
     "text": [
      "{200, 300}\n"
     ]
    }
   ],
   "source": [
    "'''10. Find the intersection of two sets.\n",
    "'''\n",
    "set4={200,300}\n",
    "inter_set=set2.intersection(set4)\n",
    "print(inter_set)"
   ]
  },
  {
   "cell_type": "code",
   "execution_count": 17,
   "id": "ede695f7-e730-47f7-b78a-38db2dc81227",
   "metadata": {},
   "outputs": [
    {
     "name": "stdout",
     "output_type": "stream",
     "text": [
      "{100, 5, 6, 7, 400}\n"
     ]
    }
   ],
   "source": [
    "'''11. Find the difference between two sets.\n",
    "'''\n",
    "differ_set=set2-set4\n",
    "print(differ_set)"
   ]
  },
  {
   "cell_type": "code",
   "execution_count": 19,
   "id": "d19b087d-aaf0-4320-b1c7-d54bea016bf2",
   "metadata": {},
   "outputs": [
    {
     "name": "stdout",
     "output_type": "stream",
     "text": [
      "True\n"
     ]
    }
   ],
   "source": [
    "'''12. Check if a set is a subset of another set.\n",
    "'''\n",
    "print(set4.issubset(set2))"
   ]
  },
  {
   "cell_type": "code",
   "execution_count": 21,
   "id": "099234e6-43c3-40a7-a0fb-a9baa4313fdb",
   "metadata": {},
   "outputs": [
    {
     "name": "stdout",
     "output_type": "stream",
     "text": [
      "True\n"
     ]
    }
   ],
   "source": [
    "'''13. Check if a set is a superset of another set.'''\n",
    "print(set2.issuperset(set4))"
   ]
  },
  {
   "cell_type": "code",
   "execution_count": 10,
   "id": "f8727c80-4641-42c0-90f2-e6cd52346739",
   "metadata": {},
   "outputs": [
    {
     "name": "stdout",
     "output_type": "stream",
     "text": [
      "{1, 2, 3, 4}\n"
     ]
    }
   ],
   "source": [
    "'''14. Create a set from a list.'''\n",
    "list1=[1,2,3,4,4]\n",
    "set1=set(list1)\n",
    "print(set1)"
   ]
  },
  {
   "cell_type": "code",
   "execution_count": 11,
   "id": "098368e8-b0c2-41b0-86b1-b0948648107f",
   "metadata": {},
   "outputs": [
    {
     "name": "stdout",
     "output_type": "stream",
     "text": [
      "[1, 2, 3, 4]\n"
     ]
    }
   ],
   "source": [
    "'''15. Convert a set to a list.'''\n",
    "list1=list(set1)\n",
    "print(list1)"
   ]
  },
  {
   "cell_type": "code",
   "execution_count": 3,
   "id": "c4356a23-b3a2-42ce-9be0-e25396bc3666",
   "metadata": {},
   "outputs": [
    {
     "name": "stdout",
     "output_type": "stream",
     "text": [
      "{2, 3, 4, 5}\n",
      "{3, 4, 5}\n"
     ]
    }
   ],
   "source": [
    "'''16. Remove a random element from a set.'''\n",
    "st3={1,2,3,4,5}\n",
    "st3.pop()\n",
    "print(st3)\n",
    "st3.pop()\n",
    "print(st3)"
   ]
  },
  {
   "cell_type": "code",
   "execution_count": 9,
   "id": "6a95d7b3-0f2e-4fe0-b2f8-86ab6d557e59",
   "metadata": {},
   "outputs": [
    {
     "name": "stdout",
     "output_type": "stream",
     "text": [
      "53\n"
     ]
    }
   ],
   "source": [
    "'''17. Pop an element from a set.'''\n",
    "\n",
    "st4={23,43,53,63,73}\n",
    "popped_st4=st4.pop()\n",
    "print(popped_st4)"
   ]
  },
  {
   "cell_type": "code",
   "execution_count": 9,
   "id": "28f48f70-049e-4a26-a8d5-173fbc3c8e24",
   "metadata": {},
   "outputs": [
    {
     "name": "stdin",
     "output_type": "stream",
     "text": [
      "Enter the elements in set : 1 2 3 4\n",
      "Enter the elements in another set : 56 \n"
     ]
    },
    {
     "name": "stdout",
     "output_type": "stream",
     "text": [
      "intersection between set is : {' '}\n"
     ]
    }
   ],
   "source": [
    "'''18.Check if two sets have no elements in common.'''\n",
    "set5=set(input(\"Enter the elements in set :\"))\n",
    "set6=set(input(\"Enter the elements in another set :\"))\n",
    "inter_set=set5.intersection(set6)\n",
    "if (len(inter_set)==0):\n",
    "    print(\"No intersection between set!\")\n",
    "else:\n",
    "    print(\"intersection between set is :\",inter_set)"
   ]
  },
  {
   "cell_type": "code",
   "execution_count": 19,
   "id": "32cae24c-0389-48de-bd1e-54f715e425aa",
   "metadata": {},
   "outputs": [
    {
     "name": "stdout",
     "output_type": "stream",
     "text": [
      "Symmetric difference is :  {1, 3, 7, 9, 10}\n"
     ]
    }
   ],
   "source": [
    "'''19. Find the symmetric difference between two sets.'''\n",
    "set6={1,2,3,4,5}\n",
    "set7={4,5,7,2,9,10}\n",
    "union_set=set6.union(set7)\n",
    "inter_set=set6.intersection(set7)\n",
    "print(\"Symmetric difference is : \",union_set-inter_set)"
   ]
  },
  {
   "cell_type": "code",
   "execution_count": 29,
   "id": "f9058871-d758-4cd7-8e16-2cec0e45231f",
   "metadata": {},
   "outputs": [
    {
     "name": "stdout",
     "output_type": "stream",
     "text": [
      "{1, 2, 3, 4, 5, 6, 7}\n"
     ]
    }
   ],
   "source": [
    "'''20. Update a set with elements from another set'''\n",
    "set8={1,2,3,4,5}\n",
    "up_set={6,7}\n",
    "set8.update(up_set)\n",
    "print(set8)"
   ]
  },
  {
   "cell_type": "code",
   "execution_count": 34,
   "id": "15bb9148-665b-425f-8cf4-8a86da96a895",
   "metadata": {},
   "outputs": [
    {
     "name": "stdout",
     "output_type": "stream",
     "text": [
      "{2, 3, 5, 7, 11}\n"
     ]
    }
   ],
   "source": [
    "'''21. Create a set of the first 5 prime numbers.'''\n",
    "\n",
    "# Initialize an empty set to store prime numbers\n",
    "prime_numbers = set()\n",
    "\n",
    "# Initialize a variable to start checking numbers\n",
    "number = 2\n",
    "\n",
    "# Continue until we have found 5 prime numbers\n",
    "while len(prime_numbers) < 5:\n",
    "    is_prime = True\n",
    "    \n",
    "    # Check if the current number is prime\n",
    "    for divisor in range(2, int(number/2) + 1):\n",
    "        if number % divisor == 0:\n",
    "            is_prime = False\n",
    "            break\n",
    "    \n",
    "    # If the number is prime, add it to the set\n",
    "    if is_prime:\n",
    "        prime_numbers.add(number)\n",
    "    \n",
    "    # Move on to the next number\n",
    "    number += 1\n",
    "\n",
    "print(prime_numbers)"
   ]
  },
  {
   "cell_type": "code",
   "execution_count": 40,
   "id": "07fd2a2b-2636-4aac-9e49-fc967b3e510d",
   "metadata": {},
   "outputs": [
    {
     "name": "stdout",
     "output_type": "stream",
     "text": [
      "The sets are identical\n"
     ]
    }
   ],
   "source": [
    "'''22. Check if two sets are identical.'''\n",
    "set9={1,2,3,4}\n",
    "set10={5,6,7,8}\n",
    "intersection_set= set9 & set10#It finds the intersection between two sets\n",
    "if len(intersection_set)==0:\n",
    "    print(\"The sets are identical\")\n",
    "else:\n",
    "    print(\"not identical sets common elements are : \",intersection_set)"
   ]
  },
  {
   "cell_type": "code",
   "execution_count": null,
   "id": "793ed4b9-9b56-4ca3-aefc-4223eef08e65",
   "metadata": {},
   "outputs": [
    {
     "name": "stdout",
     "output_type": "stream",
     "text": [
      "{frozenset({1, 2, 3}): 'hii'}\n"
     ]
    }
   ],
   "source": [
    "'''23. Create a frozen set.'''\n",
    "my_set = {1, 2, 3}\n",
    "my_frozen_set = frozenset(my_set)\n",
    "\n",
    "print(my_frozen_set)\n"
   ]
  },
  {
   "cell_type": "code",
   "execution_count": 57,
   "id": "71ca942d-ca95-4f06-b9e1-2c78c34d65c1",
   "metadata": {},
   "outputs": [
    {
     "name": "stdout",
     "output_type": "stream",
     "text": [
      "The sets are disjoint\n"
     ]
    }
   ],
   "source": [
    "'''24. Check if a set is disjoint with another set.'''\n",
    "set9={1,2,3,4}\n",
    "set10={5,6,7,8}\n",
    "intersection_set= set9 & set10#It finds the intersection between two sets\n",
    "if len(intersection_set)==0:\n",
    "    print(\"The sets are disjoint\")\n",
    "else:\n",
    "    print(\"sets are not disjoint common elements are : \",intersection_set)"
   ]
  },
  {
   "cell_type": "code",
   "execution_count": 59,
   "id": "deea061f-35ff-43fd-bfb3-45180630f666",
   "metadata": {},
   "outputs": [
    {
     "name": "stdout",
     "output_type": "stream",
     "text": [
      "The set of square is :  {1, 4, 9, 16, 25}\n"
     ]
    }
   ],
   "source": [
    "'''25. Create a set of squares of numbers from 1 to 5'''\n",
    "sq_set=set()\n",
    "for num in range(1,6):\n",
    "    value=num*num\n",
    "    sq_set.add(value)\n",
    "print(\"The set of square is : \",sq_set)"
   ]
  },
  {
   "cell_type": "code",
   "execution_count": 61,
   "id": "951a02e9-0696-4d29-b94a-379b905e01ce",
   "metadata": {},
   "outputs": [
    {
     "name": "stdout",
     "output_type": "stream",
     "text": [
      "Even numbers are :  {2, 4, 6, 8, 10, 12, 14, 16, 18, 20, 22, 24, 26, 28, 30}\n"
     ]
    }
   ],
   "source": [
    "'''26. Filter out all even numbers from a set.\n",
    "'''\n",
    "nums=range(1,31)\n",
    "even_nums=set()\n",
    "for i in nums:\n",
    "    if i%2==0:\n",
    "        even_nums.add(i)\n",
    "print(\"Even numbers are : \",even_nums)"
   ]
  },
  {
   "cell_type": "code",
   "execution_count": 62,
   "id": "709be663-1264-473b-b011-738e9233c9b9",
   "metadata": {},
   "outputs": [
    {
     "name": "stdout",
     "output_type": "stream",
     "text": [
      "{2, 4, 6, 8, 10}\n"
     ]
    }
   ],
   "source": [
    "'''27. Multiply all elements in a set by 2.'''\n",
    "# Define a set\n",
    "set11 = {1, 2, 3, 4, 5}\n",
    "\n",
    "# Convert the set to a list, perform the operation, and convert it back to a set\n",
    "modified_list = [x * 2 for x in set11]\n",
    "result_set = set(modified_list)\n",
    "\n",
    "print(result_set)\n"
   ]
  },
  {
   "cell_type": "code",
   "execution_count": 6,
   "id": "2e595599-c355-43e9-8b7d-b186ad0f5439",
   "metadata": {},
   "outputs": [
    {
     "name": "stdout",
     "output_type": "stream",
     "text": [
      "{4, 36, 15, 82, 95}\n"
     ]
    }
   ],
   "source": [
    "'''28. Create a set of random numbers'''\n",
    "import random\n",
    "\n",
    "# Set the seed for reproducibility (optional)\n",
    "random.seed(42)\n",
    "\n",
    "# Generate a set of 5 random numbers between 1 and 100 (adjust as needed)\n",
    "random_set = set(random.sample(range(1, 101), 5))\n",
    "\n",
    "print(random_set)\n"
   ]
  },
  {
   "cell_type": "code",
   "execution_count": 11,
   "id": "9a15aeab-2ecd-4645-8b89-046434226eeb",
   "metadata": {},
   "outputs": [
    {
     "name": "stdout",
     "output_type": "stream",
     "text": [
      "set is empty\n"
     ]
    }
   ],
   "source": [
    "'''29. Check if a set is empty.'''\n",
    "set12=set()\n",
    "if (len(set12)==0):\n",
    "    print(\"set is empty\")\n",
    "else:\n",
    "    print(\"set is not empty\")"
   ]
  },
  {
   "cell_type": "code",
   "execution_count": 13,
   "id": "268c61cc-8a31-43ef-a9a7-501ea0c66d3f",
   "metadata": {},
   "outputs": [
    {
     "name": "stdout",
     "output_type": "stream",
     "text": [
      "{1, 2, 3, 45, frozenset({5, 6, 7}), 56}\n"
     ]
    }
   ],
   "source": [
    "'''30. Create a nested set (hint: use frozenset)'''\n",
    "set13={1,2,3,frozenset({5,6,7}),45,56}\n",
    "print(set13)"
   ]
  },
  {
   "cell_type": "code",
   "execution_count": 19,
   "id": "099eb096-6900-4c68-aa38-9a006599cbc1",
   "metadata": {},
   "outputs": [
    {
     "name": "stdout",
     "output_type": "stream",
     "text": [
      "{1, 3, 4}\n"
     ]
    }
   ],
   "source": [
    "'''31. Remove an element from a set using the discard method.'''\n",
    "set14={1,2,3,4}\n",
    "set14.discard(2)\n",
    "print(\"AFter remving a element : \",set14)"
   ]
  },
  {
   "cell_type": "code",
   "execution_count": 45,
   "id": "7a024370-6df7-4f6b-9e01-1cb3c60fab90",
   "metadata": {},
   "outputs": [
    {
     "name": "stdout",
     "output_type": "stream",
     "text": [
      "these are equal\n"
     ]
    }
   ],
   "source": [
    "'''32. Compare two sets'''\n",
    "\n",
    "set15={1,2,3,4000}\n",
    "set16={3}\n",
    "if set15>set16:\n",
    "    print(\"these are equal\")\n",
    "else:\n",
    "    print(\"not equal\")"
   ]
  },
  {
   "cell_type": "code",
   "execution_count": 1,
   "id": "a195e269-03ed-4004-9486-048c3292e23a",
   "metadata": {},
   "outputs": [
    {
     "name": "stdout",
     "output_type": "stream",
     "text": [
      "set from string is :  {'i', 's', 'e', 't', 'l', 'a'}\n"
     ]
    }
   ],
   "source": [
    "'''33. Create a set from a string.'''\n",
    "string=\"satellite\"\n",
    "set17=set(string)\n",
    "print(\"set from string is : \",set17)"
   ]
  },
  {
   "cell_type": "code",
   "execution_count": 3,
   "id": "80e0e1ba-0a87-4fc3-b9a4-388c7cb76720",
   "metadata": {},
   "outputs": [
    {
     "name": "stdout",
     "output_type": "stream",
     "text": [
      "set of strings to a set of integers {12, 13, 46}\n"
     ]
    }
   ],
   "source": [
    "'''34. Convert a set of strings to a set of integers'''\n",
    "set18={'12','13','46'}\n",
    "int_set=set(int(item) for item in set18)\n",
    "print('set of strings to a set of integers',int_set)"
   ]
  },
  {
   "cell_type": "code",
   "execution_count": 6,
   "id": "74562631-4b49-44b1-a1ec-e24773c0fca6",
   "metadata": {},
   "outputs": [
    {
     "name": "stdout",
     "output_type": "stream",
     "text": [
      "{'300', '400', '200'}\n"
     ]
    }
   ],
   "source": [
    "'''35. Convert a set of integers to a set of strings'''\n",
    "set19={200,300,400}\n",
    "str_set=set(str(x) for x in set19)\n",
    "print(str_set)"
   ]
  },
  {
   "cell_type": "code",
   "execution_count": 8,
   "id": "38c26368-8eb3-4ef7-a4ec-5d11194c6cbc",
   "metadata": {},
   "outputs": [
    {
     "name": "stdout",
     "output_type": "stream",
     "text": [
      "{32, 97, 56, 12} <class 'set'>\n"
     ]
    }
   ],
   "source": [
    "'''36. Create a set from a tuple.'''\n",
    "tup=(12,32,56,97)\n",
    "set20=set(tup)\n",
    "print(set20,type(set20))"
   ]
  },
  {
   "cell_type": "code",
   "execution_count": 9,
   "id": "f484a35f-da2a-4e5f-a368-86b5013b78df",
   "metadata": {},
   "outputs": [
    {
     "name": "stdout",
     "output_type": "stream",
     "text": [
      "(65, 98, 35, 238) <class 'tuple'>\n"
     ]
    }
   ],
   "source": [
    "'''37. Convert a set to a tuple.'''\n",
    "set21={35,65,98,238}\n",
    "tupl=tuple(set21)\n",
    "print(tupl,type(tupl))"
   ]
  },
  {
   "cell_type": "code",
   "execution_count": 10,
   "id": "bf7c6a6e-192b-4e08-aee4-f8661fe5adf1",
   "metadata": {},
   "outputs": [
    {
     "name": "stdout",
     "output_type": "stream",
     "text": [
      "maximum value is :  6001\n"
     ]
    }
   ],
   "source": [
    "'''38. Find the maximum value in a set.'''\n",
    "set22= {23,0,43,98,200,6001}\n",
    "max_value=max(set22)\n",
    "print(\"maximum value is : \",max_value)"
   ]
  },
  {
   "cell_type": "code",
   "execution_count": 13,
   "id": "5c1d8de6-1c1f-4ef0-b34d-90e5ceea73cf",
   "metadata": {},
   "outputs": [
    {
     "name": "stdout",
     "output_type": "stream",
     "text": [
      "minimum value is :  0\n"
     ]
    }
   ],
   "source": [
    "'''39. Find the minimum value in a set.'''\n",
    "min_value=min(set22)\n",
    "print(\"minimum value is : \",min_value)"
   ]
  },
  {
   "cell_type": "code",
   "execution_count": 1,
   "id": "ae068dbf-e414-40f1-a5b7-df9c95b92424",
   "metadata": {},
   "outputs": [
    {
     "name": "stdin",
     "output_type": "stream",
     "text": [
      "Enter a size of set :  3\n",
      "Enter the value 23 \n",
      "Enter the value 56\n",
      "Enter the value 980\n"
     ]
    },
    {
     "name": "stdout",
     "output_type": "stream",
     "text": [
      "Set contains values are :  {56, 980, 23}\n"
     ]
    }
   ],
   "source": [
    "'''40. Create a set from user input.'''\n",
    "set23=set()\n",
    "n=int(input(\"Enter a size of set : \"))\n",
    "for i in range(n):\n",
    "    input_value=int(input(\"Enter the value\"))\n",
    "    set23.add(input_value)\n",
    "print(\"Set contains values are : \",set23)"
   ]
  },
  {
   "cell_type": "code",
   "execution_count": 4,
   "id": "f6913a12-6f27-463f-ab3f-baf7c52d26ed",
   "metadata": {},
   "outputs": [
    {
     "name": "stdout",
     "output_type": "stream",
     "text": [
      "{2}\n"
     ]
    }
   ],
   "source": [
    "'''41. Check if the intersection of two sets is empty.'''\n",
    "set24={1,2,3,4}\n",
    "set25={5,2,7,8}\n",
    "intersection_set=set24.intersection(set25)\n",
    "print(intersection_set)"
   ]
  },
  {
   "cell_type": "code",
   "execution_count": 12,
   "id": "c0ff79d1-b80c-4640-a586-f20fa72e12ea",
   "metadata": {},
   "outputs": [
    {
     "name": "stdout",
     "output_type": "stream",
     "text": [
      "{0, 1, 2, 3, 5}\n"
     ]
    }
   ],
   "source": [
    "'''42. Create a set of the first 5 Fibonacci numbers'''\n",
    "set26=set()\n",
    "x1=0\n",
    "x2=1\n",
    "for i in range(6):\n",
    "    set26.add(x1)\n",
    "    x3=x1+x2    \n",
    "    x1=x2\n",
    "    x2=x3\n",
    "print(set26)    "
   ]
  },
  {
   "cell_type": "code",
   "execution_count": 13,
   "id": "ce8edeef-532e-41c7-9e78-f6e84b6fb642",
   "metadata": {},
   "outputs": [
    {
     "name": "stdout",
     "output_type": "stream",
     "text": [
      "After removing a duplicates :  {1, 2, 3}\n"
     ]
    }
   ],
   "source": [
    "'''43. Remove duplicates from a list using sets.'''\n",
    "list1=[1,2,3,1,2,3]\n",
    "set27=set(list1)\n",
    "print(\"After removing a duplicates : \",set27)"
   ]
  },
  {
   "cell_type": "code",
   "execution_count": 14,
   "id": "097ab507-01aa-4fc7-8c97-10042103ae0c",
   "metadata": {},
   "outputs": [
    {
     "name": "stdout",
     "output_type": "stream",
     "text": [
      "Same elements are :  {32, 98, 700}\n"
     ]
    }
   ],
   "source": [
    "'''44. Check if two sets have the same elements, regardless of their count.'''\n",
    "set28={32,56,73,98,700,67}\n",
    "set29={700,800,98,35,32}\n",
    "same_elements=set28.intersection(set29)\n",
    "print(\"Same elements are : \",same_elements)"
   ]
  },
  {
   "cell_type": "code",
   "execution_count": 20,
   "id": "90d218fd-8ec3-463a-bb88-ca370f7da532",
   "metadata": {},
   "outputs": [
    {
     "name": "stdin",
     "output_type": "stream",
     "text": [
      "Enter the numbers of power-2 :  10\n"
     ]
    },
    {
     "name": "stdout",
     "output_type": "stream",
     "text": [
      "The powers of 2 are :  {32, 1, 2, 64, 4, 128, 256, 512, 8, 16}\n"
     ]
    }
   ],
   "source": [
    "'''45. Create a set of the first `n` powers of 2.'''\n",
    "n1=int(input(\"Enter the numbers of power-2 : \"))\n",
    "set30=set()\n",
    "for i in range(n1):\n",
    "    set30.add(pow(2,i))\n",
    "print(\"The powers of 2 are : \",set30)   \n"
   ]
  },
  {
   "cell_type": "code",
   "execution_count": 25,
   "id": "ad7d7fe0-0202-4691-8766-6d18acb66138",
   "metadata": {},
   "outputs": [
    {
     "name": "stdout",
     "output_type": "stream",
     "text": [
      "Common elements are :  {65, 12}\n"
     ]
    }
   ],
   "source": [
    "'''46. Find the common elements between a set and a list.'''\n",
    "set31={12,54,65,78,92,91}\n",
    "list5=[12,4,65,7]\n",
    "common_ele=set31.intersection(set(list5))\n",
    "print(\"Common elements are : \",common_ele)"
   ]
  },
  {
   "cell_type": "code",
   "execution_count": 26,
   "id": "8dab1729-b153-4887-9991-c3fb10e6bb37",
   "metadata": {},
   "outputs": [
    {
     "name": "stdin",
     "output_type": "stream",
     "text": [
      "Enter the number :  9\n"
     ]
    },
    {
     "name": "stdout",
     "output_type": "stream",
     "text": [
      "{1.0, 3.0, 36.0, 6.0, 10.0, 45.0, 15.0, 21.0, 28.0}\n"
     ]
    }
   ],
   "source": [
    "'''47. Create a set of the first `n` triangular numbers.'''\n",
    "n=int(input(\"Enter the number : \"))\n",
    "set32=set()\n",
    "for i in range(1,n+1):\n",
    "    value = i * (i + 1) / 2\n",
    "    set32.add(value)\n",
    "print(set32)"
   ]
  },
  {
   "cell_type": "code",
   "execution_count": 35,
   "id": "4afd4864-b5ea-4aa7-907b-bb8721992931",
   "metadata": {},
   "outputs": [
    {
     "name": "stdout",
     "output_type": "stream",
     "text": [
      "set contains a subset\n"
     ]
    }
   ],
   "source": [
    "'''48. Check if a set contains another set as a subset.'''\n",
    "set33={12,13,14,15,16,17,18,19,20}\n",
    "set34={12,15,16,20}\n",
    "check=set33 > set34\n",
    "if check:\n",
    "    print(\"set contains a subset\")\n",
    "else:\n",
    "    print(\"set not contains a subset\")"
   ]
  },
  {
   "cell_type": "code",
   "execution_count": 37,
   "id": "bea77efc-a812-479f-a5da-86d160bcb97f",
   "metadata": {},
   "outputs": [
    {
     "name": "stdin",
     "output_type": "stream",
     "text": [
      "Enter a value of n :  5\n"
     ]
    },
    {
     "name": "stdout",
     "output_type": "stream",
     "text": [
      "{0, 1}\n"
     ]
    }
   ],
   "source": [
    "'''49. Create a set of alternating 1s and 0s of length `n`.'''\n",
    "n5 = int(input(\"Enter a value of n : \" ))\n",
    "set35 = set()\n",
    "for i in range(n5):\n",
    "    if i%2==0:\n",
    "        set35.add(1)\n",
    "    else:\n",
    "        set35.add(0)\n",
    "print(set35)"
   ]
  },
  {
   "cell_type": "code",
   "execution_count": 40,
   "id": "a93c87c1-b3ec-4580-b746-1a85c262ea0f",
   "metadata": {},
   "outputs": [
    {
     "name": "stdout",
     "output_type": "stream",
     "text": [
      "Al sets are combined into a one set :  {1, 2, 3, 4, 5, 6, 7, 8, 9, 10, 11, 12}\n"
     ]
    }
   ],
   "source": [
    "'''50. Merge multiple sets into one.'''\n",
    "set37={1,2,3}\n",
    "set38={4,5,6}\n",
    "set39={7,8,9}\n",
    "set40={10,11,12}\n",
    "set37.update(set38,set39,set40)\n",
    "print(\"Al sets are combined into a one set : \",set37)"
   ]
  }
 ],
 "metadata": {
  "kernelspec": {
   "display_name": "Python 3 (ipykernel)",
   "language": "python",
   "name": "python3"
  },
  "language_info": {
   "codemirror_mode": {
    "name": "ipython",
    "version": 3
   },
   "file_extension": ".py",
   "mimetype": "text/x-python",
   "name": "python",
   "nbconvert_exporter": "python",
   "pygments_lexer": "ipython3",
   "version": "3.10.8"
  }
 },
 "nbformat": 4,
 "nbformat_minor": 5
}
